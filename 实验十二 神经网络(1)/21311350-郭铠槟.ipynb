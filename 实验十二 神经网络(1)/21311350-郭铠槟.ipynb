{
 "cells": [
  {
   "cell_type": "markdown",
   "id": "e59a56ee",
   "metadata": {},
   "source": [
    "**<font color = black size=6>实验十二：神经网络</font>**"
   ]
  },
  {
   "cell_type": "code",
   "execution_count": 1,
   "id": "62f100c9",
   "metadata": {},
   "outputs": [],
   "source": [
    "import numpy as np\n",
    "import pandas as pd\n",
    "import matplotlib.pyplot as plt\n",
    "import torch\n",
    "import torch.nn as nn\n",
    "import torch.nn.functional as F\n",
    "import torch.optim as optim\n",
    "from torch.autograd import Function\n",
    "import os  "
   ]
  },
  {
   "cell_type": "markdown",
   "id": "11c03386",
   "metadata": {},
   "source": [
    "本实验使用Pytorch框架搭建神经网络，其他类似的框架还有TensorFlow。若同学对TensorFlow框架更为熟悉，可使用TensorFlow完成本次实验"
   ]
  },
  {
   "cell_type": "markdown",
   "id": "eebaf0fe",
   "metadata": {},
   "source": [
    "**<font color = blue size=4>第一部分:PyTorch介绍</font>**"
   ]
  },
  {
   "cell_type": "markdown",
   "id": "2a394db6",
   "metadata": {},
   "source": [
    "这里介绍一小部分PyTorch常用的库和函数，更多需求可参阅[PyTorch官方教程](https://pytorch.org/tutorials/beginner/deep_learning_60min_blitz.html)以及[PyTorch官方文档](https://pytorch.org/docs/stable/index.html)。"
   ]
  },
  {
   "cell_type": "code",
   "execution_count": 2,
   "id": "6fae149b",
   "metadata": {},
   "outputs": [
    {
     "name": "stdout",
     "output_type": "stream",
     "text": [
      "2.1.0+cu121\n"
     ]
    }
   ],
   "source": [
    " print(torch.__version__) # 输出当前版本"
   ]
  },
  {
   "cell_type": "markdown",
   "id": "392780bb",
   "metadata": {},
   "source": [
    "**<font color = green size=3>1.Tensor</font>**"
   ]
  },
  {
   "cell_type": "markdown",
   "id": "904623e4",
   "metadata": {},
   "source": [
    "Tensor与NumPy中的ndarray很相似，但Tensor可以利用GPU来加速计算（本次实验中暂不涉及这部分内容）。"
   ]
  },
  {
   "cell_type": "markdown",
   "id": "23642996",
   "metadata": {},
   "source": [
    "1.1. Tensor的创建"
   ]
  },
  {
   "cell_type": "code",
   "execution_count": 3,
   "id": "38cdf3ad",
   "metadata": {},
   "outputs": [
    {
     "name": "stdout",
     "output_type": "stream",
     "text": [
      "tensor([[0., 0., 0.],\n",
      "        [0., 0., 0.]])\n",
      "tensor([[1, 2, 3],\n",
      "        [4, 5, 6]])\n",
      "tensor([[0.1305, 0.1829, 0.8020, 0.2264],\n",
      "        [0.2422, 0.3832, 0.6763, 0.8930],\n",
      "        [0.6743, 0.7726, 0.2031, 0.2531]])\n",
      "tensor([[0., 0., 0.],\n",
      "        [0., 0., 0.]])\n",
      "tensor([[1., 1., 1.],\n",
      "        [1., 1., 1.]])\n"
     ]
    }
   ],
   "source": [
    "# 创建一个未初始化的Tensor\n",
    "x = torch.empty(2, 3)\n",
    "print(x)\n",
    "\n",
    "# 从一个列表创建Tensor\n",
    "x = torch.tensor([[1,2,3],[4,5,6]])\n",
    "print(x)\n",
    "\n",
    "# 创建一个随机Tensor\n",
    "x = torch.rand([3, 4])\n",
    "print(x)\n",
    "\n",
    "# 创建一个全零Tensor\n",
    "x = torch.zeros([2, 3])\n",
    "print(x)\n",
    "\n",
    "# 创建一个全一Tensor\n",
    "x = torch.ones([2, 3])\n",
    "print(x)"
   ]
  },
  {
   "cell_type": "markdown",
   "id": "9f354fd4",
   "metadata": {},
   "source": [
    "1.2. Tensor的运算"
   ]
  },
  {
   "cell_type": "code",
   "execution_count": 4,
   "id": "8070a903",
   "metadata": {},
   "outputs": [
    {
     "name": "stdout",
     "output_type": "stream",
     "text": [
      "tensor([[7, 7, 7],\n",
      "        [7, 7, 7]])\n",
      "tensor([[-5, -3, -1],\n",
      "        [ 1,  3,  5]])\n",
      "tensor([[ 6, 10, 12],\n",
      "        [12, 10,  6]])\n",
      "tensor([[ 6, 10, 12],\n",
      "        [12, 10,  6]])\n",
      "tensor([[28, 10],\n",
      "        [73, 28]])\n",
      "tensor([[28, 10],\n",
      "        [73, 28]])\n",
      "tensor([[1, 2],\n",
      "        [3, 4],\n",
      "        [5, 6]])\n",
      "tensor([[1, 2, 3],\n",
      "        [4, 5, 6],\n",
      "        [6, 5, 4],\n",
      "        [3, 2, 1]])\n",
      "tensor([[1, 2, 3, 6, 5, 4],\n",
      "        [4, 5, 6, 3, 2, 1]])\n"
     ]
    }
   ],
   "source": [
    "# 加减法\n",
    "x = torch.tensor([[1,2,3],\n",
    "                  [4,5,6]])\n",
    "y = torch.tensor([[6,5,4],\n",
    "                  [3,2,1]])\n",
    "print(x + y)\n",
    "print(x - y)\n",
    "\n",
    "# 对应位置相乘\n",
    "print(x * y)\n",
    "print(x.mul(y))\n",
    "\n",
    "# 矩阵乘法\n",
    "print(x.matmul(y.T))\n",
    "print(x @ y.T)\n",
    "\n",
    "# reshape\n",
    "print(x.reshape(3, 2))\n",
    "\n",
    "# 拼接\n",
    "print(torch.cat([x,y], dim=0)) # 纵向拼接\n",
    "print(torch.cat([x,y], dim=1)) # 横向拼接"
   ]
  },
  {
   "cell_type": "markdown",
   "id": "95961cee",
   "metadata": {},
   "source": [
    "1.3. Tensor与ndarray的相互转换"
   ]
  },
  {
   "cell_type": "code",
   "execution_count": 5,
   "id": "d1269212",
   "metadata": {},
   "outputs": [
    {
     "name": "stdout",
     "output_type": "stream",
     "text": [
      "tensor([[1, 2, 3],\n",
      "        [4, 5, 6]])\n",
      "[[1 2 3]\n",
      " [4 5 6]]\n",
      "[[0 0 0]\n",
      " [0 0 0]]\n",
      "tensor([[0, 0, 0],\n",
      "        [0, 0, 0]])\n"
     ]
    }
   ],
   "source": [
    "x = torch.tensor([[1,2,3],[4,5,6]])\n",
    "print(x)\n",
    "\n",
    "# 从Tensor转换到ndarray\n",
    "y = x.numpy()\n",
    "print(y)\n",
    "\n",
    "# Tensor与ndarray是共享空间的\n",
    "x[:]=0\n",
    "print(y)\n",
    "\n",
    "# 从ndarray到Tensor\n",
    "z = torch.from_numpy(y)\n",
    "print(z)"
   ]
  },
  {
   "cell_type": "markdown",
   "id": "bb6c36a7",
   "metadata": {},
   "source": [
    "**<font color = green size=3>2.梯度计算</font>**"
   ]
  },
  {
   "cell_type": "markdown",
   "id": "c2d3f1a6",
   "metadata": {},
   "source": [
    "2.1 梯度计算"
   ]
  },
  {
   "cell_type": "code",
   "execution_count": 6,
   "id": "9113eb5f",
   "metadata": {},
   "outputs": [
    {
     "name": "stdout",
     "output_type": "stream",
     "text": [
      "tensor([[3., 4.]], device='cuda:0')\n",
      "None\n",
      "tensor(1., device='cuda:0')\n"
     ]
    },
    {
     "data": {
      "text/plain": [
       "1"
      ]
     },
     "execution_count": 6,
     "metadata": {},
     "output_type": "execute_result"
    }
   ],
   "source": [
    "#定义变量\n",
    "a = torch.tensor([[1., 2.]], requires_grad=True, device=torch.device('cuda:0'))\n",
    "b = torch.tensor([[3.], [4.]], device=torch.device('cuda:0'))\n",
    "c = torch.tensor(5., requires_grad=True, device=torch.device('cuda:0'))\n",
    "\n",
    "#计算输出\n",
    "z = a @ b + c\n",
    "\n",
    "#自动计算梯度\n",
    "z.backward()\n",
    "\n",
    "#输出叶子节点的梯度\n",
    "print(a.grad) #z对a的梯度\n",
    "print(b.grad) #由于b默认requires_grad为false，因此无法计算梯度，输出为None\n",
    "print(c.grad) #z对c的梯度\n",
    "\n",
    "torch.cuda.device_count()"
   ]
  },
  {
   "cell_type": "markdown",
   "id": "d4a046cd",
   "metadata": {},
   "source": [
    "2.2 梯度清零"
   ]
  },
  {
   "cell_type": "code",
   "execution_count": 7,
   "id": "04cda9cd",
   "metadata": {},
   "outputs": [
    {
     "name": "stdout",
     "output_type": "stream",
     "text": [
      "梯度（a.grad）: tensor([0.1966, 0.1966, 0.1966, 0.1966, 0.1966, 0.1966, 0.1966, 0.1966, 0.1966,\n",
      "        0.1966, 0.1966, 0.1966, 0.1966, 0.1966, 0.1966, 0.1966, 0.1966, 0.1966,\n",
      "        0.1966, 0.1966])\n",
      "求梯度后的结果（x.grad）: tensor(4.)\n",
      "求梯度后的结果（x.grad）: tensor(1.)\n"
     ]
    }
   ],
   "source": [
    "#支持多种运算求梯度，如torch.mean(),torch.sum()等\n",
    "a = torch.ones(20, requires_grad=True)\n",
    "z = torch.sum(torch.sigmoid(a))\n",
    "z.backward()\n",
    "print(\"梯度（a.grad）:\", a.grad)\n",
    "\n",
    "\n",
    "#多次求梯度时梯度会累加，可使用tensor.grad.zero_()进行手动清零\n",
    "x = torch.tensor(2., requires_grad=True)\n",
    "y = x ** 2\n",
    "y.backward()\n",
    "print(\"求梯度后的结果（x.grad）:\", x.grad)\n",
    "\n",
    "z = x + 3\n",
    "x.grad.zero_()  #可以将这句进行手动清零的代码注释掉后查看输出结果，来看到梯度清零的作用\n",
    "z.backward()\n",
    "print(\"求梯度后的结果（x.grad）:\", x.grad)\n"
   ]
  },
  {
   "cell_type": "markdown",
   "id": "96d22808",
   "metadata": {},
   "source": [
    "**<font color = green size=3>3. 神经网络</font>**"
   ]
  },
  {
   "cell_type": "markdown",
   "id": "d2064274",
   "metadata": {},
   "source": [
    "3.1 神经网络的构建"
   ]
  },
  {
   "cell_type": "code",
   "execution_count": 8,
   "id": "207b6433",
   "metadata": {
    "scrolled": true
   },
   "outputs": [
    {
     "name": "stdout",
     "output_type": "stream",
     "text": [
      "Net(\n",
      "  (fc1): Linear(in_features=10, out_features=5, bias=True)\n",
      "  (fc2): Linear(in_features=5, out_features=1, bias=True)\n",
      "  (relu): ReLU()\n",
      ")\n"
     ]
    }
   ],
   "source": [
    "# 定义神经网络模型，继承自nn.Module\n",
    "class Net(nn.Module):\n",
    "    #输入层的维度为 input_dim\n",
    "    #隐藏层的维度为 hidden_dim\n",
    "    #输出层的维度为 output_dim\n",
    "    def __init__(self, input_dim, hidden_dim, output_dim):\n",
    "        super(Net, self).__init__()\n",
    "        self.fc1 = nn.Linear(input_dim, hidden_dim)\n",
    "        self.fc2 = nn.Linear(hidden_dim, output_dim)\n",
    "        #激活函数relu，用于在全连接层之间加入非线性变换\n",
    "        self.relu = nn.ReLU()\n",
    "\n",
    "    def forward(self, x):\n",
    "        out = self.fc1(x)\n",
    "        out1 = self.relu(out)\n",
    "        out2 = self.fc2(out1)\n",
    "        return out1,out2\n",
    "\n",
    "\n",
    "# 创建神经网络模型实例并输出\n",
    "net = Net(10,5,1)\n",
    "print(net)"
   ]
  },
  {
   "cell_type": "markdown",
   "id": "91efbf82",
   "metadata": {},
   "source": [
    "3.2 神经网络参数查询"
   ]
  },
  {
   "cell_type": "code",
   "execution_count": 9,
   "id": "6c2a943f",
   "metadata": {},
   "outputs": [
    {
     "name": "stdout",
     "output_type": "stream",
     "text": [
      "[torch.Size([5, 10]), torch.Size([5]), torch.Size([1, 5]), torch.Size([1])]\n",
      "Parameters: [Parameter containing:\n",
      "tensor([[-0.0126,  0.0156, -0.2912, -0.1532, -0.0579,  0.1386,  0.0008, -0.2679,\n",
      "         -0.0102,  0.3106],\n",
      "        [ 0.1346,  0.0698, -0.0770,  0.0839,  0.1571, -0.3155, -0.0081,  0.2816,\n",
      "          0.1080,  0.2747],\n",
      "        [-0.2047,  0.0452,  0.2324,  0.2908, -0.2687, -0.0810, -0.0862,  0.1954,\n",
      "          0.1506, -0.1226],\n",
      "        [-0.0087,  0.0577, -0.0307, -0.0606, -0.1524, -0.1479,  0.0797, -0.0962,\n",
      "         -0.1303,  0.0987],\n",
      "        [-0.1390, -0.2948, -0.1542, -0.2270,  0.1621, -0.2716,  0.1992, -0.2311,\n",
      "         -0.2114,  0.2927]], requires_grad=True), Parameter containing:\n",
      "tensor([-0.0895, -0.1292,  0.3037, -0.1785,  0.1963], requires_grad=True), Parameter containing:\n",
      "tensor([[ 0.0948, -0.4045, -0.1658, -0.2330, -0.1880]], requires_grad=True), Parameter containing:\n",
      "tensor([0.3853], requires_grad=True)]\n"
     ]
    }
   ],
   "source": [
    "# 该神经网络中可学习的参数可以通过net.parameters()访问\n",
    "params = list(net.parameters())\n",
    "print([params[i].size() for i in range(len(params))])  \n",
    "print(\"Parameters:\",params)"
   ]
  },
  {
   "cell_type": "markdown",
   "id": "be5d5c67",
   "metadata": {},
   "source": [
    "3.3 神经网络前向传播"
   ]
  },
  {
   "cell_type": "code",
   "execution_count": 10,
   "id": "b733263e",
   "metadata": {},
   "outputs": [
    {
     "name": "stdout",
     "output_type": "stream",
     "text": [
      "Output of first layer: tensor([[0.0000, 0.5798, 0.4548, 0.0000, 0.0000]], grad_fn=<ReluBackward0>)\n",
      "Output of second layer: tensor([[0.0754]], grad_fn=<AddmmBackward0>)\n"
     ]
    }
   ],
   "source": [
    "net.eval()\n",
    "#输入维度为10，生成数据\n",
    "input=torch.ones([1,10])\n",
    "input=input.float()\n",
    "\n",
    "# 进行一次forward()前向传播\n",
    "output1, output2  = net(input) \n",
    "\n",
    "# 前向传播并输出每一层的输出值\n",
    "print(\"Output of first layer:\", output1)\n",
    "print(\"Output of second layer:\", output2)"
   ]
  },
  {
   "cell_type": "markdown",
   "id": "89909999",
   "metadata": {},
   "source": [
    "3.4 神经网络反向传播"
   ]
  },
  {
   "cell_type": "code",
   "execution_count": 11,
   "id": "8c8f10b5",
   "metadata": {},
   "outputs": [
    {
     "name": "stdout",
     "output_type": "stream",
     "text": [
      "Gradients of first layer:\n",
      "tensor([[ 0.0000,  0.0000,  0.0000,  0.0000,  0.0000,  0.0000,  0.0000,  0.0000,\n",
      "          0.0000,  0.0000],\n",
      "        [-0.3301, -0.3301, -0.3301, -0.3301, -0.3301, -0.3301, -0.3301, -0.3301,\n",
      "         -0.3301, -0.3301],\n",
      "        [-0.1353, -0.1353, -0.1353, -0.1353, -0.1353, -0.1353, -0.1353, -0.1353,\n",
      "         -0.1353, -0.1353],\n",
      "        [ 0.0000,  0.0000,  0.0000,  0.0000,  0.0000,  0.0000,  0.0000,  0.0000,\n",
      "          0.0000,  0.0000],\n",
      "        [ 0.0000,  0.0000,  0.0000,  0.0000,  0.0000,  0.0000,  0.0000,  0.0000,\n",
      "          0.0000,  0.0000]])\n",
      "tensor([ 0.0000, -0.3301, -0.1353,  0.0000,  0.0000])\n",
      "Gradients of second layer:\n",
      "tensor([[0.0000, 0.4732, 0.3711, 0.0000, 0.0000]])\n",
      "tensor([0.8161])\n"
     ]
    }
   ],
   "source": [
    "loss_fn = nn.MSELoss()\n",
    "target = torch.randn(1, 1)\n",
    "loss = loss_fn(output2, target)\n",
    "\n",
    "# 反向传播并输出每一层的梯度\n",
    "net.zero_grad()\n",
    "loss.backward()\n",
    "\n",
    "print(\"Gradients of first layer:\")\n",
    "print(net.fc1.weight.grad)\n",
    "print(net.fc1.bias.grad)\n",
    "\n",
    "print(\"Gradients of second layer:\")\n",
    "print(net.fc2.weight.grad)\n",
    "print(net.fc2.bias.grad)"
   ]
  },
  {
   "cell_type": "markdown",
   "id": "b2c9fb6e",
   "metadata": {},
   "source": [
    "3.5 训练神经网络的全过程例子"
   ]
  },
  {
   "cell_type": "code",
   "execution_count": 12,
   "id": "4126d755",
   "metadata": {},
   "outputs": [
    {
     "name": "stdout",
     "output_type": "stream",
     "text": [
      "[Parameter containing:\n",
      "tensor([[-0.3593]], requires_grad=True), Parameter containing:\n",
      "tensor([-0.0506], requires_grad=True)]\n",
      "Epoch [1/10], Loss: 26.455734252929688 . Gradient: tensor([[-22.2224]])\n",
      "Epoch [2/10], Loss: 20.93194007873535 . Gradient: tensor([[-19.7667]])\n",
      "Epoch [3/10], Loss: 16.565582275390625 . Gradient: tensor([[-17.5835]])\n",
      "Epoch [4/10], Loss: 13.114112854003906 . Gradient: tensor([[-15.6424]])\n",
      "Epoch [5/10], Loss: 10.38581657409668 . Gradient: tensor([[-13.9166]])\n",
      "Epoch [6/10], Loss: 8.229147911071777 . Gradient: tensor([[-12.3823]])\n",
      "Epoch [7/10], Loss: 6.524322509765625 . Gradient: tensor([[-11.0181]])\n",
      "Epoch [8/10], Loss: 5.17665433883667 . Gradient: tensor([[-9.8052]])\n",
      "Epoch [9/10], Loss: 4.111300945281982 . Gradient: tensor([[-8.7269]])\n",
      "Epoch [10/10], Loss: 3.2691032886505127 . Gradient: tensor([[-7.7681]])\n"
     ]
    }
   ],
   "source": [
    "# 创建一个简单的线性回归模型\n",
    "model = nn.Linear(1, 1)\n",
    "print(list(model.parameters()))\n",
    "criterion = nn.MSELoss()\n",
    "optimizer = optim.SGD(model.parameters(), lr=0.01)\n",
    "\n",
    "Epoch=10\n",
    "\n",
    "#生成数据\n",
    "inputs = torch.tensor([[1.0], [2.0], [3.0]])\n",
    "labels = torch.tensor([[2.0], [4.0], [6.0]])\n",
    "\n",
    "# 模拟训练过程\n",
    "for epoch in range(Epoch):\n",
    "    # 模拟输入数据和标签\n",
    "    \n",
    "    # 前向传播\n",
    "    outputs = model(inputs)\n",
    "\n",
    "    # 计算损失\n",
    "    loss = criterion(outputs, labels)\n",
    "    \n",
    "    #梯度清零\n",
    "    optimizer.zero_grad()\n",
    "    \n",
    "    \n",
    "    # 反向传播\n",
    "    loss.backward()\n",
    "\n",
    "    \n",
    "    # 更新参数\n",
    "    optimizer.step()\n",
    "\n",
    "    # 打印梯度值\n",
    "    print('Epoch [{}/{}], Loss: {}'.format(epoch+1,Epoch, loss),'. Gradient: {}'.format(model.weight.grad))\n",
    "    #print('Gradient: {}'.format(model.weight.grad))\n"
   ]
  },
  {
   "cell_type": "markdown",
   "id": "19d39b00",
   "metadata": {},
   "source": [
    "3.5 神经网络参数更新"
   ]
  },
  {
   "cell_type": "markdown",
   "id": "96f54bd7",
   "metadata": {},
   "source": [
    "1) 用梯度下降法(手动)更新net中的参数"
   ]
  },
  {
   "cell_type": "code",
   "execution_count": 13,
   "id": "d7187507",
   "metadata": {},
   "outputs": [],
   "source": [
    "#for f in net.parameters():\n",
    "    #f.data.sub_(f.grad.data * learning_rate)"
   ]
  },
  {
   "cell_type": "markdown",
   "id": "7ee49df5",
   "metadata": {},
   "source": [
    "2) 用PyTorch的优化器来更新net中的参数"
   ]
  },
  {
   "cell_type": "code",
   "execution_count": 14,
   "id": "06d237aa",
   "metadata": {},
   "outputs": [],
   "source": [
    "#选择优化器\n",
    "#optimizer = optim.SGD(net.parameters(), lr=0.01)\n",
    "\n",
    "# 建立循环:\n",
    "#optimizer.zero_grad()             # 梯度清零\n",
    "#output = net(input)               # 前向传播\n",
    "#loss = criterion(output, target)  # 计算误差\n",
    "#loss.backward()                   # 后向传播\n",
    "#optimizer.step()                  # 参数更新"
   ]
  },
  {
   "cell_type": "markdown",
   "id": "50be2d1f",
   "metadata": {},
   "source": [
    "**<font color = blue size=4>第二部分:实验内容</font>**"
   ]
  },
  {
   "cell_type": "markdown",
   "id": "ba5214e5",
   "metadata": {},
   "source": [
    "[Red Wine Quality](https://www.kaggle.com/datasets/uciml/red-wine-quality-cortez-et-al-2009)是一个关于红酒品质的数据集，总共有1599个样本，每个样本包含11个(都是连续的)特征以及1个标签，每个标签的取值是连续的。本次实验已经按照8：2的比例划分成了训练数据集'wine_train.csv'以及测试数据集'wine_test.csv'，且每个数据集都已经做了归一化处理。"
   ]
  },
  {
   "cell_type": "markdown",
   "id": "d4d9ccac",
   "metadata": {},
   "source": [
    "<span style=\"color:purple\">1) 读入训练数据集'wine_train.csv'与测试数据集'wine_test.csv'。</span>"
   ]
  },
  {
   "cell_type": "code",
   "execution_count": 32,
   "id": "c759660f",
   "metadata": {},
   "outputs": [
    {
     "data": {
      "text/plain": [
       "tensor([[0.3540, 0.2397, 0.2700,  ..., 0.3465, 0.2814, 0.4308],\n",
       "        [0.1770, 0.5034, 0.0200,  ..., 0.6299, 0.1617, 0.4000],\n",
       "        [0.5221, 0.0822, 0.4700,  ..., 0.3228, 0.3413, 0.4000],\n",
       "        ...,\n",
       "        [0.2301, 0.3082, 0.0500,  ..., 0.5039, 0.1617, 0.2923],\n",
       "        [0.2832, 0.3082, 0.3100,  ..., 0.4331, 0.1198, 0.1385],\n",
       "        [0.1947, 0.3836, 0.2100,  ..., 0.5039, 0.1617, 0.2923]])"
      ]
     },
     "execution_count": 32,
     "metadata": {},
     "output_type": "execute_result"
    }
   ],
   "source": [
    "#your code here\n",
    "# 读取训练数据集\n",
    "train_frame = pd.read_csv('wine_train.csv')\n",
    "# 读取测试数据集\n",
    "test_frame = pd.read_csv('wine_test.csv')\n",
    "\n",
    "# 将数据转换为张量\n",
    "X_train = torch.tensor(train_frame.drop('quality', axis=1).values, dtype=torch.float32)\n",
    "y_train = torch.tensor(train_frame['quality'].values, dtype=torch.float32)\n",
    "\n",
    "X_test = torch.tensor(test_frame.drop('quality', axis=1).values, dtype=torch.float32)\n",
    "y_test = torch.tensor(test_frame['quality'].values, dtype=torch.float32)\n",
    "\n",
    "X_train"
   ]
  },
  {
   "cell_type": "markdown",
   "id": "d77619fd",
   "metadata": {},
   "source": [
    "<span style=\"color:purple\">2) 利用线性层和激活函数搭建一个神经网络，要求输入和输出维度与数据集维度一致，而神经网络深度、隐藏层大小、激活函数种类等超参数自行调整。</span>"
   ]
  },
  {
   "cell_type": "code",
   "execution_count": 33,
   "id": "26359bae",
   "metadata": {},
   "outputs": [],
   "source": [
    "#your code here\n",
    "class Net(nn.Module):\n",
    "    def __init__(self, input_size, hidden_size, output_size):\n",
    "        super(Net, self).__init__()\n",
    "        self.fc1 = nn.Linear(input_size, hidden_size)\n",
    "        self.relu = nn.ReLU()\n",
    "        self.fc2 = nn.Linear(hidden_size, output_size)\n",
    "\n",
    "    def forward(self, x):\n",
    "        x = self.fc1(x)\n",
    "        x = self.relu(x)\n",
    "        x = self.fc2(x)\n",
    "        return x\n",
    "\n",
    "input_dim = 11\n",
    "hidden_dim = 50\n",
    "output_dim = 1\n",
    "\n",
    "net = Net(input_dim, hidden_dim, output_dim)"
   ]
  },
  {
   "cell_type": "markdown",
   "id": "9b706eea",
   "metadata": {},
   "source": [
    "<span style=\"color:purple\">3) 用PyTorch的优化器(随机梯度下降)来进行模型参数更新，记下每轮迭代中的训练损失和测试损失。</span>"
   ]
  },
  {
   "cell_type": "code",
   "execution_count": 34,
   "id": "cad2f094",
   "metadata": {},
   "outputs": [
    {
     "name": "stdout",
     "output_type": "stream",
     "text": [
      "Epoch 1/50, Train Loss: 0.3528, Test Loss: 0.3152\n",
      "Epoch 2/50, Train Loss: 0.3158, Test Loss: 0.2823\n",
      "Epoch 3/50, Train Loss: 0.2828, Test Loss: 0.2530\n",
      "Epoch 4/50, Train Loss: 0.2535, Test Loss: 0.2269\n",
      "Epoch 5/50, Train Loss: 0.2275, Test Loss: 0.2038\n",
      "Epoch 6/50, Train Loss: 0.2043, Test Loss: 0.1832\n",
      "Epoch 7/50, Train Loss: 0.1837, Test Loss: 0.1649\n",
      "Epoch 8/50, Train Loss: 0.1654, Test Loss: 0.1487\n",
      "Epoch 9/50, Train Loss: 0.1491, Test Loss: 0.1343\n",
      "Epoch 10/50, Train Loss: 0.1347, Test Loss: 0.1215\n",
      "Epoch 11/50, Train Loss: 0.1218, Test Loss: 0.1102\n",
      "Epoch 12/50, Train Loss: 0.1105, Test Loss: 0.1002\n",
      "Epoch 13/50, Train Loss: 0.1004, Test Loss: 0.0913\n",
      "Epoch 14/50, Train Loss: 0.0915, Test Loss: 0.0835\n",
      "Epoch 15/50, Train Loss: 0.0836, Test Loss: 0.0766\n",
      "Epoch 16/50, Train Loss: 0.0767, Test Loss: 0.0704\n",
      "Epoch 17/50, Train Loss: 0.0705, Test Loss: 0.0650\n",
      "Epoch 18/50, Train Loss: 0.0650, Test Loss: 0.0603\n",
      "Epoch 19/50, Train Loss: 0.0602, Test Loss: 0.0561\n",
      "Epoch 20/50, Train Loss: 0.0560, Test Loss: 0.0524\n",
      "Epoch 21/50, Train Loss: 0.0522, Test Loss: 0.0491\n",
      "Epoch 22/50, Train Loss: 0.0489, Test Loss: 0.0463\n",
      "Epoch 23/50, Train Loss: 0.0460, Test Loss: 0.0438\n",
      "Epoch 24/50, Train Loss: 0.0435, Test Loss: 0.0416\n",
      "Epoch 25/50, Train Loss: 0.0412, Test Loss: 0.0396\n",
      "Epoch 26/50, Train Loss: 0.0392, Test Loss: 0.0379\n",
      "Epoch 27/50, Train Loss: 0.0375, Test Loss: 0.0364\n",
      "Epoch 28/50, Train Loss: 0.0359, Test Loss: 0.0351\n",
      "Epoch 29/50, Train Loss: 0.0346, Test Loss: 0.0340\n",
      "Epoch 30/50, Train Loss: 0.0334, Test Loss: 0.0329\n",
      "Epoch 31/50, Train Loss: 0.0324, Test Loss: 0.0321\n",
      "Epoch 32/50, Train Loss: 0.0314, Test Loss: 0.0313\n",
      "Epoch 33/50, Train Loss: 0.0306, Test Loss: 0.0306\n",
      "Epoch 34/50, Train Loss: 0.0299, Test Loss: 0.0300\n",
      "Epoch 35/50, Train Loss: 0.0293, Test Loss: 0.0295\n",
      "Epoch 36/50, Train Loss: 0.0288, Test Loss: 0.0290\n",
      "Epoch 37/50, Train Loss: 0.0283, Test Loss: 0.0286\n",
      "Epoch 38/50, Train Loss: 0.0279, Test Loss: 0.0283\n",
      "Epoch 39/50, Train Loss: 0.0275, Test Loss: 0.0280\n",
      "Epoch 40/50, Train Loss: 0.0272, Test Loss: 0.0277\n",
      "Epoch 41/50, Train Loss: 0.0269, Test Loss: 0.0275\n",
      "Epoch 42/50, Train Loss: 0.0266, Test Loss: 0.0273\n",
      "Epoch 43/50, Train Loss: 0.0264, Test Loss: 0.0271\n",
      "Epoch 44/50, Train Loss: 0.0262, Test Loss: 0.0269\n",
      "Epoch 45/50, Train Loss: 0.0260, Test Loss: 0.0268\n",
      "Epoch 46/50, Train Loss: 0.0259, Test Loss: 0.0267\n",
      "Epoch 47/50, Train Loss: 0.0257, Test Loss: 0.0266\n",
      "Epoch 48/50, Train Loss: 0.0256, Test Loss: 0.0265\n",
      "Epoch 49/50, Train Loss: 0.0255, Test Loss: 0.0264\n",
      "Epoch 50/50, Train Loss: 0.0254, Test Loss: 0.0263\n"
     ]
    }
   ],
   "source": [
    "#your code here\n",
    "# 定义损失函数和优化器\n",
    "criterion = nn.MSELoss()\n",
    "optimizer = optim.SGD(net.parameters(), lr=0.01)  # 使用随机梯度下降优化器，学习率为0.01\n",
    "\n",
    "# 记录每轮迭代中的训练损失和测试损失\n",
    "train_losses = []\n",
    "test_losses = []\n",
    "\n",
    "# 设置训练轮数\n",
    "epochs = 50 \n",
    "\n",
    "# 训练循环\n",
    "for epoch in range(epochs):\n",
    "    # 设置模型为训练模式\n",
    "    net.train()\n",
    "\n",
    "    # 训练数据集\n",
    "    optimizer.zero_grad()  # 梯度清零\n",
    "    outputs = net(X_train)\n",
    "    loss = criterion(outputs, y_train.view(-1, 1))\n",
    "    loss.backward()  # 反向传播\n",
    "    optimizer.step()  # 更新参数\n",
    "    train_losses.append(loss.item())\n",
    "\n",
    "    # 测试\n",
    "    net.eval()\n",
    "    with torch.no_grad():\n",
    "        test_outputs = net(X_test)\n",
    "        test_loss = criterion(test_outputs, y_test.view(-1, 1))\n",
    "        test_losses.append(test_loss.item())\n",
    "\n",
    "    print(f'Epoch {epoch + 1}/{epochs}, Train Loss: {loss.item():.4f}, Test Loss: {test_loss.item():.4f}')\n"
   ]
  },
  {
   "cell_type": "markdown",
   "id": "ff5ff45e",
   "metadata": {},
   "source": [
    "<span style=\"color:purple\">4) 画出训练损失和测试损失关于迭代轮数的折线图。</span>"
   ]
  },
  {
   "cell_type": "code",
   "execution_count": 35,
   "id": "3ba3071f",
   "metadata": {},
   "outputs": [
    {
     "data": {
      "image/png": "[encoded data removed]",
      "text/plain": [
       "<Figure size 640x480 with 1 Axes>"
      ]
     },
     "metadata": {},
     "output_type": "display_data"
    }
   ],
   "source": [
    "#your code here\n",
    "# 画出训练损失和测试损失的折线图\n",
    "plt.plot(range(1, epochs + 1), train_losses, label='Train Loss')\n",
    "plt.plot(range(1, epochs + 1), test_losses, label='Test Loss')\n",
    "plt.xlabel('Epochs')\n",
    "plt.ylabel('Loss')\n",
    "plt.legend()\n",
    "plt.show()"
   ]
  },
  {
   "cell_type": "markdown",
   "id": "fbaceea0",
   "metadata": {},
   "source": [
    "**<font color = blue size=4>第三部分:作业提交</font>**"
   ]
  },
  {
   "cell_type": "markdown",
   "id": "4564e8a6",
   "metadata": {},
   "source": [
    "一、实验课下课前提交完成代码，如果下课前未完成，请将已经完成的部分进行提交，未完成的部分于之后的实验报告中进行补充  \n",
    "要求:  \n",
    "1)文件格式为：学号-姓名.ipynb  \n",
    "2)【不要】提交文件夹、压缩包、数据集等无关文件，只需提交单个ipynb文件即可"
   ]
  },
  {
   "cell_type": "markdown",
   "id": "10af5b08",
   "metadata": {},
   "source": [
    "二、本次实验分为两周完成，实验报告提交截止日期: 12月15号14:20  \n",
    "要求：  \n",
    "1)文件格式为：学号-姓名.pdf  \n",
    "2)【不要】提交文件夹、压缩包、代码文件、数据集等任何与实验报告无关的文件，只需要提交单个pdf文件即可  \n",
    "3)文件命名时不需要额外添加“实验几”等额外信息，按照格式提交  "
   ]
  },
  {
   "cell_type": "markdown",
   "id": "b50e73e3",
   "metadata": {},
   "source": [
    "实验十二(神经网络)的实验报告上交地址: https://send2me.cn/Wk9FsyYO/SKCBsWeFtvwQsg"
   ]
  },
  {
   "cell_type": "markdown",
   "id": "26db7ee4",
   "metadata": {},
   "source": [
    "三、课堂课件获取地址:https://www.jianguoyun.com/p/DWHYtsEQp5WhChjwtKoFIAA\n",
    "实验内容获取地址:https://www.jianguoyun.com/p/DbNY_SIQp5WhChjvtKoFIAA"
   ]
  }
 ],
 "metadata": {
  "kernelspec": {
   "display_name": "Python 3 (ipykernel)",
   "language": "python",
   "name": "python3"
  },
  "language_info": {
   "codemirror_mode": {
    "name": "ipython",
    "version": 3
   },
   "file_extension": ".py",
   "mimetype": "text/x-python",
   "name": "python",
   "nbconvert_exporter": "python",
   "pygments_lexer": "ipython3",
   "version": "3.11.4"
  }
 },
 "nbformat": 4,
 "nbformat_minor": 5
}
