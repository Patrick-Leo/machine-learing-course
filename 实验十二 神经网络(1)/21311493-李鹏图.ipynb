{
 "cells": [
  {
   "cell_type": "markdown",
   "id": "e59a56ee",
   "metadata": {},
   "source": [
    "**<font color = black size=6>实验十二：神经网络</font>**"
   ]
  },
  {
   "cell_type": "code",
   "execution_count": 376,
   "id": "62f100c9",
   "metadata": {},
   "outputs": [],
   "source": [
    "import numpy as np\n",
    "import pandas as pd\n",
    "import matplotlib.pyplot as plt\n",
    "import torch\n",
    "import torch.nn as nn\n",
    "import torch.nn.functional as F\n",
    "import torch.optim as optim\n",
    "from torch.autograd import Function\n",
    "import torch.utils.data as Data\n",
    "import os  "
   ]
  },
  {
   "cell_type": "markdown",
   "id": "11c03386",
   "metadata": {},
   "source": [
    "本实验使用Pytorch框架搭建神经网络，其他类似的框架还有TensorFlow。若同学对TensorFlow框架更为熟悉，可使用TensorFlow完成本次实验"
   ]
  },
  {
   "cell_type": "markdown",
   "id": "eebaf0fe",
   "metadata": {},
   "source": [
    "**<font color = blue size=4>第一部分:PyTorch介绍</font>**"
   ]
  },
  {
   "cell_type": "markdown",
   "id": "2a394db6",
   "metadata": {},
   "source": [
    "这里介绍一小部分PyTorch常用的库和函数，更多需求可参阅[PyTorch官方教程](https://pytorch.org/tutorials/beginner/deep_learning_60min_blitz.html)以及[PyTorch官方文档](https://pytorch.org/docs/stable/index.html)。"
   ]
  },
  {
   "cell_type": "code",
   "execution_count": 377,
   "id": "6fae149b",
   "metadata": {},
   "outputs": [
    {
     "name": "stdout",
     "output_type": "stream",
     "text": [
      "1.12.1\n"
     ]
    }
   ],
   "source": [
    "print(torch.__version__) # 输出当前版本"
   ]
  },
  {
   "cell_type": "markdown",
   "id": "392780bb",
   "metadata": {},
   "source": [
    "**<font color = green size=3>1.Tensor</font>**"
   ]
  },
  {
   "cell_type": "markdown",
   "id": "904623e4",
   "metadata": {},
   "source": [
    "Tensor与NumPy中的ndarray很相似，但Tensor可以利用GPU来加速计算（本次实验中暂不涉及这部分内容）。"
   ]
  },
  {
   "cell_type": "markdown",
   "id": "23642996",
   "metadata": {},
   "source": [
    "1.1. Tensor的创建"
   ]
  },
  {
   "cell_type": "code",
   "execution_count": 378,
   "id": "38cdf3ad",
   "metadata": {},
   "outputs": [
    {
     "name": "stdout",
     "output_type": "stream",
     "text": [
      "tensor([[0.0000, 4.3750, 0.0000],\n",
      "        [0.0000, 0.0000, 4.6602]])\n",
      "tensor([[1, 2, 3],\n",
      "        [4, 5, 6]])\n",
      "tensor([[0.4984, 0.0829, 0.0763, 0.0897],\n",
      "        [0.9556, 0.1520, 0.0471, 0.2106],\n",
      "        [0.1513, 0.7917, 0.5539, 0.3053]])\n",
      "tensor([[0., 0., 0.],\n",
      "        [0., 0., 0.]])\n",
      "tensor([[1., 1., 1.],\n",
      "        [1., 1., 1.]])\n"
     ]
    }
   ],
   "source": [
    "# 创建一个未初始化的Tensor\n",
    "x = torch.empty(2, 3)\n",
    "print(x)\n",
    "\n",
    "# 从一个列表创建Tensor\n",
    "x = torch.tensor([[1,2,3],[4,5,6]])\n",
    "print(x)\n",
    "\n",
    "# 创建一个随机Tensor\n",
    "x = torch.rand([3, 4])\n",
    "print(x)\n",
    "\n",
    "# 创建一个全零Tensor\n",
    "x = torch.zeros([2, 3])\n",
    "print(x)\n",
    "\n",
    "# 创建一个全一Tensor\n",
    "x = torch.ones([2, 3])\n",
    "print(x)"
   ]
  },
  {
   "cell_type": "markdown",
   "id": "9f354fd4",
   "metadata": {},
   "source": [
    "1.2. Tensor的运算"
   ]
  },
  {
   "cell_type": "code",
   "execution_count": 379,
   "id": "8070a903",
   "metadata": {},
   "outputs": [
    {
     "name": "stdout",
     "output_type": "stream",
     "text": [
      "tensor([[7, 7, 7],\n",
      "        [7, 7, 7]])\n",
      "tensor([[-5, -3, -1],\n",
      "        [ 1,  3,  5]])\n",
      "tensor([[ 6, 10, 12],\n",
      "        [12, 10,  6]])\n",
      "tensor([[ 6, 10, 12],\n",
      "        [12, 10,  6]])\n",
      "tensor([[28, 10],\n",
      "        [73, 28]])\n",
      "tensor([[28, 10],\n",
      "        [73, 28]])\n",
      "tensor([[1, 2],\n",
      "        [3, 4],\n",
      "        [5, 6]])\n",
      "tensor([[1, 2, 3],\n",
      "        [4, 5, 6],\n",
      "        [6, 5, 4],\n",
      "        [3, 2, 1]])\n",
      "tensor([[1, 2, 3, 6, 5, 4],\n",
      "        [4, 5, 6, 3, 2, 1]])\n"
     ]
    }
   ],
   "source": [
    "# 加减法\n",
    "x = torch.tensor([[1,2,3],\n",
    "                  [4,5,6]])\n",
    "y = torch.tensor([[6,5,4],\n",
    "                  [3,2,1]])\n",
    "print(x + y)\n",
    "print(x - y)\n",
    "\n",
    "# 对应位置相乘\n",
    "print(x * y)\n",
    "print(x.mul(y))\n",
    "\n",
    "# 矩阵乘法\n",
    "print(x.matmul(y.T))\n",
    "print(x @ y.T)\n",
    "\n",
    "# reshape\n",
    "print(x.reshape(3, 2))\n",
    "\n",
    "# 拼接\n",
    "print(torch.cat([x,y], dim=0)) # 纵向拼接\n",
    "print(torch.cat([x,y], dim=1)) # 横向拼接"
   ]
  },
  {
   "cell_type": "markdown",
   "id": "95961cee",
   "metadata": {},
   "source": [
    "1.3. Tensor与ndarray的相互转换"
   ]
  },
  {
   "cell_type": "code",
   "execution_count": 380,
   "id": "d1269212",
   "metadata": {},
   "outputs": [
    {
     "name": "stdout",
     "output_type": "stream",
     "text": [
      "tensor([[1, 2, 3],\n",
      "        [4, 5, 6]])\n",
      "[[1 2 3]\n",
      " [4 5 6]]\n",
      "[[0 0 0]\n",
      " [0 0 0]]\n",
      "tensor([[0, 0, 0],\n",
      "        [0, 0, 0]])\n"
     ]
    }
   ],
   "source": [
    "x = torch.tensor([[1,2,3],[4,5,6]])\n",
    "print(x)\n",
    "\n",
    "# 从Tensor转换到ndarray\n",
    "y = x.numpy()\n",
    "print(y)\n",
    "\n",
    "# Tensor与ndarray是共享空间的\n",
    "x[:]=0\n",
    "print(y)\n",
    "\n",
    "# 从ndarray到Tensor\n",
    "z = torch.from_numpy(y)\n",
    "print(z)"
   ]
  },
  {
   "cell_type": "markdown",
   "id": "bb6c36a7",
   "metadata": {},
   "source": [
    "**<font color = green size=3>2.梯度计算</font>**"
   ]
  },
  {
   "cell_type": "markdown",
   "id": "c2d3f1a6",
   "metadata": {},
   "source": [
    "2.1 梯度计算"
   ]
  },
  {
   "cell_type": "code",
   "execution_count": 381,
   "id": "9113eb5f",
   "metadata": {},
   "outputs": [
    {
     "name": "stdout",
     "output_type": "stream",
     "text": [
      "tensor([[3., 4.]])\n",
      "None\n",
      "tensor(1.)\n"
     ]
    }
   ],
   "source": [
    "#定义变量\n",
    "a = torch.tensor([[1., 2.]], requires_grad=True)\n",
    "b = torch.tensor([[3.], [4.]])\n",
    "c = torch.tensor(5., requires_grad=True)\n",
    "\n",
    "#计算输出\n",
    "z = a @ b + c\n",
    "\n",
    "#自动计算梯度\n",
    "z.backward()\n",
    "\n",
    "#输出叶子节点的梯度\n",
    "print(a.grad) #z对a的梯度\n",
    "print(b.grad) #由于b默认requires_grad为false，因此无法计算梯度，输出为None\n",
    "print(c.grad) #z对c的梯度"
   ]
  },
  {
   "cell_type": "markdown",
   "id": "d4a046cd",
   "metadata": {},
   "source": [
    "2.2 梯度清零"
   ]
  },
  {
   "cell_type": "code",
   "execution_count": 382,
   "id": "04cda9cd",
   "metadata": {},
   "outputs": [
    {
     "name": "stdout",
     "output_type": "stream",
     "text": [
      "梯度（a.grad）: tensor([0.1966, 0.1966, 0.1966, 0.1966, 0.1966, 0.1966, 0.1966, 0.1966, 0.1966,\n",
      "        0.1966, 0.1966, 0.1966, 0.1966, 0.1966, 0.1966, 0.1966, 0.1966, 0.1966,\n",
      "        0.1966, 0.1966])\n",
      "求梯度后的结果（x.grad）: tensor(4.)\n",
      "求梯度后的结果（x.grad）: tensor(1.)\n"
     ]
    }
   ],
   "source": [
    "#支持多种运算求梯度，如torch.mean(),torch.sum()等\n",
    "a = torch.ones(20, requires_grad=True)\n",
    "z = torch.sum(torch.sigmoid(a))\n",
    "z.backward()\n",
    "print(\"梯度（a.grad）:\", a.grad)\n",
    "\n",
    "\n",
    "#多次求梯度时梯度会累加，可使用tensor.grad.zero_()进行手动清零\n",
    "x = torch.tensor(2., requires_grad=True)\n",
    "y = x ** 2\n",
    "y.backward()\n",
    "print(\"求梯度后的结果（x.grad）:\", x.grad)\n",
    "\n",
    "z = x + 3\n",
    "x.grad.zero_()  #可以将这句进行手动清零的代码注释掉后查看输出结果，来看到梯度清零的作用\n",
    "z.backward()\n",
    "print(\"求梯度后的结果（x.grad）:\", x.grad)\n"
   ]
  },
  {
   "cell_type": "markdown",
   "id": "96d22808",
   "metadata": {},
   "source": [
    "**<font color = green size=3>3. 神经网络</font>**"
   ]
  },
  {
   "cell_type": "markdown",
   "id": "d2064274",
   "metadata": {},
   "source": [
    "3.1 神经网络的构建"
   ]
  },
  {
   "cell_type": "code",
   "execution_count": 383,
   "id": "207b6433",
   "metadata": {
    "scrolled": true
   },
   "outputs": [
    {
     "name": "stdout",
     "output_type": "stream",
     "text": [
      "Net(\n",
      "  (fc1): Linear(in_features=10, out_features=5, bias=True)\n",
      "  (fc2): Linear(in_features=5, out_features=1, bias=True)\n",
      "  (relu): ReLU()\n",
      ")\n"
     ]
    }
   ],
   "source": [
    "# 定义神经网络模型，继承自nn.Module\n",
    "class Net(nn.Module):\n",
    "    #输入层的维度为 input_dim\n",
    "    #隐藏层的维度为 hidden_dim\n",
    "    #输出层的维度为 output_dim\n",
    "    def __init__(self, input_dim, hidden_dim, output_dim):\n",
    "        super(Net, self).__init__()\n",
    "        self.fc1 = nn.Linear(input_dim, hidden_dim)\n",
    "        self.fc2 = nn.Linear(hidden_dim, output_dim)\n",
    "        #激活函数relu，用于在全连接层之间加入非线性变换\n",
    "        self.relu = nn.ReLU()\n",
    "\n",
    "    def forward(self, x):\n",
    "        out = self.fc1(x)\n",
    "        out1 = self.relu(out)\n",
    "        out2 = self.fc2(out1)\n",
    "        return out1,out2\n",
    "\n",
    "\n",
    "# 创建神经网络模型实例并输出\n",
    "net = Net(10,5,1)\n",
    "print(net)"
   ]
  },
  {
   "cell_type": "markdown",
   "id": "91efbf82",
   "metadata": {},
   "source": [
    "3.2 神经网络参数查询"
   ]
  },
  {
   "cell_type": "code",
   "execution_count": 384,
   "id": "6c2a943f",
   "metadata": {},
   "outputs": [
    {
     "name": "stdout",
     "output_type": "stream",
     "text": [
      "[torch.Size([5, 10]), torch.Size([5]), torch.Size([1, 5]), torch.Size([1])]\n",
      "Parameters: [Parameter containing:\n",
      "tensor([[ 0.2254,  0.1326, -0.2645, -0.2574,  0.1168, -0.0413,  0.0550,  0.0943,\n",
      "         -0.2911, -0.0972],\n",
      "        [-0.1666,  0.2227,  0.1626, -0.1171,  0.1549,  0.1910, -0.1510, -0.2714,\n",
      "         -0.0763, -0.2110],\n",
      "        [-0.2266,  0.1093, -0.3015,  0.0005,  0.0224, -0.0306, -0.2671,  0.2207,\n",
      "         -0.1438,  0.0893],\n",
      "        [-0.0893,  0.0357,  0.2323,  0.1205,  0.2425, -0.2000, -0.0400, -0.0605,\n",
      "         -0.0683,  0.1537],\n",
      "        [-0.2201, -0.2474, -0.0028, -0.0483,  0.0982,  0.2857, -0.0210, -0.0109,\n",
      "          0.1122,  0.1370]], requires_grad=True), Parameter containing:\n",
      "tensor([ 0.2239,  0.0632, -0.2579, -0.0268,  0.0507], requires_grad=True), Parameter containing:\n",
      "tensor([[-0.1764, -0.3354, -0.0063, -0.1894, -0.2073]], requires_grad=True), Parameter containing:\n",
      "tensor([0.1283], requires_grad=True)]\n"
     ]
    }
   ],
   "source": [
    "# 该神经网络中可学习的参数可以通过net.parameters()访问\n",
    "params = list(net.parameters())\n",
    "print([params[i].size() for i in range(len(params))])  \n",
    "print(\"Parameters:\",params)"
   ]
  },
  {
   "cell_type": "markdown",
   "id": "be5d5c67",
   "metadata": {},
   "source": [
    "3.3 神经网络前向传播"
   ]
  },
  {
   "cell_type": "code",
   "execution_count": 385,
   "id": "b733263e",
   "metadata": {},
   "outputs": [
    {
     "name": "stdout",
     "output_type": "stream",
     "text": [
      "Output of first layer: tensor([[0.0000, 0.0000, 0.0000, 0.2999, 0.1334]], grad_fn=<ReluBackward0>)\n",
      "Output of second layer: tensor([[0.0439]], grad_fn=<AddmmBackward0>)\n"
     ]
    }
   ],
   "source": [
    "net.eval()\n",
    "#输入维度为10，生成数据\n",
    "input=torch.ones([1,10])\n",
    "input=input.float()\n",
    "\n",
    "# 进行一次forward()前向传播\n",
    "output1, output2  = net(input) \n",
    "\n",
    "# 前向传播并输出每一层的输出值\n",
    "print(\"Output of first layer:\", output1)\n",
    "print(\"Output of second layer:\", output2)"
   ]
  },
  {
   "cell_type": "markdown",
   "id": "89909999",
   "metadata": {},
   "source": [
    "3.4 神经网络反向传播"
   ]
  },
  {
   "cell_type": "code",
   "execution_count": 386,
   "id": "8c8f10b5",
   "metadata": {},
   "outputs": [
    {
     "name": "stdout",
     "output_type": "stream",
     "text": [
      "Gradients of first layer:\n",
      "tensor([[ 0.0000,  0.0000,  0.0000,  0.0000,  0.0000,  0.0000,  0.0000,  0.0000,\n",
      "          0.0000,  0.0000],\n",
      "        [ 0.0000,  0.0000,  0.0000,  0.0000,  0.0000,  0.0000,  0.0000,  0.0000,\n",
      "          0.0000,  0.0000],\n",
      "        [ 0.0000,  0.0000,  0.0000,  0.0000,  0.0000,  0.0000,  0.0000,  0.0000,\n",
      "          0.0000,  0.0000],\n",
      "        [-0.2294, -0.2294, -0.2294, -0.2294, -0.2294, -0.2294, -0.2294, -0.2294,\n",
      "         -0.2294, -0.2294],\n",
      "        [-0.2512, -0.2512, -0.2512, -0.2512, -0.2512, -0.2512, -0.2512, -0.2512,\n",
      "         -0.2512, -0.2512]])\n",
      "tensor([ 0.0000,  0.0000,  0.0000, -0.2294, -0.2512])\n",
      "Gradients of second layer:\n",
      "tensor([[0.0000, 0.0000, 0.0000, 0.3633, 0.1616]])\n",
      "tensor([1.2115])\n"
     ]
    }
   ],
   "source": [
    "loss_fn = nn.MSELoss()\n",
    "target = torch.randn(1, 1)\n",
    "loss = loss_fn(output2, target)\n",
    "\n",
    "# 反向传播并输出每一层的梯度\n",
    "net.zero_grad()\n",
    "loss.backward()\n",
    "\n",
    "print(\"Gradients of first layer:\")\n",
    "print(net.fc1.weight.grad)\n",
    "print(net.fc1.bias.grad)\n",
    "\n",
    "print(\"Gradients of second layer:\")\n",
    "print(net.fc2.weight.grad)\n",
    "print(net.fc2.bias.grad)"
   ]
  },
  {
   "cell_type": "markdown",
   "id": "b2c9fb6e",
   "metadata": {},
   "source": [
    "3.5 训练神经网络的全过程例子"
   ]
  },
  {
   "cell_type": "code",
   "execution_count": 387,
   "id": "4126d755",
   "metadata": {},
   "outputs": [
    {
     "name": "stdout",
     "output_type": "stream",
     "text": [
      "[Parameter containing:\n",
      "tensor([[0.1804]], requires_grad=True), Parameter containing:\n",
      "tensor([0.9719], requires_grad=True)]\n",
      "Epoch [1/100], Loss: 9.32189655303955 . Gradient: tensor([[-13.0954]])\n",
      "Epoch [2/100], Loss: 7.433237552642822 . Gradient: tensor([[-11.6598]])\n",
      "Epoch [3/100], Loss: 5.940042018890381 . Gradient: tensor([[-10.3834]])\n",
      "Epoch [4/100], Loss: 4.759441375732422 . Gradient: tensor([[-9.2485]])\n",
      "Epoch [5/100], Loss: 3.8259308338165283 . Gradient: tensor([[-8.2395]])\n",
      "Epoch [6/100], Loss: 3.0877339839935303 . Gradient: tensor([[-7.3424]])\n",
      "Epoch [7/100], Loss: 2.5039241313934326 . Gradient: tensor([[-6.5447]])\n",
      "Epoch [8/100], Loss: 2.0421500205993652 . Gradient: tensor([[-5.8355]])\n",
      "Epoch [9/100], Loss: 1.6768399477005005 . Gradient: tensor([[-5.2050]])\n",
      "Epoch [10/100], Loss: 1.387781023979187 . Gradient: tensor([[-4.6443]])\n",
      "Epoch [11/100], Loss: 1.1589962244033813 . Gradient: tensor([[-4.1458]])\n",
      "Epoch [12/100], Loss: 0.977856457233429 . Gradient: tensor([[-3.7025]])\n",
      "Epoch [13/100], Loss: 0.8343785405158997 . Gradient: tensor([[-3.3084]])\n",
      "Epoch [14/100], Loss: 0.7206719517707825 . Gradient: tensor([[-2.9580]])\n",
      "Epoch [15/100], Loss: 0.6304991245269775 . Gradient: tensor([[-2.6464]])\n",
      "Epoch [16/100], Loss: 0.5589305758476257 . Gradient: tensor([[-2.3693]])\n",
      "Epoch [17/100], Loss: 0.5020686984062195 . Gradient: tensor([[-2.1229]])\n",
      "Epoch [18/100], Loss: 0.4568326771259308 . Gradient: tensor([[-1.9038]])\n",
      "Epoch [19/100], Loss: 0.42078813910484314 . Gradient: tensor([[-1.7090]])\n",
      "Epoch [20/100], Loss: 0.3920100927352905 . Gradient: tensor([[-1.5357]])\n",
      "Epoch [21/100], Loss: 0.3689776360988617 . Gradient: tensor([[-1.3816]])\n",
      "Epoch [22/100], Loss: 0.35048773884773254 . Gradient: tensor([[-1.2446]])\n",
      "Epoch [23/100], Loss: 0.3355896770954132 . Gradient: tensor([[-1.1228]])\n",
      "Epoch [24/100], Loss: 0.3235325813293457 . Gradient: tensor([[-1.0144]])\n",
      "Epoch [25/100], Loss: 0.31372228264808655 . Gradient: tensor([[-0.9180]])\n",
      "Epoch [26/100], Loss: 0.3056894838809967 . Gradient: tensor([[-0.8322]])\n",
      "Epoch [27/100], Loss: 0.2990627884864807 . Gradient: tensor([[-0.7560]])\n",
      "Epoch [28/100], Loss: 0.2935487926006317 . Gradient: tensor([[-0.6881]])\n",
      "Epoch [29/100], Loss: 0.2889159023761749 . Gradient: tensor([[-0.6277]])\n",
      "Epoch [30/100], Loss: 0.28498080372810364 . Gradient: tensor([[-0.5740]])\n",
      "Epoch [31/100], Loss: 0.28159835934638977 . Gradient: tensor([[-0.5263]])\n",
      "Epoch [32/100], Loss: 0.2786541283130646 . Gradient: tensor([[-0.4837]])\n",
      "Epoch [33/100], Loss: 0.27605772018432617 . Gradient: tensor([[-0.4459]])\n",
      "Epoch [34/100], Loss: 0.2737375795841217 . Gradient: tensor([[-0.4122]])\n",
      "Epoch [35/100], Loss: 0.27163684368133545 . Gradient: tensor([[-0.3822]])\n",
      "Epoch [36/100], Loss: 0.2697109878063202 . Gradient: tensor([[-0.3555]])\n",
      "Epoch [37/100], Loss: 0.2679245173931122 . Gradient: tensor([[-0.3318]])\n",
      "Epoch [38/100], Loss: 0.26624956727027893 . Gradient: tensor([[-0.3106]])\n",
      "Epoch [39/100], Loss: 0.2646641433238983 . Gradient: tensor([[-0.2917]])\n",
      "Epoch [40/100], Loss: 0.2631504535675049 . Gradient: tensor([[-0.2749]])\n",
      "Epoch [41/100], Loss: 0.2616952955722809 . Gradient: tensor([[-0.2599]])\n",
      "Epoch [42/100], Loss: 0.26028698682785034 . Gradient: tensor([[-0.2466]])\n",
      "Epoch [43/100], Loss: 0.2589171230792999 . Gradient: tensor([[-0.2347]])\n",
      "Epoch [44/100], Loss: 0.2575792968273163 . Gradient: tensor([[-0.2240]])\n",
      "Epoch [45/100], Loss: 0.25626733899116516 . Gradient: tensor([[-0.2146]])\n",
      "Epoch [46/100], Loss: 0.25497764348983765 . Gradient: tensor([[-0.2061]])\n",
      "Epoch [47/100], Loss: 0.2537064254283905 . Gradient: tensor([[-0.1985]])\n",
      "Epoch [48/100], Loss: 0.252451092004776 . Gradient: tensor([[-0.1918]])\n",
      "Epoch [49/100], Loss: 0.2512095868587494 . Gradient: tensor([[-0.1857]])\n",
      "Epoch [50/100], Loss: 0.2499801516532898 . Gradient: tensor([[-0.1803]])\n",
      "Epoch [51/100], Loss: 0.24876146018505096 . Gradient: tensor([[-0.1754]])\n",
      "Epoch [52/100], Loss: 0.24755239486694336 . Gradient: tensor([[-0.1711]])\n",
      "Epoch [53/100], Loss: 0.24635232985019684 . Gradient: tensor([[-0.1672]])\n",
      "Epoch [54/100], Loss: 0.2451602965593338 . Gradient: tensor([[-0.1637]])\n",
      "Epoch [55/100], Loss: 0.24397589266300201 . Gradient: tensor([[-0.1605]])\n",
      "Epoch [56/100], Loss: 0.24279862642288208 . Gradient: tensor([[-0.1577]])\n",
      "Epoch [57/100], Loss: 0.24162833392620087 . Gradient: tensor([[-0.1551]])\n",
      "Epoch [58/100], Loss: 0.2404644638299942 . Gradient: tensor([[-0.1528]])\n",
      "Epoch [59/100], Loss: 0.2393067628145218 . Gradient: tensor([[-0.1507]])\n",
      "Epoch [60/100], Loss: 0.23815546929836273 . Gradient: tensor([[-0.1488]])\n",
      "Epoch [61/100], Loss: 0.2370101660490036 . Gradient: tensor([[-0.1471]])\n",
      "Epoch [62/100], Loss: 0.23587055504322052 . Gradient: tensor([[-0.1455]])\n",
      "Epoch [63/100], Loss: 0.23473693430423737 . Gradient: tensor([[-0.1441]])\n",
      "Epoch [64/100], Loss: 0.23360873758792877 . Gradient: tensor([[-0.1428]])\n",
      "Epoch [65/100], Loss: 0.23248611390590668 . Gradient: tensor([[-0.1416]])\n",
      "Epoch [66/100], Loss: 0.2313692420721054 . Gradient: tensor([[-0.1405]])\n",
      "Epoch [67/100], Loss: 0.23025773465633392 . Gradient: tensor([[-0.1395]])\n",
      "Epoch [68/100], Loss: 0.22915184497833252 . Gradient: tensor([[-0.1386]])\n",
      "Epoch [69/100], Loss: 0.22805123031139374 . Gradient: tensor([[-0.1377]])\n",
      "Epoch [70/100], Loss: 0.226955845952034 . Gradient: tensor([[-0.1369]])\n",
      "Epoch [71/100], Loss: 0.2258657068014145 . Gradient: tensor([[-0.1361]])\n",
      "Epoch [72/100], Loss: 0.22478096187114716 . Gradient: tensor([[-0.1354]])\n",
      "Epoch [73/100], Loss: 0.22370141744613647 . Gradient: tensor([[-0.1348]])\n",
      "Epoch [74/100], Loss: 0.2226271629333496 . Gradient: tensor([[-0.1342]])\n",
      "Epoch [75/100], Loss: 0.22155797481536865 . Gradient: tensor([[-0.1336]])\n",
      "Epoch [76/100], Loss: 0.22049391269683838 . Gradient: tensor([[-0.1330]])\n",
      "Epoch [77/100], Loss: 0.2194352000951767 . Gradient: tensor([[-0.1325]])\n",
      "Epoch [78/100], Loss: 0.21838124096393585 . Gradient: tensor([[-0.1320]])\n",
      "Epoch [79/100], Loss: 0.21733267605304718 . Gradient: tensor([[-0.1315]])\n",
      "Epoch [80/100], Loss: 0.21628902852535248 . Gradient: tensor([[-0.1310]])\n",
      "Epoch [81/100], Loss: 0.2152504175901413 . Gradient: tensor([[-0.1306]])\n",
      "Epoch [82/100], Loss: 0.2142166942358017 . Gradient: tensor([[-0.1302]])\n",
      "Epoch [83/100], Loss: 0.21318791806697845 . Gradient: tensor([[-0.1298]])\n",
      "Epoch [84/100], Loss: 0.21216420829296112 . Gradient: tensor([[-0.1294]])\n",
      "Epoch [85/100], Loss: 0.2111453264951706 . Gradient: tensor([[-0.1290]])\n",
      "Epoch [86/100], Loss: 0.21013160049915314 . Gradient: tensor([[-0.1286]])\n",
      "Epoch [87/100], Loss: 0.20912231504917145 . Gradient: tensor([[-0.1282]])\n",
      "Epoch [88/100], Loss: 0.20811831951141357 . Gradient: tensor([[-0.1278]])\n",
      "Epoch [89/100], Loss: 0.2071189135313034 . Gradient: tensor([[-0.1275]])\n",
      "Epoch [90/100], Loss: 0.2061242014169693 . Gradient: tensor([[-0.1271]])\n",
      "Epoch [91/100], Loss: 0.20513443648815155 . Gradient: tensor([[-0.1268]])\n",
      "Epoch [92/100], Loss: 0.2041492909193039 . Gradient: tensor([[-0.1264]])\n",
      "Epoch [93/100], Loss: 0.20316894352436066 . Gradient: tensor([[-0.1261]])\n",
      "Epoch [94/100], Loss: 0.20219333469867706 . Gradient: tensor([[-0.1258]])\n",
      "Epoch [95/100], Loss: 0.20122243463993073 . Gradient: tensor([[-0.1254]])\n",
      "Epoch [96/100], Loss: 0.20025599002838135 . Gradient: tensor([[-0.1251]])\n",
      "Epoch [97/100], Loss: 0.19929444789886475 . Gradient: tensor([[-0.1248]])\n",
      "Epoch [98/100], Loss: 0.19833742082118988 . Gradient: tensor([[-0.1245]])\n",
      "Epoch [99/100], Loss: 0.1973849982023239 . Gradient: tensor([[-0.1242]])\n",
      "Epoch [100/100], Loss: 0.1964370608329773 . Gradient: tensor([[-0.1239]])\n"
     ]
    }
   ],
   "source": [
    "# 创建一个简单的线性回归模型\n",
    "model = nn.Linear(1, 1)\n",
    "print(list(model.parameters()))\n",
    "criterion = nn.MSELoss()\n",
    "optimizer = optim.SGD(model.parameters(), lr=0.01)\n",
    "\n",
    "Epoch=100\n",
    "\n",
    "#生成数据\n",
    "inputs = torch.tensor([[1.0], [2.0], [3.0]])\n",
    "labels = torch.tensor([[2.0], [4.0], [6.0]])\n",
    "\n",
    "# 模拟训练过程\n",
    "for epoch in range(Epoch):\n",
    "    # 模拟输入数据和标签\n",
    "    \n",
    "    # 前向传播\n",
    "    outputs = model(inputs)\n",
    "\n",
    "    # 计算损失\n",
    "    loss = criterion(outputs, labels)\n",
    "    \n",
    "    #梯度清零\n",
    "    optimizer.zero_grad()\n",
    "    \n",
    "    \n",
    "    # 反向传播\n",
    "    loss.backward()\n",
    "\n",
    "    \n",
    "    # 更新参数\n",
    "    optimizer.step()\n",
    "\n",
    "    # 打印梯度值\n",
    "    print('Epoch [{}/{}], Loss: {}'.format(epoch+1,Epoch, loss),'. Gradient: {}'.format(model.weight.grad))\n",
    "    #print('Gradient: {}'.format(model.weight.grad))\n"
   ]
  },
  {
   "cell_type": "markdown",
   "id": "19d39b00",
   "metadata": {},
   "source": [
    "3.5 神经网络参数更新"
   ]
  },
  {
   "cell_type": "markdown",
   "id": "96f54bd7",
   "metadata": {},
   "source": [
    "1) 用梯度下降法(手动)更新net中的参数"
   ]
  },
  {
   "cell_type": "code",
   "execution_count": 388,
   "id": "d7187507",
   "metadata": {},
   "outputs": [],
   "source": [
    "#for f in net.parameters():\n",
    "    #f.data.sub_(f.grad.data * learning_rate)"
   ]
  },
  {
   "cell_type": "markdown",
   "id": "7ee49df5",
   "metadata": {},
   "source": [
    "2) 用PyTorch的优化器来更新net中的参数"
   ]
  },
  {
   "cell_type": "code",
   "execution_count": 389,
   "id": "06d237aa",
   "metadata": {},
   "outputs": [],
   "source": [
    "#选择优化器\n",
    "#optimizer = optim.SGD(net.parameters(), lr=0.01)\n",
    "\n",
    "# 建立循环:\n",
    "#optimizer.zero_grad()             # 梯度清零\n",
    "#output = net(input)               # 前向传播\n",
    "#loss = criterion(output, target)  # 计算误差\n",
    "#loss.backward()                   # 后向传播\n",
    "#optimizer.step()                  # 参数更新"
   ]
  },
  {
   "cell_type": "markdown",
   "id": "50be2d1f",
   "metadata": {},
   "source": [
    "**<font color = blue size=4>第二部分:实验内容</font>**"
   ]
  },
  {
   "cell_type": "markdown",
   "id": "ba5214e5",
   "metadata": {},
   "source": [
    "[Red Wine Quality](https://www.kaggle.com/datasets/uciml/red-wine-quality-cortez-et-al-2009)是一个关于红酒品质的数据集，总共有1599个样本，每个样本包含11个(都是连续的)特征以及1个标签，每个标签的取值是连续的。本次实验已经按照8：2的比例划分成了训练数据集'wine_train.csv'以及测试数据集'wine_test.csv'，且每个数据集都已经做了归一化处理。"
   ]
  },
  {
   "cell_type": "markdown",
   "id": "d4d9ccac",
   "metadata": {},
   "source": [
    "<span style=\"color:purple\">1) 读入训练数据集'wine_train.csv'与测试数据集'wine_test.csv'。</span>"
   ]
  },
  {
   "cell_type": "code",
   "execution_count": 390,
   "id": "c759660f",
   "metadata": {},
   "outputs": [
    {
     "name": "stdout",
     "output_type": "stream",
     "text": [
      "(1279, 12)\n",
      "(320, 12)\n"
     ]
    }
   ],
   "source": [
    "# load dataset\n",
    "\n",
    "train_df = pd.read_csv('./wine_train.csv')\n",
    "test_df = pd.read_csv('./wine_test.csv')\n",
    "test_df = test_df.to_numpy()\n",
    "train_df = train_df.to_numpy()\n",
    "print(train_df.shape)\n",
    "print(test_df.shape)\n"
   ]
  },
  {
   "cell_type": "markdown",
   "id": "d77619fd",
   "metadata": {},
   "source": [
    "<span style=\"color:purple\">2) 利用线性层和激活函数搭建一个神经网络，要求输入和输出维度与数据集维度一致，而神经网络深度、隐藏层大小、激活函数种类等超参数自行调整。</span>"
   ]
  },
  {
   "cell_type": "code",
   "execution_count": 391,
   "id": "26359bae",
   "metadata": {},
   "outputs": [
    {
     "name": "stdout",
     "output_type": "stream",
     "text": [
      "Net(\n",
      "  (fc1): Linear(in_features=11, out_features=256, bias=True)\n",
      "  (fc2): Linear(in_features=256, out_features=256, bias=True)\n",
      "  (fc3): Linear(in_features=256, out_features=256, bias=True)\n",
      "  (fc4): Linear(in_features=256, out_features=1, bias=True)\n",
      ")\n"
     ]
    }
   ],
   "source": [
    "#your code here\n",
    "class Net(nn.Module):\n",
    "\n",
    "    def __init__(self,input_dim,output_dim,hidden_dim,device):\n",
    "        super(Net,self).__init__()\n",
    "        self.fc1 = nn.Linear(input_dim,hidden_dim,bias=True,device=device,dtype=torch.float32)\n",
    "        self.fc2 = nn.Linear(hidden_dim,hidden_dim,bias=True,device=device,dtype=torch.float32)\n",
    "        self.fc3 = nn.Linear(hidden_dim,hidden_dim,bias=True,device=device,dtype=torch.float32)\n",
    "        self.fc4 = nn.Linear(hidden_dim,output_dim,bias=True,device=device,dtype=torch.float32)\n",
    "\n",
    "    def forward(self, x):\n",
    "        x = self.fc1(x)\n",
    "        x = F.relu(self.fc2(x))\n",
    "        x = F.relu(self.fc3(x))\n",
    "        x = self.fc4(x)\n",
    "        return x\n",
    "\n",
    "\n",
    "input_dim = 11\n",
    "hidden_dim = 256\n",
    "output_dim = 1\n",
    "device = 'cpu'\n",
    "\n",
    "# 创建网络对象\n",
    "net = Net(input_dim,output_dim,hidden_dim,device)\n",
    "print(net)"
   ]
  },
  {
   "cell_type": "markdown",
   "id": "9b706eea",
   "metadata": {},
   "source": [
    "<span style=\"color:purple\">3) 用PyTorch的优化器(随机梯度下降)来进行模型参数更新，记下每轮迭代中的训练损失和测试损失。</span>"
   ]
  },
  {
   "cell_type": "code",
   "execution_count": 392,
   "id": "cad2f094",
   "metadata": {},
   "outputs": [],
   "source": [
    "#your code here\n",
    "optimizer = optim.SGD(net.parameters(),lr=0.01)\n"
   ]
  },
  {
   "cell_type": "markdown",
   "id": "ff5ff45e",
   "metadata": {},
   "source": [
    "<span style=\"color:purple\">4) 画出训练损失和测试损失关于迭代轮数的折线图。</span>"
   ]
  },
  {
   "cell_type": "code",
   "execution_count": 393,
   "id": "3ba3071f",
   "metadata": {},
   "outputs": [
    {
     "name": "stdout",
     "output_type": "stream",
     "text": [
      "[0.31836286187171936, 0.19884885847568512, 0.12938982248306274, 0.0871828943490982, 0.061329834163188934, 0.045734159648418427, 0.03656827658414841, 0.0313008576631546, 0.028361981734633446, 0.026732467114925385, 0.025820089504122734, 0.02530776895582676, 0.024999571964144707, 0.02481023781001568, 0.024681804701685905, 0.024580786004662514, 0.02449830248951912, 0.024422181770205498, 0.024349525570869446, 0.02427956461906433, 0.024210484698414803, 0.024142030626535416, 0.02407403476536274, 0.02400677651166916, 0.0239403173327446, 0.02387474663555622, 0.023809533566236496, 0.023744231089949608, 0.023679964244365692, 0.023616323247551918, 0.02355322800576687, 0.02349131926894188, 0.02343008853495121, 0.023369718343019485, 0.02331058494746685, 0.02325195074081421, 0.023194024339318275, 0.023136919364333153, 0.023080449551343918, 0.023024514317512512, 0.022969171404838562, 0.022914867848157883, 0.02286078967154026, 0.02280721627175808, 0.02275405265390873, 0.022701464593410492, 0.02264915220439434, 0.02259739115834236, 0.022546062245965004, 0.022495243698358536, 0.022444704547524452, 0.022394822910428047, 0.022345438599586487, 0.022296225652098656, 0.02224711701273918, 0.02219836600124836, 0.022150026634335518, 0.02210201695561409, 0.022054273635149002, 0.022007107734680176, 0.02196003869175911, 0.021913187578320503, 0.021866757422685623, 0.02182070165872574]\n",
      "[0.2058367282152176, 0.1343121975660324, 0.09071819484233856, 0.06392501294612885, 0.047720856964588165, 0.0381607785820961, 0.032635536044836044, 0.02953031100332737, 0.027791772037744522, 0.026804964989423752, 0.026240918785333633, 0.0258941650390625, 0.025675764307379723, 0.02552478387951851, 0.02540486492216587, 0.025308173149824142, 0.02521914802491665, 0.0251346193253994, 0.02505548857152462, 0.02497742511332035, 0.024900633841753006, 0.024825429543852806, 0.02475143037736416, 0.024676313623785973, 0.024601852521300316, 0.024531209841370583, 0.02446097508072853, 0.024392111226916313, 0.024321507662534714, 0.024253161624073982, 0.024186071008443832, 0.024117017164826393, 0.02404952421784401, 0.02398298680782318, 0.02391980215907097, 0.02385854348540306, 0.02379421889781952, 0.023734478279948235, 0.02367134764790535, 0.023611102253198624, 0.023552825674414635, 0.02349190041422844, 0.023432355374097824, 0.02337583526968956, 0.023317769169807434, 0.02326449379324913, 0.023207830265164375, 0.023153385147452354, 0.02309618890285492, 0.023043304681777954, 0.022988472133874893, 0.0229327455163002, 0.02287965826690197, 0.02283012494444847, 0.022779691964387894, 0.022727277129888535, 0.02267567440867424, 0.02262832783162594, 0.022578375414013863, 0.022526655346155167, 0.022478466853499413, 0.022433536127209663, 0.02238810434937477, 0.02234194241464138]\n"
     ]
    },
    {
     "data": {
      "image/png": "[encoded data removed]",
      "text/plain": [
       "<Figure size 600x400 with 1 Axes>"
      ]
     },
     "metadata": {},
     "output_type": "display_data"
    }
   ],
   "source": [
    "# 自定义数据集类\n",
    "class MyDataset(Data.Dataset):\n",
    "    def __init__(self, csv_file):\n",
    "        self.data = pd.read_csv(csv_file)\n",
    "    \n",
    "    def __len__(self):\n",
    "        return len(self.data)\n",
    "    \n",
    "    def __getitem__(self, idx):\n",
    "        x = self.data.iloc[idx, :-1].values\n",
    "        y = self.data.iloc[idx, -1]\n",
    "        return torch.tensor(x, dtype=torch.float32), torch.tensor(y, dtype=torch.float32)\n",
    "\n",
    "\n",
    "def plot_loss_epoch(epoch,train_loss,test_loss,title):\n",
    "        \n",
    "    fig = plt.figure(figsize=(6,4))\n",
    "    plt.plot(epoch,train_loss,color='b',label='train_loss')\n",
    "    plt.plot(epoch,test_loss,color='r',label='test_loss')\n",
    "    plt.xlabel('epoch')\n",
    "    plt.ylabel('loss')\n",
    "    plt.ylim(0,0.3)\n",
    "    plt.title(title)\n",
    "    plt.legend()\n",
    "    plt.show()\n",
    "\n",
    "def train_wine_quality(net:nn.Module,optimizer,epoches,lr,dataloader:Data.DataLoader,criterian):\n",
    "    \n",
    "    # save loss as epoch idx\n",
    "    epoch_idx = []\n",
    "    train_loss = []\n",
    "    test_loss = []\n",
    "    \n",
    "    for epoch in range(epoches):\n",
    "        \n",
    "        # train loss\n",
    "        net.eval()\n",
    "        x = torch.tensor(train_df[:,:-1],dtype=torch.float32)\n",
    "        y = torch.tensor(train_df[:,-1],dtype=torch.float32).reshape(-1,1)\n",
    "        y_hat = net(x)\n",
    "        tr_loss = criterian(y,y_hat)\n",
    "        \n",
    "        \n",
    "        # train per epoch\n",
    "        for x,y in dataloader:\n",
    "            # calculate gradient\n",
    "            y = y.reshape(-1,1)\n",
    "            # print(\"x.shape\",x.shape)\n",
    "            # print(\"y.shape\",y.shape)\n",
    "            \n",
    "            net.train()\n",
    "            # forward\n",
    "            \n",
    "            # zero grad\n",
    "            net.zero_grad()\n",
    "            \n",
    "            # forward \n",
    "            y_hat = net(x)\n",
    "            \n",
    "            # cal loss\n",
    "            loss = criterian(y,y_hat)\n",
    "\n",
    "            # back propagation\n",
    "            loss.sum().backward()\n",
    "            \n",
    "            # step\n",
    "            optimizer.step()\n",
    "            \n",
    "            \n",
    "        # test loss\n",
    "        net.eval()\n",
    "        x = torch.tensor(test_df[:,:-1],dtype=torch.float32)\n",
    "        y = torch.tensor(test_df[:,-1],dtype=torch.float32).reshape(-1,1)\n",
    "        y_hat = net(x)\n",
    "        te_loss = criterian(y,y_hat)\n",
    "        \n",
    "        # add to plot\n",
    "        epoch_idx.append(epoch)\n",
    "        test_loss.append(float(te_loss))\n",
    "        train_loss.append(float(tr_loss))\n",
    "        \n",
    "    # plot\n",
    "    print(train_loss)\n",
    "    print(test_loss)\n",
    "    plot_loss_epoch(epoch_idx,train_loss,test_loss,title=f'epoch={epoches} lr={lr}')\n",
    "\n",
    "\n",
    "epoches = 64 # 训练次数\n",
    "lr = 0.01 # 训练率\n",
    "batch_size = 256# 批量大小\n",
    "\n",
    "criterion = nn.MSELoss()\n",
    "\n",
    "dataset_train = MyDataset('./wine_train.csv')\n",
    "train_loader = Data.DataLoader(dataset=dataset_train,batch_size=batch_size,\n",
    "                               shuffle=True,num_workers=0)\n",
    "\n",
    "train_wine_quality(net=net,optimizer=optimizer,epoches=epoches,\n",
    "                   lr=lr,dataloader=train_loader,criterian=criterion)\n",
    "\n"
   ]
  },
  {
   "cell_type": "markdown",
   "id": "fbaceea0",
   "metadata": {},
   "source": [
    "**<font color = blue size=4>第三部分:作业提交</font>**"
   ]
  },
  {
   "cell_type": "markdown",
   "id": "4564e8a6",
   "metadata": {},
   "source": [
    "一、实验课下课前提交完成代码，如果下课前未完成，请将已经完成的部分进行提交，未完成的部分于之后的实验报告中进行补充  \n",
    "要求:  \n",
    "1)文件格式为：学号-姓名.ipynb  \n",
    "2)【不要】提交文件夹、压缩包、数据集等无关文件，只需提交单个ipynb文件即可"
   ]
  },
  {
   "cell_type": "markdown",
   "id": "10af5b08",
   "metadata": {},
   "source": [
    "二、本次实验分为两周完成，实验报告提交截止日期: 12月15号14:20  \n",
    "要求：  \n",
    "1)文件格式为：学号-姓名.pdf  \n",
    "2)【不要】提交文件夹、压缩包、代码文件、数据集等任何与实验报告无关的文件，只需要提交单个pdf文件即可  \n",
    "3)文件命名时不需要额外添加“实验几”等额外信息，按照格式提交  "
   ]
  },
  {
   "cell_type": "markdown",
   "id": "b50e73e3",
   "metadata": {},
   "source": [
    "实验十二(神经网络)的实验报告上交地址: https://send2me.cn/Wk9FsyYO/SKCBsWeFtvwQsg"
   ]
  },
  {
   "cell_type": "markdown",
   "id": "26db7ee4",
   "metadata": {},
   "source": [
    "三、课堂课件获取地址:https://www.jianguoyun.com/p/DWHYtsEQp5WhChjwtKoFIAA\n",
    "实验内容获取地址:https://www.jianguoyun.com/p/DbNY_SIQp5WhChjvtKoFIAA"
   ]
  }
 ],
 "metadata": {
  "kernelspec": {
   "display_name": "Python 3",
   "language": "python",
   "name": "python3"
  },
  "language_info": {
   "codemirror_mode": {
    "name": "ipython",
    "version": 3
   },
   "file_extension": ".py",
   "mimetype": "text/x-python",
   "name": "python",
   "nbconvert_exporter": "python",
   "pygments_lexer": "ipython3",
   "version": "3.10.9"
  }
 },
 "nbformat": 4,
 "nbformat_minor": 5
}
