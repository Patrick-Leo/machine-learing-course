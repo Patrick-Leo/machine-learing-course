{
 "cells": [
  {
   "cell_type": "markdown",
   "id": "0c6be3f3",
   "metadata": {},
   "source": [
    "**<font color = black size=6>实验八:降维</font>**"
   ]
  },
  {
   "cell_type": "markdown",
   "id": "c67603ef",
   "metadata": {},
   "source": [
    "本次实验为编写机器学习中的用于降维的PCA(主成分分析)算法。在本次实验中，我们将对一个维度过高的数据集进行降维。"
   ]
  },
  {
   "cell_type": "code",
   "execution_count": 103,
   "id": "073dcebf",
   "metadata": {},
   "outputs": [],
   "source": [
    "import pandas as pd\n",
    "import numpy as np\n",
    "import matplotlib.pyplot as plt\n",
    "import math\n",
    "import matplotlib as mpl\n",
    "import warnings\n",
    "warnings.filterwarnings('ignore')\n",
    "from pandas.core.frame import DataFrame"
   ]
  },
  {
   "cell_type": "markdown",
   "id": "1dfd27f7",
   "metadata": {},
   "source": [
    "**<font color = blue size=4>第一部分:函数介绍</font>**"
   ]
  },
  {
   "cell_type": "markdown",
   "id": "33c792dc",
   "metadata": {},
   "source": [
    "介绍一些可以用到的函数"
   ]
  },
  {
   "cell_type": "markdown",
   "id": "0afa22b9",
   "metadata": {},
   "source": [
    "1.计算方阵的特征值和特征向量"
   ]
  },
  {
   "cell_type": "code",
   "execution_count": 104,
   "id": "73df2b30",
   "metadata": {},
   "outputs": [
    {
     "name": "stdout",
     "output_type": "stream",
     "text": [
      "该矩阵的特征值: [1. 2. 3.]\n",
      "该矩阵的特征向量: [[1. 0. 0.]\n",
      " [0. 1. 0.]\n",
      " [0. 0. 1.]]\n"
     ]
    }
   ],
   "source": [
    "a=np.array([[1,0,0],[0,2,0],[0,0,3]])\n",
    "vals,vecs=np.linalg.eig(a)\n",
    "print(\"该矩阵的特征值:\",vals)\n",
    "print(\"该矩阵的特征向量:\",vecs)"
   ]
  },
  {
   "cell_type": "markdown",
   "id": "e3896646",
   "metadata": {},
   "source": [
    "2.排序函数"
   ]
  },
  {
   "cell_type": "code",
   "execution_count": 105,
   "id": "482237fd",
   "metadata": {},
   "outputs": [
    {
     "name": "stdout",
     "output_type": "stream",
     "text": [
      "[1, 2, 3, 4]\n",
      "未排序前: [(3, [0, 0, 3, 0]), (1, [1, 0, 0, 0]), (2, [0, 2, 0, 0]), (4, [0, 0, 0, 4])]\n",
      "排序后: [(1, [1, 0, 0, 0]), (2, [0, 2, 0, 0]), (3, [0, 0, 3, 0]), (4, [0, 0, 0, 4])]\n"
     ]
    }
   ],
   "source": [
    "#list的排序\n",
    "a=[3,1,2,4]\n",
    "a.sort()\n",
    "print(a)\n",
    "#字典的排序\n",
    "a=[3,1,2,4]\n",
    "b=[[0,0,3,0],[1,0,0,0],[0,2,0,0],[0,0,0,4]]\n",
    "c = [(a[i],b[i]) for i in range(len(a))]\n",
    "print(\"未排序前:\",c)\n",
    "c=sorted(c)\n",
    "print(\"排序后:\",c)"
   ]
  },
  {
   "cell_type": "markdown",
   "id": "1a0fe79b",
   "metadata": {},
   "source": [
    "**<font color = blue size=4>第二部分:实验任务</font>**"
   ]
  },
  {
   "cell_type": "markdown",
   "id": "678afe02",
   "metadata": {},
   "source": [
    "本任务使用train_data.csv数据集，共有九维特征.本次实验实现PCA算法，下面是PCA算法的伪代码"
   ]
  },
  {
   "cell_type": "code",
   "execution_count": 106,
   "id": "4e7825b3",
   "metadata": {},
   "outputs": [
    {
     "data": {
      "text/html": [
       "<img src=\"PCA Pseudocode.png\", width=720, heigth=240>\n"
      ],
      "text/plain": [
       "<IPython.core.display.HTML object>"
      ]
     },
     "metadata": {},
     "output_type": "display_data"
    }
   ],
   "source": [
    "%%html\n",
    "<img src=\"PCA Pseudocode.png\", width=720, heigth=240>"
   ]
  },
  {
   "cell_type": "markdown",
   "id": "4c351d23",
   "metadata": {},
   "source": [
    "**<font color = green size=3>1):降维</font>**"
   ]
  },
  {
   "cell_type": "markdown",
   "id": "ac44d45c",
   "metadata": {},
   "source": [
    "<span style=\"color:purple\">1.将训练集\"train_data.csv\"导入，训练集共有167个样本，每个样本有9个特征值，将原始数据按列组成9行167列的矩阵X</span>"
   ]
  },
  {
   "cell_type": "code",
   "execution_count": 107,
   "id": "44320086",
   "metadata": {},
   "outputs": [
    {
     "name": "stdout",
     "output_type": "stream",
     "text": [
      "       0     1     2     3      4      5     6     7      8\n",
      "0   90.2  10.0  7.58  44.9   1610   9.44  56.2  5.82    553\n",
      "1   16.6  28.0  6.55  48.6   9930   4.49  76.3  1.65   4090\n",
      "2   27.3  38.4  4.17  31.4  12900  16.10  76.5  2.89   4460\n",
      "3  119.0  62.3  2.85  42.9   5900  22.40  60.1  6.16   3530\n",
      "4   10.3  45.5  6.03  58.9  19100   1.44  76.8  2.13  12200\n",
      "167\n",
      "9\n",
      "       0        1         2        3         4         5        6         7    \\\n",
      "0    90.20    16.60     27.30   119.00     10.30     14.50    18.10      4.80   \n",
      "1    10.00    28.00     38.40    62.30     45.50     18.90    20.80     19.80   \n",
      "2     7.58     6.55      4.17     2.85      6.03      8.10     4.40      8.73   \n",
      "3    44.90    48.60     31.40    42.90     58.90     16.00    45.30     20.90   \n",
      "4  1610.00  9930.00  12900.00  5900.00  19100.00  18700.00  6700.00  41400.00   \n",
      "5     9.44     4.49     16.10    22.40      1.44     20.90     7.77      1.16   \n",
      "6    56.20    76.30     76.50    60.10     76.80     75.80    73.30     82.00   \n",
      "7     5.82     1.65      2.89     6.16      2.13      2.37     1.69      1.93   \n",
      "8   553.00  4090.00   4460.00  3530.00  12200.00  10300.00  3220.00  51900.00   \n",
      "\n",
      "         8         9    ...       157       158       159       160      161  \\\n",
      "0      4.300     39.20  ...      8.60      5.20      7.30     10.60    36.30   \n",
      "1     51.300     54.30  ...     77.70     28.20     12.40     26.30    31.70   \n",
      "2     11.000      5.88  ...      3.66      9.64     17.90      8.35     5.81   \n",
      "3     47.800     20.70  ...     63.60     30.80     15.80     25.40    28.50   \n",
      "4  43200.000  16000.00  ...  57600.00  36200.00  49400.00  17100.00  4240.00   \n",
      "5      0.873     13.80  ...     12.50      1.57      1.22      4.91    16.50   \n",
      "6     80.500     69.10  ...     76.50     80.30     78.70     76.40    68.80   \n",
      "7      1.440      1.92  ...      1.87      1.92      1.93      2.08     2.34   \n",
      "8  46900.000   5840.00  ...  35000.00  38900.00  48400.00  11900.00  1380.00   \n",
      "\n",
      "       162       163      164      165      166  \n",
      "0    29.20     17.10    23.30    56.30    83.10  \n",
      "1    46.60     28.50    72.00    30.00    37.00  \n",
      "2     5.25      4.91     6.84     5.18     5.89  \n",
      "3    52.70     17.60    80.20    34.40    30.90  \n",
      "4  2950.00  16500.00  4490.00  4480.00  3280.00  \n",
      "5     2.62     45.90    12.10    23.60    14.00  \n",
      "6    63.00     75.40    73.10    67.50    52.00  \n",
      "7     3.50      2.47     1.95     4.67     5.40  \n",
      "8  2970.00  13500.00  1310.00  1310.00  1460.00  \n",
      "\n",
      "[9 rows x 167 columns]\n"
     ]
    }
   ],
   "source": [
    "train_df = pd.read_csv('./train_data.csv')\n",
    "print(train_df[:5])\n",
    "print(len(train_df))\n",
    "\n",
    "train_df_T = train_df.T\n",
    "print(len(train_df_T))\n",
    "print(train_df_T)"
   ]
  },
  {
   "cell_type": "markdown",
   "id": "22e10545",
   "metadata": {},
   "source": [
    "<span style=\"color:purple\">2.对所有样本进行中心化，即将X的每一行减去这一行的均值</span>"
   ]
  },
  {
   "cell_type": "code",
   "execution_count": 108,
   "id": "4bdad758",
   "metadata": {},
   "outputs": [
    {
     "name": "stdout",
     "output_type": "stream",
     "text": [
      "(9, 167)\n",
      "            0            1            2             3            4    \\\n",
      "0     51.929940   -21.670060   -10.970060     80.729940   -27.970060   \n",
      "1    -31.108976   -13.108976    -2.708976     21.191024     4.391024   \n",
      "2      0.764311    -0.265689    -2.645689     -3.965689    -0.785689   \n",
      "3     -1.990215     1.709785   -15.490215     -3.990215    12.009785   \n",
      "4 -15534.688623 -7214.688623 -4244.688623 -11244.688623  1955.311377   \n",
      "5      1.658168    -3.291832     8.318168     14.618168    -6.341832   \n",
      "6    -14.355689     5.744311     5.944311    -10.455689     6.244311   \n",
      "7      2.872036    -1.297964    -0.057964      3.212036    -0.817964   \n",
      "8 -12411.155689 -8874.155689 -8504.155689  -9434.155689  -764.155689   \n",
      "\n",
      "           5             6             7             8            9    ...  \\\n",
      "0   -23.770060    -20.170060    -33.470060    -33.970060     0.929940  ...   \n",
      "1   -22.208976    -20.308976    -21.308976     10.191024    13.191024  ...   \n",
      "2     1.284311     -2.415689      1.914311      4.184311    -0.935689  ...   \n",
      "3   -30.890215     -1.590215    -25.990215      0.909785   -26.190215  ...   \n",
      "4  1555.311377 -10444.688623  24255.311377  26055.311377 -1144.688623  ...   \n",
      "5    13.118168     -0.011832     -6.621832     -6.908832     6.018168  ...   \n",
      "6     5.244311      2.744311     11.444311      9.944311    -1.455689  ...   \n",
      "7    -0.577964     -1.257964     -1.017964     -1.507964    -1.027964  ...   \n",
      "8 -2664.155689  -9744.155689  38935.844311  33935.844311 -7124.155689  ...   \n",
      "\n",
      "            157           158           159          160           161  \\\n",
      "0    -29.670060    -33.070060    -30.970060   -27.670060     -1.970060   \n",
      "1     36.591024    -12.908976    -28.708976   -14.808976     -9.408976   \n",
      "2     -3.155689      2.824311     11.084311     1.534311     -1.005689   \n",
      "3     16.709785    -16.090215    -31.090215   -21.490215    -18.390215   \n",
      "4  40455.311377  19055.311377  32255.311377   -44.688623 -12904.688623   \n",
      "5      4.718168     -6.211832     -6.561832    -2.871832      8.718168   \n",
      "6      5.944311      9.744311      8.144311     5.844311     -1.755689   \n",
      "7     -1.077964     -1.027964     -1.017964    -0.867964     -0.607964   \n",
      "8  22035.844311  25935.844311  35435.844311 -1064.155689 -11584.155689   \n",
      "\n",
      "            162         163           164           165           166  \n",
      "0     -9.070060  -21.170060    -14.970060     18.029940     44.829940  \n",
      "1      5.491024  -12.608976     30.891024    -11.108976     -4.108976  \n",
      "2     -1.565689   -1.905689      0.024311     -1.635689     -0.925689  \n",
      "3      5.809785  -29.290215     33.309785    -12.490215    -15.990215  \n",
      "4 -14194.688623 -644.688623 -12654.688623 -12664.688623 -13864.688623  \n",
      "5     -5.161832   38.118168      4.318168     15.818168      6.218168  \n",
      "6     -7.555689    4.844311      2.544311     -3.055689    -18.555689  \n",
      "7      0.552036   -0.477964     -0.997964      1.722036      2.452036  \n",
      "8  -9994.155689  535.844311 -11654.155689 -11654.155689 -11504.155689  \n",
      "\n",
      "[9 rows x 167 columns]\n"
     ]
    }
   ],
   "source": [
    "#your code here\n",
    "X = train_df_T.apply(lambda row: row - row.mean(), axis=1)\n",
    "print(X.shape)\n",
    "print(X)"
   ]
  },
  {
   "cell_type": "markdown",
   "id": "533ea386",
   "metadata": {},
   "source": [
    "<span style=\"color:purple\">3.求出协方差矩阵$X$.$X^T$</span>"
   ]
  },
  {
   "cell_type": "code",
   "execution_count": 109,
   "id": "6700c022",
   "metadata": {},
   "outputs": [
    {
     "name": "stdout",
     "output_type": "stream",
     "text": [
      "(9, 9)\n",
      "              0             1             2             3             4  \\\n",
      "0  2.699862e+05 -5.837409e+04 -3.685191e+03 -2.061753e+04 -6.766757e+07   \n",
      "1 -5.837409e+04  1.247354e+05 -1.430013e+03  8.123220e+04  4.533370e+07   \n",
      "2 -3.685191e+03 -1.430013e+03  1.252489e+03  1.056613e+03  1.139037e+06   \n",
      "3 -2.061753e+04  8.123220e+04  1.056613e+03  9.729330e+04  9.483368e+06   \n",
      "4 -6.766757e+07  4.533370e+07  1.139037e+06  9.483368e+06  6.169289e+10   \n",
      "5  2.040034e+04 -5.160953e+03 -1.230905e+03 -1.049268e+04 -4.998280e+06   \n",
      "6 -5.278937e+04  1.280036e+04  8.543701e+02  1.943907e+03  1.741619e+07   \n",
      "7  8.598993e+03 -2.204425e+03 -1.357595e+02 -9.676249e+02 -2.431191e+06   \n",
      "8 -5.926969e+07  3.492283e+07  2.891383e+06  8.507508e+06  5.252954e+10   \n",
      "\n",
      "              5             6             7             8  \n",
      "0  2.040034e+04 -5.278937e+04  8.598993e+03 -5.926969e+07  \n",
      "1 -5.160953e+03  1.280036e+04 -2.204425e+03  3.492283e+07  \n",
      "2 -1.230905e+03  8.543701e+02 -1.357595e+02  2.891383e+06  \n",
      "3 -1.049268e+04  1.943907e+03 -9.676249e+02  8.507508e+06  \n",
      "4 -4.998280e+06  1.741619e+07 -2.431191e+06  5.252954e+10  \n",
      "5  1.854880e+04 -3.740638e+03  8.418704e+02 -7.128110e+06  \n",
      "6 -3.740638e+03  1.312869e+04 -1.700435e+03  1.623724e+07  \n",
      "7  8.418704e+02 -1.700435e+03  3.804279e+02 -2.095307e+06  \n",
      "8 -7.128110e+06  1.623724e+07 -2.095307e+06  5.576628e+10  \n"
     ]
    }
   ],
   "source": [
    "#your code here\n",
    "convariance = X.dot(X.T)\n",
    "print(convariance.shape)\n",
    "print(convariance)"
   ]
  },
  {
   "cell_type": "markdown",
   "id": "9019cd5d",
   "metadata": {},
   "source": [
    "<span style=\"color:purple\">4.对协方差矩阵$X$.$X^T$做特征值分解，即求出协方差矩阵的特征值$\\vec{\\lambda}=\\{\\lambda_1,\\lambda_2,...,\\lambda_d\\}$及对应的特征向量$\\vec{\\omega}=\\{\\omega_1,\\omega_2,...,\\omega_d\\}$. 其中$\\lambda_i \\sim \\omega_i$.</span>"
   ]
  },
  {
   "cell_type": "code",
   "execution_count": 110,
   "id": "3df0d7c7",
   "metadata": {},
   "outputs": [
    {
     "name": "stdout",
     "output_type": "stream",
     "text": [
      "该矩阵的特征值: [1.11342747e+11 6.11653233e+09 2.07662463e+05 1.62903834e+05\n",
      " 2.24346102e+04 1.21999805e+04 2.13848213e+03 1.01593379e+02\n",
      " 7.03486236e+02]\n",
      "该矩阵的特征向量: [[ 8.07327698e-04 -5.57055026e-04  9.25215339e-01  3.28783999e-01\n",
      "  -3.94786565e-02  6.08330796e-02  1.72243208e-01  2.86316097e-02\n",
      "   1.14007614e-02]\n",
      " [-5.11348092e-04  9.41707964e-04 -2.28627282e-01  6.52814366e-01\n",
      "   5.94987240e-01  4.01990656e-01 -2.82287999e-02 -9.11761528e-04\n",
      "   7.18179698e-02]\n",
      " [-2.52724061e-05 -2.15627987e-04 -9.25844014e-03 -7.58649598e-03\n",
      "  -7.77516009e-02 -5.54312529e-02  3.77513839e-03 -2.20880747e-02\n",
      "   9.95106331e-01]\n",
      " [-1.14384869e-04  5.41883715e-05 -2.42704100e-01  6.78156522e-01\n",
      "  -5.29179120e-01 -4.41412073e-01  4.82031359e-02 -1.18487096e-03\n",
      "  -6.32323521e-02]\n",
      " [-7.26746756e-01  6.86903991e-01  1.17358496e-03 -4.12812338e-04\n",
      "  -6.84017169e-04 -1.95004065e-04  2.11994794e-05 -1.24806993e-05\n",
      "   7.34940532e-05]\n",
      " [ 7.65998651e-05  2.85616792e-04  8.73842384e-02 -2.19844970e-02\n",
      "   5.95872597e-01 -7.97849917e-01 -1.10842699e-02  1.09459957e-02\n",
      "   3.04506999e-03]\n",
      " [-2.13850032e-04  2.66353737e-05 -1.55747044e-01 -7.23212922e-02\n",
      "   5.69356462e-02  1.37505251e-02  9.83398154e-01 -3.07021005e-03\n",
      "  -5.84733711e-04]\n",
      " [ 2.87952778e-05 -2.40728708e-05  2.86462224e-02  8.16973465e-03\n",
      "   7.02425075e-03 -5.65693332e-03  1.67747714e-03 -9.99280177e-01\n",
      "  -2.16245609e-02]\n",
      " [-6.86904777e-01 -7.26747258e-01  1.16146666e-04  2.44967157e-04\n",
      "   3.74367532e-04 -3.93842792e-05 -1.14462430e-04  8.83070422e-06\n",
      "  -1.44287381e-04]]\n",
      "0    1.113427e+11\n",
      "1    6.116532e+09\n",
      "2    2.076625e+05\n",
      "3    1.629038e+05\n",
      "4    2.243461e+04\n",
      "5    1.219998e+04\n",
      "6    2.138482e+03\n",
      "8    7.034862e+02\n",
      "7    1.015934e+02\n",
      "dtype: float64\n"
     ]
    }
   ],
   "source": [
    "#your code here\n",
    "vals,vecs=np.linalg.eig(convariance)\n",
    "print(\"该矩阵的特征值:\",vals)\n",
    "print(\"该矩阵的特征向量:\",vecs)\n",
    "\n",
    "vals = pd.Series(vals)\n",
    "val_sorted = vals.sort_values(ascending=False)\n",
    "\n",
    "print(val_sorted)"
   ]
  },
  {
   "cell_type": "markdown",
   "id": "231d75c4",
   "metadata": {},
   "source": [
    "<span style=\"color:purple\">5.选取降维后的维度k：依据特征值计算方差的贡献率，先将所有特征值按照降序进行排序。要求降维后的数据方差占比超过阈值t%，公式如下. 我们这里取阈值为t%=99%:\n",
    "    $$\\frac{\\sum_{i=1}^k\\lambda_i}{\\sum_{i=1}^k\\lambda_i} \\geq t\\%$$\n",
    "</span>"
   ]
  },
  {
   "cell_type": "code",
   "execution_count": 118,
   "id": "deb290e3",
   "metadata": {},
   "outputs": [
    {
     "name": "stdout",
     "output_type": "stream",
     "text": [
      "k=2\n"
     ]
    }
   ],
   "source": [
    "#your code here\n",
    "\n",
    "k = 0\n",
    "t = 0.99\n",
    "\n",
    "_variance = 0\n",
    "variance = vals.sum()\n",
    "while(_variance/variance<t):\n",
    "    _variance += val_sorted[k]\n",
    "    k += 1\n",
    "    \n",
    "print(f'k={k}')\n",
    "assert k<=len(vals)\n",
    "\n",
    "\n"
   ]
  },
  {
   "cell_type": "markdown",
   "id": "bffdeb99",
   "metadata": {},
   "source": [
    "<span style=\"color:purple\">6.将特征向量按对应特征值大小从上到下按行排列，取前k个对应特征值最大的特征向量组成投影矩阵W=($\\omega_1,\\omega_2,...,\\omega_k$)</span>"
   ]
  },
  {
   "cell_type": "code",
   "execution_count": 119,
   "id": "02b8815f",
   "metadata": {},
   "outputs": [
    {
     "name": "stdout",
     "output_type": "stream",
     "text": [
      "Int64Index([0, 1], dtype='int64')\n",
      "[[ 8.07327698e-04 -5.57055026e-04  9.25215339e-01  3.28783999e-01\n",
      "  -3.94786565e-02  6.08330796e-02  1.72243208e-01  2.86316097e-02\n",
      "   1.14007614e-02]\n",
      " [-5.11348092e-04  9.41707964e-04 -2.28627282e-01  6.52814366e-01\n",
      "   5.94987240e-01  4.01990656e-01 -2.82287999e-02 -9.11761528e-04\n",
      "   7.18179698e-02]]\n"
     ]
    }
   ],
   "source": [
    "#your code here\n",
    "\n",
    "w_index = val_sorted[:k].index\n",
    "print(w_index)\n",
    "w = vecs[w_index]\n",
    "print(w)"
   ]
  },
  {
   "cell_type": "markdown",
   "id": "207a7025",
   "metadata": {},
   "source": [
    "<span style=\"color:purple\">7.根据公式$Y=P.X$得到降维到k维后的数据集Y。"
   ]
  },
  {
   "cell_type": "code",
   "execution_count": 113,
   "id": "607e37a2",
   "metadata": {},
   "outputs": [
    {
     "name": "stdout",
     "output_type": "stream",
     "text": [
      "(5, 9)\n",
      "(9, 167)\n",
      "(5, 167)\n",
      "           0            1            2            3             4    \\\n",
      "0   -24.992263  -309.894538  -430.005894  -163.985472   -576.648790   \n",
      "1  1027.389484  6231.855516  8019.520651  3798.596540  12275.954195   \n",
      "2   424.258814  3297.478404  3434.225310  3052.471777  10654.891975   \n",
      "3  -859.810928 -5480.306663 -7091.568559 -3323.973959 -10837.210841   \n",
      "4   -59.754504     0.665961    -1.968734   -47.482548     11.584622   \n",
      "\n",
      "            5            6             7             8            9    ...  \\\n",
      "0   -593.671763  -195.682170  -1013.525530  -1130.954194  -540.034088  ...   \n",
      "1  11880.849712  4247.297990  28369.638255  29098.524499  9955.007915  ...   \n",
      "2   8794.514744  2682.725999  48427.061141  43311.365803  4566.624679  ...   \n",
      "3 -10543.633325 -3719.355112 -25174.281116 -25792.893574 -8826.296581  ...   \n",
      "4     -9.589072    -3.226296    -14.388549      6.005188    -1.707550  ...   \n",
      "\n",
      "            157           158           159           160          161  \\\n",
      "0  -1836.692791   -952.622022  -1363.008632   -509.827770  -123.977884   \n",
      "1  36828.508639  24348.546331  32872.856444  11043.422637  2643.831442   \n",
      "2  30349.250607  35894.872891  44322.115717  10511.907326  1042.595617   \n",
      "3 -32653.436272 -21594.298730 -29192.271280  -9784.716209 -2317.034895   \n",
      "4     10.272522     -6.310922    -27.005087     -0.460105    -7.411597   \n",
      "\n",
      "           162           163          164          165          166  \n",
      "0   -49.308947   -471.310121  -116.265627  -132.602071   -87.226539  \n",
      "1  2001.015315  10813.537789  2819.220822  2788.473641  2079.385131  \n",
      "2  2725.654674  12148.534284   953.358899   953.788788  1196.831953  \n",
      "3 -1712.538501  -9590.977990 -2407.939084 -2438.659422 -1812.188343  \n",
      "4     8.974334     -3.153606    29.523014   -23.288193   -37.121021  \n",
      "\n",
      "[5 rows x 167 columns]\n"
     ]
    }
   ],
   "source": [
    "#your code here\n",
    "X_origin = train_df_T.copy()\n",
    "print(w.shape)\n",
    "print(X_origin.shape)\n",
    "x_new = w@X_origin\n",
    "\n",
    "print(x_new.shape)\n",
    "print(x_new)\n",
    "\n",
    "\n",
    "\n"
   ]
  },
  {
   "cell_type": "markdown",
   "id": "646b404e",
   "metadata": {},
   "source": [
    "<span style=\"color:purple\">8.请从降维的特征值选择其中两个（如果降维后不足二维，则跳过这部分）作为绘图的横纵坐标，将所有样本绘制到一张图中，其中同一聚类的样本点绘制为相同颜色</span>"
   ]
  },
  {
   "cell_type": "code",
   "execution_count": 116,
   "id": "9fb41a3f",
   "metadata": {},
   "outputs": [
    {
     "name": "stdout",
     "output_type": "stream",
     "text": [
      "<class 'pandas.core.frame.DataFrame'>\n",
      "(5, 167)\n",
      "(167,)\n"
     ]
    },
    {
     "data": {
      "image/png": "[encoded data removed]",
      "text/plain": [
       "<Figure size 640x480 with 1 Axes>"
      ]
     },
     "metadata": {},
     "output_type": "display_data"
    }
   ],
   "source": [
    "#your code here\n",
    "\n",
    "\n",
    "assert x_new.shape[0] >=2\n",
    "print(type(x_new))\n",
    "print(x_new.shape)\n",
    "x0 = x_new.iloc[0,:]\n",
    "x1 = x_new.iloc[1,:]\n",
    "\n",
    "\n",
    "fig = plt.figure()\n",
    "plt.scatter(x0,x1)\n",
    "\n",
    "plt.show()"
   ]
  },
  {
   "cell_type": "markdown",
   "id": "f5fd1178",
   "metadata": {},
   "source": [
    "**<font color = blue size=4>第三部分:作业提交</font>**"
   ]
  },
  {
   "cell_type": "markdown",
   "id": "cc8aeae1",
   "metadata": {},
   "source": [
    "一、实验课下课前提交完成代码，如果下课前未完成，请将已经完成的部分进行提交，未完成的部分于之后的实验报告中进行补充  \n",
    "要求:  \n",
    "1)文件格式为：学号-姓名.ipynb  \n",
    "2)【不要】提交文件夹、压缩包、数据集等无关文件，只需提交单个ipynb文件即可，如果交错请到讲台前联系助教，删掉之前的错误版本后再进行提交"
   ]
  },
  {
   "cell_type": "markdown",
   "id": "f1c2f1be",
   "metadata": {},
   "source": [
    "二、本次实验报告下周（11.10 14:20）交  \n",
    "要求：  \n",
    "1)文件格式为：学号-姓名.pdf  \n",
    "2)【不要】提交文件夹、压缩包、代码文件、数据集等任何与实验报告无关的文件，只需要提交单个pdf文件即可  \n",
    "3)文件命名时不需要额外添加“实验几”等额外信息，按照格式提交  \n",
    "4)每周的实验报告提交地址会变化，且有时间限制，提交时间为下周的实验课开始时，请注意及时提交。"
   ]
  },
  {
   "cell_type": "markdown",
   "id": "bbba73c9",
   "metadata": {},
   "source": [
    "实验八(降维)的实验报告:  \n",
    "截止时间：2023-11-10 14:20  \n",
    "提交地址：https://send2me.cn/U83-fI9G/T5Svof7YxaL6Ng"
   ]
  },
  {
   "cell_type": "markdown",
   "id": "665dbc0b",
   "metadata": {},
   "source": [
    "三、课堂课件获取地址:https://www.jianguoyun.com/p/Dag8kS8Qp5WhChjW06UFIAA  \n",
    "实验内容获取地址:https://www.jianguoyun.com/p/Db5AxlgQp5WhChjY06UFIAA"
   ]
  }
 ],
 "metadata": {
  "kernelspec": {
   "display_name": "Python 3",
   "language": "python",
   "name": "python3"
  },
  "language_info": {
   "codemirror_mode": {
    "name": "ipython",
    "version": 3
   },
   "file_extension": ".py",
   "mimetype": "text/x-python",
   "name": "python",
   "nbconvert_exporter": "python",
   "pygments_lexer": "ipython3",
   "version": "3.8.8"
  }
 },
 "nbformat": 4,
 "nbformat_minor": 5
}
