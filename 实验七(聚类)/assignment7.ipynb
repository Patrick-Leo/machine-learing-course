{
 "cells": [
  {
   "cell_type": "markdown",
   "id": "0c6be3f3",
   "metadata": {},
   "source": [
    "**<font color = black size=6>实验七:聚类</font>**"
   ]
  },
  {
   "cell_type": "code",
   "execution_count": 1,
   "id": "073dcebf",
   "metadata": {},
   "outputs": [],
   "source": [
    "import pandas as pd\n",
    "import numpy as np\n",
    "import matplotlib.pyplot as plt\n",
    "import math\n",
    "import matplotlib as mpl\n",
    "import warnings\n",
    "import random\n",
    "from collections import Counter\n",
    "warnings.filterwarnings('ignore')\n",
    "from pandas.core.frame import DataFrame\n",
    "from matplotlib.axes._axes import _log as matplotlib_axes_logger\n",
    "matplotlib_axes_logger.setLevel('ERROR')"
   ]
  },
  {
   "cell_type": "markdown",
   "id": "1a0fe79b",
   "metadata": {},
   "source": [
    "**<font color = blue size=4>第一部分:实验任务</font>**"
   ]
  },
  {
   "cell_type": "markdown",
   "id": "95f006ef",
   "metadata": {},
   "source": [
    "本任务使用train.csv数据集，共有二维特征【weight】,【height】.本次实验检测使用二类聚类算法: 原型聚类法【K-means】和密度聚类法【DBSCAN】.\n",
    "\n",
    "1)对该数据集进行聚类处理\n",
    "\n",
    "2)聚类完成后进行可视化处理\n",
    "\n",
    "由于层次聚类法计算量大，复杂度高，本次实验任务不做要求，感兴趣的同学可以自行实现。"
   ]
  },
  {
   "cell_type": "markdown",
   "id": "9074b5b1",
   "metadata": {},
   "source": [
    "<span style=\"color:purple\">1.首先编写计算衡量样本间的相似度的距离，这里列举两种距离公式.之后的任务中从两个距离公式中选择一种使用，但需要保证两个任务要使用同样的距离公式</span>\n",
    "    \n",
    "<span style=\"color:purple\">a.曼哈顿距离计算公式:  \n",
    "    对于两个d维的样本$x_i$,$x_j$,他们的曼哈顿距离计算公式为:  \n",
    "    $$dist_{man}(x_i,x_j)=\\sum_{u=1}^d |x_{iu}-x_{ju}|$$\n",
    "其中$x_{iu}$和$x_{ju}$分别为样本$x_i$和$x_j$的第u维特征值</span>\n",
    "\n",
    "<span style=\"color:purple\">b.欧式距离计算公式:  \n",
    "    对于两个d维的样本$x_i$,$x_j$,他们的欧式距离计算公式为:  \n",
    "    $$dist_{ed}(x_i,x_j)=\\sqrt{\\sum_{u=1}^d (x_{iu}-x_{ju})^2}$$\n",
    "其中$x_{iu}$和$x_{ju}$分别为样本$x_i$和$x_j$的第u维特征值</span>"
   ]
  },
  {
   "cell_type": "code",
   "execution_count": 2,
   "id": "b5cf85dd",
   "metadata": {},
   "outputs": [],
   "source": [
    "#曼哈顿距离\n",
    "def manhattan_distance(x, y):\n",
    "    distance = 0\n",
    "    for i in range(len(x)):\n",
    "        distance += abs(x[i] - y[i])\n",
    "    return distance\n",
    "\n",
    "#欧式距离\n",
    "def euclidean_distance(x,y):\n",
    "    distance = 0\n",
    "    for i in range(len(x)):\n",
    "        distance += (x[i] - y[i])**2\n",
    "        distance = distance**0.5\n",
    "    return distance"
   ]
  },
  {
   "cell_type": "markdown",
   "id": "690ecc20",
   "metadata": {},
   "source": [
    "**<font color = green size=3>1):常用聚类算法一: 原型聚类法</font>**"
   ]
  },
  {
   "cell_type": "markdown",
   "id": "61c5ae8d",
   "metadata": {},
   "source": [
    "使用K-means算法对数据集进行聚类处理，具体逻辑参照下面图片所给的伪代码"
   ]
  },
  {
   "cell_type": "code",
   "execution_count": 3,
   "id": "5ba70c8f",
   "metadata": {},
   "outputs": [
    {
     "data": {
      "text/html": [
       "<img src=\"K_means Pseudocode.png\", width=720, heigth=240>\n"
      ],
      "text/plain": [
       "<IPython.core.display.HTML object>"
      ]
     },
     "metadata": {},
     "output_type": "display_data"
    }
   ],
   "source": [
    "%%html\n",
    "<img src=\"K_means Pseudocode.png\", width=720, heigth=240>"
   ]
  },
  {
   "cell_type": "markdown",
   "id": "863deba2",
   "metadata": {},
   "source": [
    "<span style=\"color:purple\">1) 确定聚类数量$k$，然后从数据集D中随机选取$k$个样本作为初始均值向量$\\{\\mu_1,\\mu_2,...,\\mu_{k}\\}$</span>\n"
   ]
  },
  {
   "cell_type": "code",
   "execution_count": 4,
   "id": "a935026e",
   "metadata": {},
   "outputs": [
    {
     "name": "stdout",
     "output_type": "stream",
     "text": [
      "dataset:\n",
      "       Weight      Height\n",
      "0  67.062924  176.086355\n",
      "1  68.804094  178.388669\n",
      "2  60.930863  170.284496\n",
      "3  59.733843  168.691992\n",
      "4  65.431230  173.763679\n",
      "[[66.71668643853911, 171.56539830333062], [69.3097038725317, 177.72608496073366], [63.090109974718246, 169.50335646192002]]\n"
     ]
    }
   ],
   "source": [
    "#加载数据集\n",
    "df = pd.read_csv('./train.csv')\n",
    "print('dataset:\\n',df[:5])\n",
    "\n",
    "#聚类数量\n",
    "k = 3\n",
    "\n",
    "#初始化每个聚类的簇心向量\n",
    "cluster_centroids = []\n",
    "\n",
    "#随机选取k个样本作为初始均值向量\n",
    "cluster_centroids = df.sample(k).values.tolist()\n",
    "\n",
    "#初始化各个聚类集合\n",
    "clusters_set = [set() for _ in range(k)]\n",
    "\n",
    "print(cluster_centroids)\n"
   ]
  },
  {
   "cell_type": "markdown",
   "id": "1ecf8517",
   "metadata": {},
   "source": [
    "<span style=\"color:purple\">2)开始进行迭代。每一轮更新均值向量，直到均值向量不再变化则停止迭代</span>"
   ]
  },
  {
   "cell_type": "markdown",
   "id": "5b133f63",
   "metadata": {},
   "source": [
    "<span style=\"color:purple\">迭代步骤1).遍历每个样本$x_j$,计算其与当前的各个均值向量$\\mu_i$的距离$d_{ji}$，比较与每个均值向量的距离大小:\n",
    "   $$\\lambda_j=arg min_{i \\in \\{1,2,...,k\\}}d_{ji}$$\n",
    "   将其划入与其距离最近的簇中,\n",
    "   $$C_{\\lambda_j}=C_{\\lambda_j}\\bigcup{x_j}$$</span>\n",
    "   \n",
    "<span style=\"color:purple\">迭代步骤2).将所有样本划分完成生成k个簇$\\{C_1,C_2,...,C_k\\}$。对于每个簇$C_i$，计算该簇的新均值向量，公式为:\n",
    "$$\\mu_i^{'}=\\frac{1}{|C_i|}\\sum_{x \\in C_i}x$$</span>\n",
    "\n",
    "<span style=\"color:purple\">迭代步骤3).将更新的均值向量$\\{\\mu_1^{'},\\mu_2^{'},...,\\mu_k^{'}\\}$与该轮未更新前的均值向量$\\{\\mu_1,\\mu_2,...,\\mu_k\\}$进行比较.  如果完全一样，则结束迭代；如果不一样，则继续迭代.</span>"
   ]
  },
  {
   "cell_type": "code",
   "execution_count": 5,
   "id": "0af494f7",
   "metadata": {},
   "outputs": [
    {
     "name": "stdout",
     "output_type": "stream",
     "text": [
      "iter\n",
      "iter\n",
      "iter\n",
      "iter\n",
      "iter\n",
      "iter\n",
      "聚类簇心坐标：\n",
      " [[ 61.97 169.64]\n",
      " [ 67.5  175.96]\n",
      " [ 53.6  162.76]]\n",
      "簇1中的样本个数： 249\n",
      "簇2中的样本个数： 126\n",
      "簇3中的样本个数： 125\n"
     ]
    }
   ],
   "source": [
    "#比较均值向量是否相同\n",
    "def equallist(x, y):\n",
    "    # print('x',x,'\\ny',y)\n",
    "    return np.array_equal(x, y)\n",
    "\n",
    "old_cluster_centroids = [[np.Infinity,np.Infinity] for centroid in cluster_centroids] \n",
    "\n",
    "#迭代过程\n",
    "#until mean vector not update\n",
    "while(not equallist(old_cluster_centroids, cluster_centroids)):\n",
    "    print('iter')\n",
    "    old_cluster_centroids = np.copy(cluster_centroids)\n",
    "    \n",
    "    \n",
    "    clusters_set = [set() for _ in range(k)]\n",
    "        \n",
    "    #计算每个样本与k个聚类的簇心的距离，将其划入距离最近的簇\n",
    "    for idx, row in df.iterrows():\n",
    "        # print(row.to_list())\n",
    "        distances = np.array([euclidean_distance(row,centroid) for centroid in cluster_centroids],dtype=float)\n",
    "        # print(distances)\n",
    "        cluster_assignment = np.argmin(distances)\n",
    "        clusters_set[cluster_assignment].add(idx)\n",
    "        \n",
    "    #更新这轮迭代的簇心\n",
    "    for i in range(k):\n",
    "        cluster_samples = df.loc[clusters_set[i]].values\n",
    "        # 簇存在元素\n",
    "        if len(cluster_samples):\n",
    "            cluster_centroids[i] = np.mean(cluster_samples, axis=0).tolist()\n",
    "    \n",
    "    # print('cluster_centroids',cluster_centroids)\n",
    "    # print('old_cluster_centroids',old_cluster_centroids)\n",
    "            \n",
    "#输出划分的聚类情况 \n",
    "print('聚类簇心坐标：\\n',np.round(cluster_centroids, 2))\n",
    "for i in range(k):\n",
    "    print('簇' + str(i + 1) + '中的样本个数：', len(clusters_set[i]))\n"
   ]
  },
  {
   "cell_type": "markdown",
   "id": "580fc737",
   "metadata": {},
   "source": [
    "<span style=\"color:purple\">3)判断是否有空簇,返回所有非空的簇,空簇丢弃</span>"
   ]
  },
  {
   "cell_type": "code",
   "execution_count": 6,
   "id": "e83319c9",
   "metadata": {},
   "outputs": [
    {
     "name": "stdout",
     "output_type": "stream",
     "text": [
      "[]\n"
     ]
    }
   ],
   "source": [
    "# 判断是否有空簇,返回所有非空的簇,空簇丢弃\n",
    "empty = []\n",
    "for i in range(k):\n",
    "    if len(clusters_set[i])==0:\n",
    "        empty.append(i)\n",
    "        \n",
    "print(empty)\n"
   ]
  },
  {
   "cell_type": "markdown",
   "id": "646b404e",
   "metadata": {},
   "source": [
    "<span style=\"color:purple\">4)将数据集的二维特征值作为绘图的横纵坐标，将所有样本绘制到一张图中，其中同一聚类的样本点绘制为相同颜色</span>"
   ]
  },
  {
   "cell_type": "code",
   "execution_count": 7,
   "id": "9fb41a3f",
   "metadata": {},
   "outputs": [
    {
     "data": {
      "image/png": "[encoded data removed]",
      "text/plain": [
       "<Figure size 640x480 with 1 Axes>"
      ]
     },
     "metadata": {},
     "output_type": "display_data"
    }
   ],
   "source": [
    "\n",
    "# 创建一个新的figure\n",
    "plt.figure()\n",
    "\n",
    "# 定义一个颜色列表，可以根据需要自定义\n",
    "colors = ['r', 'g', 'b', 'c', 'm', 'y', 'k']\n",
    "\n",
    "# 根据聚类标签绘制样本点\n",
    "for i in range(k):\n",
    "    \n",
    "    # 空簇丢弃\n",
    "    if i in empty:\n",
    "        continue\n",
    "    \n",
    "    samples_index = list(clusters_set[i])\n",
    "    # print(samples_index)\n",
    "    samples = df.iloc[samples_index]\n",
    "    \n",
    "    x = samples['Weight'].tolist()\n",
    "    y = samples['Height'].tolist()\n",
    "    # 绘制样本点\n",
    "    plt.scatter(x, y, c=colors[i % len(colors)])\n",
    "\n",
    "# 设置图形标题和轴标签\n",
    "plt.title(f'k-means Result k={k}')\n",
    "plt.xlabel('Weight')\n",
    "plt.ylabel('Height')\n",
    "\n",
    "# 显示图形\n",
    "plt.show()"
   ]
  },
  {
   "cell_type": "markdown",
   "id": "c6c33f0c",
   "metadata": {},
   "source": [
    "**<font color = green size=3>2):常用聚类算法二: 密度聚类法</font>**"
   ]
  },
  {
   "cell_type": "markdown",
   "id": "3c3efd2a",
   "metadata": {},
   "source": [
    "本任务依然使用train.csv数据集，使用DBSCAN算法对数据集进行聚类处理，具体逻辑参照\"图片2:DBSCAN伪代码\"中的伪代码"
   ]
  },
  {
   "cell_type": "markdown",
   "id": "f36c61e2",
   "metadata": {},
   "source": [
    "<span style=\"color:purple\">1)首先编写函数,根据“邻域”参数（epsilon,MinPts），输出该样本的领域对象的样本索引列表.    \n",
    "    【输入】：输入数据集D、当前样本的索引index、 邻域半径epsilon   \n",
    "    【输出】：该样本的邻域对象的样本索引列表</span>"
   ]
  },
  {
   "cell_type": "code",
   "execution_count": 8,
   "id": "79991ad9",
   "metadata": {},
   "outputs": [],
   "source": [
    "def get_neighbors(D, index, epsilon):\n",
    "    \n",
    "    # 初始样本\n",
    "    neighbors = []\n",
    "\n",
    "    # 遍历所有样本\n",
    "    for i in range(len(D)):\n",
    "        # 如果样本与当前样本的距离小于等于邻域半径，则将其加入邻域内\n",
    "        \n",
    "        # Euclidean 范数\n",
    "        # print(D.iloc[i])\n",
    "        # print(D.iloc[index])\n",
    "        diff = D.iloc[i].to_numpy() - D.iloc[index].to_numpy()\n",
    "        # print('diff',diff)\n",
    "        if np.linalg.norm(diff) <= epsilon:\n",
    "            neighbors.append(i)\n",
    "            \n",
    "    return neighbors"
   ]
  },
  {
   "cell_type": "markdown",
   "id": "fb932782",
   "metadata": {},
   "source": [
    "<span style=\"color:purple\">2)编写函数,根据“邻域”参数（epsilon,MinPts），输出数据集D的所有的核心对象.    \n",
    "    【输入】：输入数据集D、当前样本的索引index、邻域参数（epsilon,MinPts）   \n",
    "    【输出】：该数据集D的所有的核心对象</span>"
   ]
  },
  {
   "cell_type": "code",
   "execution_count": 9,
   "id": "f6185ab2",
   "metadata": {},
   "outputs": [],
   "source": [
    "def core_set(D:pd.DataFrame,epsilon,MinPts):\n",
    "    # 初始化核心对象集合\n",
    "    core_objects = []\n",
    "\n",
    "    # 对每个样本进行遍历\n",
    "    for i in range(len(D)):\n",
    "        # 获取邻域内的所有样本的索引\n",
    "        neighbors = get_neighbors(D, i, epsilon)\n",
    "        \n",
    "        # 如果邻域内的样本数量大于等于最小样本数，则将当前样本标记为核心对象\n",
    "        if len(neighbors) >= MinPts:\n",
    "            core_objects.append(i)\n",
    "            \n",
    "    return core_objects\n",
    "\n",
    "# core_set(df,10,20)"
   ]
  },
  {
   "cell_type": "markdown",
   "id": "b4c87583",
   "metadata": {},
   "source": [
    "<span style=\"color:purple\">3)遍历核心对象集合中的所有元素，直至所有核心对象被访问,具体逻辑参照下面图片的伪代码</span>"
   ]
  },
  {
   "cell_type": "code",
   "execution_count": 10,
   "id": "d8fbd151",
   "metadata": {},
   "outputs": [
    {
     "data": {
      "text/html": [
       "<img src=\"DBSCAN Pseudocode.png\", width=720, heigth=240>\n"
      ],
      "text/plain": [
       "<IPython.core.display.HTML object>"
      ]
     },
     "metadata": {},
     "output_type": "display_data"
    }
   ],
   "source": [
    "%%html\n",
    "<img src=\"DBSCAN Pseudocode.png\", width=720, heigth=240>"
   ]
  },
  {
   "cell_type": "code",
   "execution_count": 17,
   "id": "9528263c",
   "metadata": {},
   "outputs": [
    {
     "name": "stdout",
     "output_type": "stream",
     "text": [
      "[0, 9, 13, 17, 18, 19, 24, 50, 51, 59, 60, 62, 80, 89, 92, 93, 104, 110, 112, 114, 119, 121, 123, 126, 127, 141, 145, 149, 157, 168, 179, 187, 198, 219, 256, 271, 282, 284, 298, 305, 316, 319, 326, 335, 340, 353, 369, 389, 398, 408, 431, 448, 449, 456, 467, 469, 473, 483, 487]\n"
     ]
    }
   ],
   "source": [
    "\n",
    "# 初始化参数epsilon,MinPts\n",
    "D = df\n",
    "epsilon = 0.9\n",
    "MinPts = 50\n",
    "\n",
    "# 初始化标签数组，0表示未分类\n",
    "labels = [0] * len(D)\n",
    "# print(labels)\n",
    "\n",
    "# 生成核心对象集合\n",
    "core_objects = core_set(D, epsilon, MinPts)\n",
    "print(core_objects)\n",
    "\n",
    "# 定义当前簇的标签\n",
    "cluster_label = 0\n",
    "\n",
    "# 对核心对象集合进行遍历\n",
    "for core_object in core_objects:\n",
    "    # 如果核心对象已经分类，则跳过\n",
    "    if labels[core_object] != 0:\n",
    "        continue\n",
    "\n",
    "    # 创建一个新的簇，将核心对象标记为该簇\n",
    "    cluster_label += 1\n",
    "    labels[core_object] = cluster_label\n",
    "\n",
    "    # 获取由核心对象密度直达的样本集合Δ\n",
    "    delta = get_neighbors(D, core_object, epsilon)\n",
    "\n",
    "    # 遍历样本集合Δ\n",
    "    while len(delta) > 0:\n",
    "        # 取出一个样本\n",
    "        sample = delta.pop(0)\n",
    "\n",
    "        # 如果样本已经分类，则跳过\n",
    "        if labels[sample] != 0:\n",
    "            continue\n",
    "\n",
    "        # 将样本标记为当前簇\n",
    "        labels[sample] = cluster_label\n",
    "\n",
    "        # 获取由样本密度直达的样本集合Δ'\n",
    "        delta_prime = get_neighbors(D, sample, epsilon)\n",
    "\n",
    "        # 如果样本是核心对象，则将Δ'中的样本加入Δ\n",
    "        if len(delta_prime) >= MinPts:\n",
    "            delta.extend(delta_prime)\n",
    "        "
   ]
  },
  {
   "cell_type": "markdown",
   "id": "85c81b52",
   "metadata": {},
   "source": [
    "<span style=\"color:purple\">4)将数据集的二维特征值作为绘图的横纵坐标，将所有样本绘制到一张图中，其中同一聚类的样本点绘制为相同颜色</span>"
   ]
  },
  {
   "cell_type": "code",
   "execution_count": 18,
   "id": "52c05d1e",
   "metadata": {},
   "outputs": [
    {
     "name": "stdout",
     "output_type": "stream",
     "text": [
      "Counter({0: 272, 2: 82, 1: 74, 3: 72})\n",
      "1\n",
      "[0, 11, 16, 21, 39, 45, 48, 49, 59, 60, 62, 63, 64, 67, 73, 92, 96, 98, 107, 114, 116, 119, 123, 125, 126, 127, 128, 141, 143, 151, 157, 160, 172, 181, 187, 190, 211, 221, 239, 247, 252, 262, 264, 272, 274, 279, 282, 284, 287, 291, 294, 305, 312, 329, 332, 333, 335, 342, 346, 347, 351, 353, 363, 395, 397, 400, 422, 431, 436, 441, 449, 467, 469, 488]\n",
      "0\n",
      "[1, 3, 4, 5, 6, 8, 10, 12, 15, 20, 22, 25, 26, 27, 29, 30, 31, 32, 33, 34, 35, 37, 40, 41, 42, 43, 44, 46, 52, 53, 54, 55, 56, 58, 65, 66, 69, 70, 71, 72, 74, 75, 76, 77, 83, 85, 88, 91, 94, 97, 100, 102, 105, 106, 111, 117, 118, 120, 122, 129, 132, 134, 137, 139, 140, 142, 144, 146, 148, 150, 154, 155, 156, 158, 159, 162, 163, 164, 165, 166, 169, 170, 173, 174, 175, 176, 177, 178, 180, 182, 183, 184, 186, 188, 189, 191, 192, 193, 194, 195, 196, 197, 199, 202, 203, 204, 205, 206, 207, 208, 209, 210, 212, 213, 214, 215, 216, 220, 222, 224, 225, 226, 228, 229, 230, 231, 232, 233, 234, 235, 237, 240, 241, 242, 243, 245, 246, 249, 251, 253, 257, 259, 261, 265, 269, 273, 275, 276, 277, 280, 281, 283, 285, 286, 292, 295, 296, 299, 300, 302, 303, 304, 306, 307, 309, 311, 313, 315, 317, 318, 322, 323, 324, 325, 327, 334, 336, 337, 338, 339, 341, 343, 344, 345, 348, 349, 350, 357, 359, 360, 361, 364, 365, 366, 367, 368, 375, 376, 378, 379, 380, 382, 385, 386, 387, 388, 390, 393, 394, 402, 404, 405, 407, 409, 410, 411, 412, 413, 415, 417, 418, 420, 421, 423, 424, 425, 426, 427, 428, 429, 433, 434, 435, 440, 442, 443, 445, 446, 447, 450, 451, 452, 453, 454, 455, 457, 458, 460, 461, 462, 463, 464, 466, 468, 471, 472, 476, 477, 479, 481, 482, 484, 485, 486, 489, 490, 491, 492, 493, 494, 496, 498]\n",
      "3\n",
      "[2, 7, 14, 17, 19, 24, 47, 68, 78, 79, 81, 84, 95, 99, 104, 108, 130, 136, 138, 147, 152, 153, 161, 167, 198, 201, 227, 236, 248, 250, 254, 260, 266, 267, 270, 278, 288, 289, 290, 298, 319, 320, 321, 326, 330, 331, 352, 354, 355, 358, 362, 370, 371, 372, 374, 396, 399, 401, 403, 414, 419, 432, 438, 439, 444, 465, 470, 474, 478, 480, 495, 499]\n",
      "2\n",
      "[9, 13, 18, 23, 28, 36, 38, 50, 51, 57, 61, 80, 82, 86, 87, 89, 90, 93, 101, 103, 109, 110, 112, 113, 115, 121, 124, 131, 133, 135, 145, 149, 168, 171, 179, 185, 200, 217, 218, 219, 223, 238, 244, 255, 256, 258, 263, 268, 271, 293, 297, 301, 308, 310, 314, 316, 328, 340, 356, 369, 373, 377, 381, 383, 384, 389, 391, 392, 398, 406, 408, 416, 430, 437, 448, 456, 459, 473, 475, 483, 487, 497]\n"
     ]
    },
    {
     "data": {
      "image/png": "[encoded data removed]",
      "text/plain": [
       "<Figure size 640x480 with 1 Axes>"
      ]
     },
     "metadata": {},
     "output_type": "display_data"
    }
   ],
   "source": [
    "# show fig\n",
    "\n",
    "# 创建一个新的figure\n",
    "plt.figure()\n",
    "\n",
    "# 定义一个颜色列表，可以根据需要自定义\n",
    "colors = ['r', 'g', 'b', 'c', 'm', 'y', 'k']\n",
    "\n",
    "c = Counter(labels)\n",
    "print(c)\n",
    "\n",
    "for key in c.keys():\n",
    "    print(key)\n",
    "    index = [ i for i,value in enumerate(labels) if value == key]\n",
    "    print(index)\n",
    "    x = df.iloc[index,0]\n",
    "    y = df.iloc[index,1]\n",
    "    \n",
    "    # 绘制样本点\n",
    "    plt.scatter(x, y, c=colors[key % len(colors)])\n",
    "\n",
    "# 设置图形标题和轴标签\n",
    "plt.title(f'DBSCAN Result epsilon={epsilon} MinPts={MinPts}')\n",
    "plt.xlabel('Weight')\n",
    "plt.ylabel('Height')\n",
    "\n",
    "# 显示图形\n",
    "plt.show()\n",
    "\n"
   ]
  },
  {
   "cell_type": "markdown",
   "id": "f5fd1178",
   "metadata": {},
   "source": [
    "**<font color = blue size=4>第二部分:作业提交</font>**"
   ]
  },
  {
   "cell_type": "markdown",
   "id": "f1c2f1be",
   "metadata": {},
   "source": [
    "一、实验课下课前提交完成代码，如果下课前未完成，请将已经完成的部分进行提交，未完成的部分于之后的实验报告中进行补充  \n",
    "要求:  \n",
    "1)文件格式为：学号-姓名.ipynb  \n",
    "2)【不要】提交文件夹、压缩包、数据集等无关文件，只需提交单个ipynb文件即可，如果交错请到讲台前联系助教，删掉之前的错误版本后再进行提交"
   ]
  },
  {
   "cell_type": "markdown",
   "id": "5f5f9f74",
   "metadata": {},
   "source": [
    "二、本次实验报告下周（11.3 14:20）交  \n",
    "要求：  \n",
    "1)文件格式为：学号-姓名.pdf  \n",
    "2)【不要】提交文件夹、压缩包、代码文件、数据集等任何与实验报告无关的文件，只需要提交单个pdf文件即可  \n",
    "3)文件命名时不需要额外添加“实验几”等额外信息，按照格式提交  \n",
    "4)每周的实验报告提交地址会变化，且有时间限制，提交时间为下周的实验课开始时，请注意及时提交。"
   ]
  },
  {
   "cell_type": "markdown",
   "id": "63978179",
   "metadata": {},
   "source": [
    "实验七(聚类)的实验报告:  \n",
    "截止时间：2023-11-3 14:20  \n",
    "提交地址：https://send2me.cn/iELj8D1c/SQ2D4iOn-q0vHQ"
   ]
  },
  {
   "cell_type": "markdown",
   "id": "b32a2806",
   "metadata": {},
   "source": [
    "三、课堂课件获取地址:https://www.jianguoyun.com/p/DU6WTlcQp5WhChiKxZkFIAA  \n",
    "实验内容获取地址:https://www.jianguoyun.com/p/DTeJc2sQp5WhChiv96IFIAA"
   ]
  }
 ],
 "metadata": {
  "kernelspec": {
   "display_name": "Python 3",
   "language": "python",
   "name": "python3"
  },
  "language_info": {
   "codemirror_mode": {
    "name": "ipython",
    "version": 3
   },
   "file_extension": ".py",
   "mimetype": "text/x-python",
   "name": "python",
   "nbconvert_exporter": "python",
   "pygments_lexer": "ipython3",
   "version": "3.10.9"
  }
 },
 "nbformat": 4,
 "nbformat_minor": 5
}
