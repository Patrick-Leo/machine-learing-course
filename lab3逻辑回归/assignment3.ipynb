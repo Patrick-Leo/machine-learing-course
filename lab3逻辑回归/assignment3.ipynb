{
 "cells": [
  {
   "cell_type": "markdown",
   "id": "498d70fa",
   "metadata": {},
   "source": [
    "**<font color = black size=6>实验三:逻辑回归</font>**"
   ]
  },
  {
   "cell_type": "markdown",
   "id": "fa5c5483",
   "metadata": {},
   "source": [
    "**<font color = blue size=4>第一部分:函数介绍</font>**"
   ]
  },
  {
   "cell_type": "markdown",
   "id": "869f21ce",
   "metadata": {},
   "source": [
    "<span style=\"color:purple\">机器学习所使用的数据集并不一定能够直接进行使用，如可能出现缺失值或者异常值（如异常0或者异常大的数据），又或者是数据类型不适合直接应用于模型训练等。因此，数据预处理是机器学习过程中十分重要的一个部分。<br>本次实验包括数据预处理，包括判断数据是否有缺失值以及异常值、缺失值替换操作、并将部分特征值类型转换为适合模型训练的类型。在进行逻辑回归实验之前，首先介绍下上述操作所用到的python语法。</span>"
   ]
  },
  {
   "cell_type": "markdown",
   "id": "3957a94a",
   "metadata": {},
   "source": [
    "<span style=\"color:purple\">1) 判断一列中是否有缺失值</span>"
   ]
  },
  {
   "cell_type": "code",
   "execution_count": 1,
   "id": "5472add3",
   "metadata": {},
   "outputs": [],
   "source": [
    "import pandas as pd\n",
    "import numpy as np\n",
    "import matplotlib.pyplot as plt\n",
    "import math\n",
    "import matplotlib as mpl\n",
    "# ignore warnings\n",
    "import warnings\n",
    "warnings.filterwarnings('ignore')"
   ]
  },
  {
   "cell_type": "code",
   "execution_count": 2,
   "id": "dc6837f2",
   "metadata": {},
   "outputs": [
    {
     "name": "stdout",
     "output_type": "stream",
     "text": [
      "   height  weight     sex\n",
      "0   170.0    54.0    Male\n",
      "1   180.0     NaN    Male\n",
      "2   164.0    48.0  Female\n",
      "3     NaN    66.0    Male\n",
      "4   176.0     NaN  Female\n",
      "5   162.0    59.0    Male\n",
      "6   154.0    46.0    Male\n",
      "7   155.0    58.0  Female\n",
      "8   165.0     0.0  Female\n",
      "9     NaN    50.0  Female\n"
     ]
    }
   ],
   "source": [
    "#通过pandas将csv文件转换为dataframe格式后进行操作\n",
    "train1_frame = pd.read_csv('introduction.csv')\n",
    "#该数据描述了不同性别的人的身高和体重数据\n",
    "print(train1_frame)\n",
    "#打印出数据，观察数据异常值情况"
   ]
  },
  {
   "cell_type": "code",
   "execution_count": 3,
   "id": "029c5ac0",
   "metadata": {},
   "outputs": [
    {
     "name": "stdout",
     "output_type": "stream",
     "text": [
      "height    2\n",
      "weight    2\n",
      "sex       0\n",
      "dtype: int64\n",
      "   height  weight     sex\n",
      "0   170.0    54.0    Male\n",
      "1   180.0     NaN    Male\n",
      "2   164.0    48.0  Female\n",
      "3     NaN    66.0    Male\n",
      "4   176.0     NaN  Female\n",
      "5   162.0    59.0    Male\n",
      "6   154.0    46.0    Male\n",
      "7   155.0    58.0  Female\n",
      "8   165.0     0.0  Female\n",
      "9     NaN    50.0  Female\n"
     ]
    }
   ],
   "source": [
    "#可发现数据异常值包括0和空值(即NAN)\n",
    "#判断每一列是否有空值并返回每列空值的数量\n",
    "print(train1_frame.isnull().sum())\n",
    "print(train1_frame)"
   ]
  },
  {
   "cell_type": "markdown",
   "id": "75d469ff",
   "metadata": {},
   "source": [
    "<span style=\"color:purple\">2) 对每一列的缺失值和异常值进行替换操作</span>"
   ]
  },
  {
   "cell_type": "code",
   "execution_count": 4,
   "id": "891fed76",
   "metadata": {},
   "outputs": [
    {
     "name": "stdout",
     "output_type": "stream",
     "text": [
      "   height  weight     sex\n",
      "0   170.0    54.0    Male\n",
      "1   180.0     NaN    Male\n",
      "2   164.0    48.0  Female\n",
      "3     NaN    66.0    Male\n",
      "4   176.0     NaN  Female\n",
      "5   162.0    59.0    Male\n",
      "6   154.0    46.0    Male\n",
      "7   155.0    58.0  Female\n",
      "8   165.0     NaN  Female\n",
      "9     NaN    50.0  Female\n"
     ]
    }
   ],
   "source": [
    "#先将0替换为空值，之后可考虑将空值替换为平均值。\n",
    "train1_frame[['height', 'weight']]=train1_frame[['height', 'weight']].replace(0, np.NaN)\n",
    "print(train1_frame)"
   ]
  },
  {
   "cell_type": "code",
   "execution_count": 5,
   "id": "d42546a4",
   "metadata": {},
   "outputs": [],
   "source": [
    "#替换空值为平均值\n",
    "# 先分离 height 列和weight列\n",
    "height_column = train1_frame['height']\n",
    "weight_column = train1_frame['weight']\n",
    "# 按性别分类并计算每组的平均身高和平均体重\n",
    "mean_height_by_gender = train1_frame.groupby('sex')['height'].transform('mean')\n",
    "mean_weight_by_gender = train1_frame.groupby('sex')['weight'].transform('mean')\n",
    "\n",
    "# 使用每个性别组的平均值来替换缺失值\n",
    "train1_frame['height'].fillna(mean_height_by_gender, inplace=True)\n",
    "train1_frame['weight'].fillna(mean_weight_by_gender, inplace=True)\n",
    "# 打印结果\n"
   ]
  },
  {
   "cell_type": "markdown",
   "id": "d0ea36f6",
   "metadata": {},
   "source": [
    "<span style=\"color:purple\">3) 将标记值从字符串变成容易操作的整数类型</span>"
   ]
  },
  {
   "cell_type": "code",
   "execution_count": 6,
   "id": "8341000e",
   "metadata": {},
   "outputs": [
    {
     "name": "stdout",
     "output_type": "stream",
     "text": [
      "   height  weight  sex\n",
      "0   170.0   54.00    0\n",
      "1   180.0   56.25    0\n",
      "2   164.0   48.00    1\n",
      "3   166.5   66.00    0\n",
      "4   176.0   52.00    1\n",
      "5   162.0   59.00    0\n",
      "6   154.0   46.00    0\n",
      "7   155.0   58.00    1\n",
      "8   165.0   52.00    1\n",
      "9   165.0   50.00    1\n"
     ]
    }
   ],
   "source": [
    "# 将分类的字符串转换为整数进行处理\n",
    "# Male为0，Female为1\n",
    "train1_frame['sex'] = np.where(train1_frame['sex'] == \"Male\", 0, 1)\n",
    "print(train1_frame)"
   ]
  },
  {
   "cell_type": "markdown",
   "id": "ac00368d",
   "metadata": {},
   "source": [
    "<span style=\"color:purple\">4) 可视化分类决策边界</span>"
   ]
  },
  {
   "cell_type": "code",
   "execution_count": 7,
   "id": "f4314e6f",
   "metadata": {},
   "outputs": [
    {
     "data": {
      "image/png": "[encoded data removed]",
      "text/plain": [
       "<Figure size 1000x500 with 1 Axes>"
      ]
     },
     "metadata": {},
     "output_type": "display_data"
    }
   ],
   "source": [
    "#确定图画边界和大小\n",
    "plt.figure(figsize=(10,5))\n",
    "x_min, x_max = 0,10\n",
    "y_min, y_max = 0,5\n",
    "#使用numpy中的meshgrid生成网格矩阵，方便进行之后的描点\n",
    "boundary_x, boundary_y = np.meshgrid(np.arange(x_min, x_max, 0.01),np.arange(y_min, y_max, 0.01))\n",
    "grid = np.c_[boundary_x.ravel(), boundary_y.ravel()]\n",
    "\n",
    "#加入偏置(或w_0)对应的特征为1的一列\n",
    "e=np.ones((len(grid),1))\n",
    "grid=np.c_[e,grid]\n",
    "#假定下列的模型参数\n",
    "w=np.array([[0],[3],[-6]])\n",
    "#计算出网格点中每个点对应的逻辑回归预测值\n",
    "z=grid.dot(w)\n",
    "for i in range(len(z)):\n",
    "    z[i][0]=(1/(1+np.exp(-z[i][0])))\n",
    "    if(z[i][0]<0.5):z[i][0]=0\n",
    "    else:z[i][0]=1\n",
    "#转换shape以作出决策边界\n",
    "z=z.reshape(boundary_x.shape)\n",
    "plt.contourf(boundary_x, boundary_y, z, cmap=plt.cm.Spectral, zorder=1)\n",
    "plt.show()\n"
   ]
  },
  {
   "cell_type": "markdown",
   "id": "8ab1eff8",
   "metadata": {},
   "source": [
    "<span style=\"color:purple\">5) 散点图</span>"
   ]
  },
  {
   "cell_type": "code",
   "execution_count": 8,
   "id": "8c07701a",
   "metadata": {},
   "outputs": [
    {
     "data": {
      "image/png": "[encoded data removed]",
      "text/plain": [
       "<Figure size 640x480 with 1 Axes>"
      ]
     },
     "metadata": {},
     "output_type": "display_data"
    }
   ],
   "source": [
    "\"\"\"\n",
    "可使用plt.scatter来绘制出测试集的每个样本点,并设置指定颜色来区分预测正确和错误的样本\n",
    "plt.scatter(x,y,c=\"color\"),x、y为坐标值,c为指定颜色\n",
    "\"\"\"\n",
    "\n",
    "class_1=train1_frame[train1_frame['sex']==1]# female\n",
    "class_0=train1_frame[train1_frame['sex']==0]# male\n",
    "plt.scatter(class_1['height'],class_1['weight'],c='blue',label='female')# female\n",
    "plt.scatter(class_0['height'],class_0['weight'],c='red',label='male')# male\n",
    "plt.legend()\n",
    "plt.show()"
   ]
  },
  {
   "cell_type": "markdown",
   "id": "657beb0c",
   "metadata": {},
   "source": [
    "**<font color = blue size=4>第二部分:逻辑回归</font>**"
   ]
  },
  {
   "cell_type": "code",
   "execution_count": 9,
   "id": "226badd7",
   "metadata": {},
   "outputs": [],
   "source": [
    "import pandas as pd\n",
    "import numpy as np\n",
    "import matplotlib.pyplot as plt\n",
    "import math\n",
    "import matplotlib as mpl"
   ]
  },
  {
   "cell_type": "markdown",
   "id": "7a0bdb6f",
   "metadata": {},
   "source": [
    "数据集（鸢尾花卉数据集）是常用的分类实验数据集,是一类多重变量分析的数据集。我们实验选取数据集的部分内容，包含训练集80个数据样本和测试20个样本。每个数据有2个属性：花萼长度 ($x_1$)，花萼宽度($x_2$)。通过这2个属性预测鸢尾花卉属于（Setosa，Versicolour）二个种类中的哪一类。"
   ]
  },
  {
   "cell_type": "markdown",
   "id": "70d2906a",
   "metadata": {},
   "source": [
    "<span>1) 使用pandas库将训练数据集'flower_train.csv'与测试数据集'flower_test.csv'载入到Dataframe对象中。判断训练集中每列数据是否有缺失值或者不合理的数值，如果有，请进行数据预处理。测试集为完好的数据集，不需要进行预处理。由于花卉类型(type)为字符串类型，请将训练集和测试集中花卉类型转换为适合模型训练的类型</span>"
   ]
  },
  {
   "cell_type": "code",
   "execution_count": 10,
   "id": "f59640f4",
   "metadata": {},
   "outputs": [
    {
     "name": "stdout",
     "output_type": "stream",
     "text": [
      "Index(['x1', 'x2', 'type'], dtype='object')\n",
      "x1      5\n",
      "x2      6\n",
      "type    0\n",
      "dtype: int64\n",
      "after----\n",
      "x1      0\n",
      "x2      0\n",
      "type    0\n",
      "dtype: int64\n",
      "          x1        x2             type\n",
      "0   5.032432  3.500000      Iris-setosa\n",
      "1   4.900000  3.000000      Iris-setosa\n",
      "2   4.700000  3.200000      Iris-setosa\n",
      "3   4.600000  3.100000      Iris-setosa\n",
      "4   5.000000  3.600000      Iris-setosa\n",
      "..       ...       ...              ...\n",
      "75  5.700000  2.748649  Iris-versicolor\n",
      "76  5.700000  2.900000  Iris-versicolor\n",
      "77  6.200000  2.900000  Iris-versicolor\n",
      "78  5.100000  2.748649  Iris-versicolor\n",
      "79  5.700000  2.800000  Iris-versicolor\n",
      "\n",
      "[80 rows x 3 columns]\n",
      "         x1        x2  type\n",
      "0  5.032432  3.500000     0\n",
      "1  4.900000  3.000000     0\n",
      "2  4.700000  3.200000     0\n",
      "3  4.600000  3.100000     0\n",
      "4  5.000000  3.600000     0\n",
      "5  5.400000  3.900000     0\n",
      "6  4.600000  3.443243     0\n",
      "7  5.000000  3.400000     0\n",
      "8  4.400000  2.900000     0\n",
      "9  4.900000  3.100000     0\n",
      "         x1        x2  type\n",
      "0  5.032432  3.500000     0\n",
      "1  4.900000  3.000000     0\n",
      "2  4.700000  3.200000     0\n",
      "3  4.600000  3.100000     0\n",
      "4  5.000000  3.600000     0\n",
      "5  5.400000  3.900000     0\n",
      "6  4.600000  3.443243     0\n",
      "7  5.000000  3.400000     0\n",
      "8  4.400000  2.900000     0\n",
      "9  4.900000  3.100000     0\n"
     ]
    }
   ],
   "source": [
    "# 预处理数据集\n",
    "flower_train_df = pd.read_csv('flower_train.csv')\n",
    "flower_test_df = pd.read_csv('flower_test.csv')\n",
    "\n",
    "print(flower_train_df.columns)\n",
    "print(flower_train_df.isnull().sum())\n",
    "# 先将0替换为nan\n",
    "flower_train_df.replace(0,np.NaN,inplace=True)\n",
    "# 替换为平均值\n",
    "flower_train_ave_x1_by_type = flower_train_df.groupby(['type'])['x1'].transform('mean')\n",
    "flower_train_ave_x2_by_type = flower_train_df.groupby(['type'])['x2'].transform('mean')\n",
    "flower_train_df['x1'].fillna(flower_train_ave_x1_by_type,inplace=True)\n",
    "flower_train_df['x2'].fillna(flower_train_ave_x2_by_type,inplace=True)\n",
    "print('after----')\n",
    "print(flower_train_df.isnull().sum())\n",
    "print(flower_train_df)\n",
    "\n",
    "# 将type转换为整数\n",
    "flower_train_df['type'] = np.where(flower_train_df['type']=='Iris-setosa',0,1) # Iris-setosa为0\n",
    "print(flower_train_df[:10])\n",
    "flower_test_df['type'] = np.where(flower_test_df['type']=='Iris-setosa',0,1) # Iris-setosa为0\n",
    "print(flower_train_df[:10])"
   ]
  },
  {
   "cell_type": "markdown",
   "id": "75b2fd55",
   "metadata": {},
   "source": [
    "<span>2线性模型为$y=\\omega^T x$，在这里，我们将偏置量b当成模型参数$w_0$，并额外引入$x_0=1$这一特征。请相应地往测试集和训练集添加$x_0=1$这一特征。\n",
    " \n",
    "tips:上一次实验中的矩阵求解析解的方法中，需要往特征中加入一列全1的特征量，此处类似。</span>"
   ]
  },
  {
   "cell_type": "code",
   "execution_count": 11,
   "id": "6c2c4001",
   "metadata": {},
   "outputs": [
    {
     "name": "stdout",
     "output_type": "stream",
     "text": [
      "          x1        x2  type  x0\n",
      "0   5.032432  3.500000     0   1\n",
      "1   4.900000  3.000000     0   1\n",
      "2   4.700000  3.200000     0   1\n",
      "3   4.600000  3.100000     0   1\n",
      "4   5.000000  3.600000     0   1\n",
      "..       ...       ...   ...  ..\n",
      "75  5.700000  2.748649     1   1\n",
      "76  5.700000  2.900000     1   1\n",
      "77  6.200000  2.900000     1   1\n",
      "78  5.100000  2.748649     1   1\n",
      "79  5.700000  2.800000     1   1\n",
      "\n",
      "[80 rows x 4 columns]\n",
      "     x1   x2  type  x0\n",
      "0   5.0  3.5     0   1\n",
      "1   4.5  2.3     0   1\n",
      "2   4.4  3.2     0   1\n",
      "3   5.0  3.6     0   1\n",
      "4   5.1  3.8     0   1\n",
      "5   4.8  3.0     0   1\n",
      "6   5.1  3.7     0   1\n",
      "7   4.6  3.2     0   1\n",
      "8   5.3  3.7     0   1\n",
      "9   5.0  3.3     0   1\n",
      "10  7.0  3.2     1   1\n",
      "11  6.4  3.2     1   1\n",
      "12  6.9  3.1     1   1\n",
      "13  5.5  2.3     1   1\n",
      "14  6.5  2.8     1   1\n",
      "15  5.7  2.8     1   1\n",
      "16  6.0  3.5     1   1\n",
      "17  4.9  2.4     1   1\n",
      "18  6.6  2.9     1   1\n",
      "19  5.2  2.7     1   1\n"
     ]
    }
   ],
   "source": [
    "# 添加全1的特征量\n",
    "flower_train_df['x0'] = np.ones((flower_train_df.shape[0],1),dtype=int)\n",
    "flower_test_df['x0'] = np.ones((flower_test_df.shape[0],1),dtype=int)  \n",
    "print(flower_train_df)\n",
    "print(flower_test_df)"
   ]
  },
  {
   "cell_type": "markdown",
   "id": "fec5c2ed",
   "metadata": {},
   "source": [
    "3) 由于逻辑回归的原理是用逻辑函数把线性回归的结果(-∞,∞)映射到(0,1)所以逻辑回归适合于二分类问题。我们使用sigmoid函数$g(z)=\\frac{1}{1+e^{-z}}$将把线性回归的结果从(-∞,∞)映射到(0,1)。  \n",
    "    假设模型为线性回归模型$\\hat{y}=\\omega_0+\\omega_1 x_1+\\omega_2 x_2+...+\\omega_n x_n=\\omega^T x$，则在给定样本特征$x$,其标记$y=1$的概率为$$P(y=1|x,w)=\\frac{1}{1+e^{-\\omega^T x}}$$  \n",
    "    对应于任意一个样本(${x_i}$,$y_i$),其中$x_i$为特征值，$y_i$为实际标记值,在参数$\\omega$下，该样本发生的概率为$$P(y_i|x_i,\\omega)=y_i{P(y_i=1|x_i,\\omega)}+({1-y_i}){P(y_i=0|x_i,\\omega)}$$\n",
    "    将每个样本发生概率相乘，得到似然函数:$$\\Pi^m_{i=1}{P(y_i|x_i,\\omega)}$$\n",
    "    为了计算方便，一般取对数得到对数似然函数:$$L(\\omega)=\\sum^m_{i=1}{lnP(y_i|x_i,\\omega)}$$  \n",
    "    我们总是希望出现预测正确的概率的可能性最大，即想要得到极大化似然函数对应的参数$\\omega$。我们进一步将最大化似然函数就转变为最小化似然函数的负数，以方便使用梯度下降法进行求解。取负的平均对数似然函数为损失函数,通过这样构建的损失函数$$J(\\omega)=-\\frac{1}{m}\\sum^m_{i=1}{lnP(y_i|x_i,\\omega)}=-\\frac{1}{m}\\sum^m_{i=1}ln(y_i\\frac{1}{1+e^{-\\omega^T x_i}}+(1-y_i)\\frac{e^{-\\omega^T x_i}}{1+e^{-\\omega^T x_i}})$$  \n",
    "    手动实现梯度下降法(不使用机器学习框架，如PyTorch、TensorFlow等)来进行模型的训练."
   ]
  },
  {
   "cell_type": "markdown",
   "id": "f1a81c73",
   "metadata": {},
   "source": [
    "算法步骤如下：①初始化模型参数$\\omega$的值；②在负梯度的方向上更新参数(由于该实验涉及样本数量较小，建议使用批量梯度下降)，并不断迭代这一步骤."
   ]
  },
  {
   "cell_type": "markdown",
   "id": "4e922340",
   "metadata": {},
   "source": [
    "<span style=\"color:purple\">其中梯度的下降偏导公式为\n",
    "    $$\\frac{\\partial J}{\\partial \\omega_j}=\\frac{1}{m}\\sum_{i=1}^m x_{ij}(\\frac{e^{\\omega^T x_i}}{1+e^{\\omega^T x_i}}-y_i)$$  \n",
    "    参数更新的公式为$$\\omega_j =\\omega_j-\\eta\\frac{\\partial J}{\\partial w_j}$$其中$\\eta$表示学习率，$m$则表示批量中的样本数量，$x_{ij}$代表着第i个样本的第j个特征值,$y_i$代表着第i个样本的真实值</span>\n"
   ]
  },
  {
   "cell_type": "code",
   "execution_count": 13,
   "id": "8a92473b",
   "metadata": {},
   "outputs": [
    {
     "name": "stdout",
     "output_type": "stream",
     "text": [
      "break\n",
      "[-1.18144888  4.36249594 -7.21793743]\n"
     ]
    }
   ],
   "source": [
    "# 计算概率\n",
    "# 初始值 w0 w1 w2\n",
    "w = np.array([0,0,0])\n",
    "x = flower_train_df[['x0','x1','x2']].to_numpy()\n",
    "y = flower_train_df[['type']].to_numpy()\n",
    "\n",
    "\n",
    "def sigmoid(z):\n",
    "    return 1 / (1 + np.exp(-z))\n",
    "\n",
    "# 定义损失函数\n",
    "def loss_function(X, y, w, l):\n",
    "    m = X.shape[0]\n",
    "    h = sigmoid(X.dot(w))\n",
    "    loss = (-1/m) * (y.T.dot(np.log(h)) + (1-y).T.dot(np.log(1-h)))\n",
    "    # 增加L2正则项\n",
    "    loss = loss + (-1/m) * l * np.sum(np.square(w))\n",
    "\n",
    "    return loss\n",
    "\n",
    "# 定义梯度计算函数\n",
    "def compute_gradient(X, y, w, l):\n",
    "    m = X.shape[0]\n",
    "    h = sigmoid(X.dot(w)).reshape(-1,1)\n",
    "    # 添加L2正则项\n",
    "    gradient = (1/m) * (np.sum(X.T.dot(h - y),axis=1) + l * w)\n",
    "    return gradient\n",
    "\n",
    "\n",
    "# 梯度下降计算\n",
    "# 参数设置\n",
    "learning_rate = 0.5\n",
    "num_iter = 100000\n",
    "m = x.shape[0]\n",
    "min_step = 0.0001\n",
    "l = 0.1# 正则化参数\n",
    "\n",
    "# 迭代计算\n",
    "for i in range(num_iter):\n",
    "    \n",
    "    gradient = compute_gradient(x, y, w, l)\n",
    "    # 当迭代的差异量小于一个值，停止迭代\n",
    "    if(np.abs(learning_rate * gradient).max() < min_step):\n",
    "        print('break')\n",
    "        break\n",
    "    # step\n",
    "    w = w - learning_rate * gradient\n",
    "    \n",
    "print(w)"
   ]
  },
  {
   "cell_type": "markdown",
   "id": "b24f2e7e",
   "metadata": {},
   "source": [
    "4)在模型训练完成后得到所训练的模型参数$\\omega$，在测试集上进行所训练模型的测试并使用之前所介绍的损失函数计算loss值"
   ]
  },
  {
   "cell_type": "code",
   "execution_count": 68,
   "id": "a4253a5c",
   "metadata": {},
   "outputs": [
    {
     "name": "stdout",
     "output_type": "stream",
     "text": [
      "[0.37680504]\n"
     ]
    }
   ],
   "source": [
    "# 计算LOSS值\n",
    "x_test = flower_test_df[['x0','x1','x2']].to_numpy()\n",
    "y_test = flower_test_df[['type']].to_numpy()\n",
    "y_predict = 1/(1+np.exp(-x_test@w))\n",
    "\n",
    "# 计算概率函数\n",
    "loss = loss_function(x_test,y_test,w)\n",
    "\n",
    "print(loss)\n"
   ]
  },
  {
   "cell_type": "markdown",
   "id": "dd339060",
   "metadata": {},
   "source": [
    "5)使用训练后的逻辑回归模型对测试数据集'flower_test.csv'进行预测，输出可视化结果（比如用seaborn或者matplotlib等可视化库来画出测试数据的散点图以及训练好的模型函数图像)，要求如下:  \n",
    "    1.将所得到的逻辑回归模型所得到的决策边界绘制出来  \n",
    "  2.测试集的所有点在同一幅图中进行绘制  \n",
    "  3.需要给不同类别的测试点不同颜色，方便通过颜色的区别直观看到预测正确和错误的样本"
   ]
  },
  {
   "cell_type": "code",
   "execution_count": 69,
   "id": "3597e87c",
   "metadata": {},
   "outputs": [
    {
     "data": {
      "image/png": "[encoded data removed]",
      "text/plain": [
       "<Figure size 640x480 with 1 Axes>"
      ]
     },
     "metadata": {},
     "output_type": "display_data"
    },
    {
     "name": "stdout",
     "output_type": "stream",
     "text": [
      "     x1   x2  type  x0       predict\n",
      "0   5.0  3.5     0   1  2.903693e-08\n",
      "1   4.5  2.3     0   1  9.989865e-01\n",
      "2   4.4  3.2     0   1  3.113769e-09\n",
      "3   5.0  3.6     0   1  1.859476e-09\n",
      "4   5.1  3.8     0   1  4.371805e-11\n",
      "5   4.8  3.0     0   1  8.196234e-04\n",
      "6   5.1  3.7     0   1  6.826861e-10\n",
      "7   4.6  3.2     0   1  1.023453e-07\n",
      "8   5.3  3.7     0   1  2.243896e-08\n",
      "9   5.0  3.3     0   1  7.080571e-06\n",
      "10  7.0  3.2     1   1  1.000000e+00\n",
      "11  6.4  3.2     1   1  9.999998e-01\n",
      "12  6.9  3.1     1   1  1.000000e+00\n",
      "13  5.5  2.3     1   1  1.000000e+00\n",
      "14  6.5  2.8     1   1  1.000000e+00\n",
      "15  5.7  2.8     1   1  9.999993e-01\n",
      "16  6.0  3.5     1   1  5.269483e-01\n",
      "17  4.9  2.4     1   1  9.999853e-01\n",
      "18  6.6  2.9     1   1  1.000000e+00\n",
      "19  5.2  2.7     1   1  9.997038e-01\n",
      "     x1   x2  type  x0  predict\n",
      "0   5.0  3.5     0   1        0\n",
      "1   4.5  2.3     0   1        1\n",
      "2   4.4  3.2     0   1        0\n",
      "3   5.0  3.6     0   1        0\n",
      "4   5.1  3.8     0   1        0\n",
      "5   4.8  3.0     0   1        0\n",
      "6   5.1  3.7     0   1        0\n",
      "7   4.6  3.2     0   1        0\n",
      "8   5.3  3.7     0   1        0\n",
      "9   5.0  3.3     0   1        0\n",
      "10  7.0  3.2     1   1        1\n",
      "11  6.4  3.2     1   1        1\n",
      "12  6.9  3.1     1   1        1\n",
      "13  5.5  2.3     1   1        1\n",
      "14  6.5  2.8     1   1        1\n",
      "15  5.7  2.8     1   1        1\n",
      "16  6.0  3.5     1   1        1\n",
      "17  4.9  2.4     1   1        1\n",
      "18  6.6  2.9     1   1        1\n",
      "19  5.2  2.7     1   1        1\n"
     ]
    },
    {
     "data": {
      "image/png": "[encoded data removed]",
      "text/plain": [
       "<Figure size 1000x500 with 1 Axes>"
      ]
     },
     "metadata": {},
     "output_type": "display_data"
    }
   ],
   "source": [
    "# 原始分布\n",
    "class_1=flower_test_df[flower_test_df['type']==1]# \n",
    "class_0=flower_test_df[flower_test_df['type']==0]# Iris-setosa\n",
    "plt.scatter(class_1['x1'],class_1['x2'],c='blue',label='Iris-versicolor')# female\n",
    "plt.scatter(class_0['x1'],class_0['x2'],c='red',label='Iris-setosa')# male\n",
    "\n",
    "plt.legend()\n",
    "plt.show() \n",
    "\n",
    "# 预测分布\n",
    "flower_test_df['predict'] = y_predict.reshape(-1,1)\n",
    "print(flower_test_df)\n",
    "flower_test_df['predict'] = np.where(flower_test_df['predict'] >= 0.5, 1, 0)\n",
    "print(flower_test_df)\n",
    "\n",
    "#确定图画边界和大小\n",
    "plt.figure(figsize=(10,5))\n",
    "x_min, x_max = 0,10\n",
    "y_min, y_max = 0,5\n",
    "#使用numpy中的meshgrid生成网格矩阵，方便进行之后的描点\n",
    "boundary_x, boundary_y = np.meshgrid(np.arange(x_min, x_max, 0.01),np.arange(y_min, y_max, 0.01))\n",
    "grid = np.c_[boundary_x.ravel(), boundary_y.ravel()]\n",
    "#加入偏置(或w_0)对应的特征为1的一列\n",
    "e=np.ones((len(grid),1))\n",
    "grid=np.c_[e,grid]\n",
    "#假定下列的模型参数\n",
    "w=w.reshape(-1,1)\n",
    "\n",
    "#计算出网格点中每个点对应的逻辑回归预测值\n",
    "z=grid.dot(w)\n",
    "for i in range(len(z)):\n",
    "    z[i][0]=(1/(1+np.exp(-z[i][0])))\n",
    "    if(z[i][0]<0.5):z[i][0]=0\n",
    "    else:z[i][0]=1\n",
    "#转换shape以作出决策边界\n",
    "z=z.reshape(boundary_x.shape)\n",
    "plt.contourf(boundary_x, boundary_y, z, cmap=plt.cm.Spectral, zorder=1)\n",
    "\n",
    "#画预测点\n",
    "for row in range(flower_test_df.shape[0]):\n",
    "    _type = 'Iris-versicolor' if flower_test_df['type'][row] == 1 else 'Iris-setosa'\n",
    "    _rgb = 'blue' if flower_test_df['type'][row] == 1 else 'red'\n",
    "    plt.scatter(flower_test_df['x1'][row],flower_test_df['x2'][row],label=_type,color=_rgb)\n",
    "\n",
    "# 去除重复的图例项\n",
    "handles, labels = plt.gca().get_legend_handles_labels()\n",
    "by_label = dict(zip(labels, handles))\n",
    "unique_labels = list(set(labels))\n",
    "unique_handles = [by_label[label] for label in unique_labels]\n",
    "\n",
    "# 绘图和显示图例\n",
    "plt.legend(unique_handles, unique_labels)\n",
    "plt.show()\n"
   ]
  },
  {
   "cell_type": "markdown",
   "id": "b869bee1",
   "metadata": {},
   "source": [
    "**<font color = blue size=4>第三部分:逻辑回归实验二</font>**"
   ]
  },
  {
   "cell_type": "markdown",
   "id": "cf3a5a55",
   "metadata": {},
   "source": [
    "<span style=\"color:purple\">该数据集(train_titanic.csv和test_titanic.csv)同样为分类数据集，为泰坦尼克号的乘客信息以及最后是否生还。每个包括了七个特征值以及标记(代表是否生还),特征信息分别为Passengerid(乘客id)，Age(乘客年龄)，Fare(船票价格),Sex(性别)，sibsp(堂兄弟妹个数)，Parch(父母与小孩的个数)，Pclass(乘客等级)</span>"
   ]
  },
  {
   "cell_type": "markdown",
   "id": "f4a492fe",
   "metadata": {},
   "source": [
    "<span style=\"color:purple\">该数据集已经做了处理，无缺失值和空值，且字符串类型全部转换成了整数类型，你们需要进行判断，在七个特征值至少选择四个你认为与最后是否生还关联度高的特征类别。该实验的任务依然是在训练集上使用逻辑回归方法和手动实现的梯度下降方法完成模型训练。</span>"
   ]
  },
  {
   "cell_type": "code",
   "execution_count": 70,
   "id": "7ebd3c1e",
   "metadata": {},
   "outputs": [],
   "source": [
    "import pandas as pd\n",
    "import numpy as np\n",
    "import matplotlib.pyplot as plt\n",
    "import math"
   ]
  },
  {
   "cell_type": "markdown",
   "id": "915ff106",
   "metadata": {},
   "source": [
    "<span style=\"color:purple\">1) 使用pandas库将训练数据集'train_titanic.csv'与测试数据集'test_titanic.csv'载入到Dataframe对象中</span>"
   ]
  },
  {
   "cell_type": "code",
   "execution_count": 71,
   "id": "7056ffde",
   "metadata": {},
   "outputs": [
    {
     "name": "stdout",
     "output_type": "stream",
     "text": [
      "     Passengerid   Age     Fare  Sex  sibsp  Parch  Pclass  Survived\n",
      "0            471  28.0   7.2500    0      0      0       3         0\n",
      "1            472  38.0   8.6625    0      0      0       3         0\n",
      "2            473  33.0  27.7500    1      1      2       2         1\n",
      "3            474  23.0  13.7917    1      0      0       2         1\n",
      "4            475  22.0   9.8375    1      0      0       3         0\n",
      "..           ...   ...      ...  ...    ...    ...     ...       ...\n",
      "295          766  51.0  77.9583    1      1      0       1         1\n",
      "296          767  28.0  39.6000    0      0      0       1         0\n",
      "297          768  30.5   7.7500    1      0      0       3         0\n",
      "298          769  28.0  24.1500    0      1      0       3         0\n",
      "299          770  32.0   8.3625    0      0      0       3         0\n",
      "\n",
      "[300 rows x 8 columns]\n"
     ]
    },
    {
     "data": {
      "text/plain": [
       "'\\n综合考虑，选择乘客年龄、性别、父母与小孩个数、乘客等级\\n'"
      ]
     },
     "execution_count": 71,
     "metadata": {},
     "output_type": "execute_result"
    }
   ],
   "source": [
    "# 导入数据\n",
    "titanic_test_df = pd.DataFrame()\n",
    "titanic_train_df = pd.DataFrame()\n",
    "titanic_test_df = pd.read_csv('test_titanic.csv')\n",
    "titanic_train_df = pd.read_csv('train_titanic.csv')\n",
    "\n",
    "print(titanic_test_df)\n",
    "\n",
    "# 选择至少四个与最后是否生还关联度高的特征类别\n",
    "# 1. 乘客id——是否生还与id没有关系\n",
    "# 2. 乘客年龄——有关联，老年人行动不便\n",
    "# 3. 船票价格——认为无关\n",
    "# 4. 性别——认为有关\n",
    "# 5. 堂兄妹个数——认为无关\n",
    "# 6. 父母与小孩个数——认为有关\n",
    "# 7. 乘客等级——认为有关\n",
    "\n",
    "'''\n",
    "综合考虑，选择乘客年龄、性别、父母与小孩个数、乘客等级\n",
    "'''"
   ]
  },
  {
   "cell_type": "markdown",
   "id": "9abde442",
   "metadata": {},
   "source": [
    "<span style=\"color:purple\">2)利用上个实验所使用的梯度下降方法(由于该数据集样本数量较大，所以建议使用随机批量或小批量)进行模型训练</span>"
   ]
  },
  {
   "cell_type": "code",
   "execution_count": 72,
   "id": "55e62317",
   "metadata": {},
   "outputs": [
    {
     "name": "stdout",
     "output_type": "stream",
     "text": [
      "break\n",
      "break\n",
      "break\n",
      "break\n",
      "break\n",
      "break\n",
      "break\n",
      "break\n",
      "break\n",
      "break\n",
      "break\n",
      "[ 0.61537229 -0.03071175  3.14760727 -0.28573034 -1.86396886]\n"
     ]
    }
   ],
   "source": [
    "# # 计算概率\n",
    "# 初始值 w0 w1 w2\n",
    "w = np.array([0,0,0,0,0])\n",
    "x = titanic_train_df[['Age','Sex','Parch','Pclass']].to_numpy()\n",
    "y = titanic_train_df[['Survived']].to_numpy()\n",
    "x = np.hstack((np.ones((x.shape[0],1)),x))\n",
    "# 计算概率函数\n",
    "# flower_train_probability = 1/(1+np.exp(-x@w))\n",
    "# print(flower_train_probability)\n",
    "# 计算似然函数\n",
    "# likelihood_func = flower_train_probability.sum()\n",
    "# print(likelihood_func)\n",
    "# 计算对数似然函数\n",
    "# log_likelihood_func = np.log(1 / flower_train_probability).sum()\n",
    "# 损失函数\n",
    "# J = (-1/m)*log_likelihood_func\n",
    "\n",
    "def sigmoid(z):\n",
    "    return 1 / (1 + np.exp(-z))\n",
    "\n",
    "# 定义损失函数\n",
    "def loss_function(X, y, w):\n",
    "    m = X.shape[0]\n",
    "    h = sigmoid(X.dot(w))\n",
    "    loss = (-1/m) * (y.T.dot(np.log(h)) + (1-y).T.dot(np.log(1-h)))\n",
    "    return loss\n",
    "\n",
    "# 定义梯度计算函数\n",
    "def compute_gradient(X, y, w):\n",
    "    m = X.shape[0]\n",
    "    h = sigmoid(X.dot(w)).reshape(-1,1)\n",
    "    gradient = (1/m) * (np.sum(X.T.dot(h - y),axis=1))\n",
    "    return gradient\n",
    "\n",
    "\n",
    "# 梯度下降计算\n",
    "# 参数设置\n",
    "learning_rate = 0.005\n",
    "num_iter = 100000\n",
    "m = x.shape[0]\n",
    "min_step = 0.0001\n",
    "batch_size = 100\n",
    "\n",
    "\n",
    "# minibatch分割\n",
    "def split_into_mini_batches(data, labels, batch_size):\n",
    "    # 获取数据集的总样本数\n",
    "    total_samples = data.shape[0]\n",
    "    \n",
    "    # 随机打乱数据集的顺序\n",
    "    indices = np.random.permutation(total_samples)\n",
    "    shuffled_data = data[indices]\n",
    "    shuffled_labels = labels[indices]\n",
    "    \n",
    "    mini_batches = []\n",
    "    num_batches = total_samples // batch_size\n",
    "    \n",
    "    # 将数据集划分成 mini-batches\n",
    "    for batch_num in range(num_batches):\n",
    "        start_index = batch_num * batch_size\n",
    "        end_index = (batch_num + 1) * batch_size\n",
    "        mini_batch_data = shuffled_data[start_index:end_index]\n",
    "        mini_batch_labels = shuffled_labels[start_index:end_index]\n",
    "        mini_batch = (mini_batch_data, mini_batch_labels)\n",
    "        mini_batches.append(mini_batch)\n",
    "    \n",
    "    # 处理剩余的样本（如果有）\n",
    "    if total_samples % batch_size != 0:\n",
    "        start_index = num_batches * batch_size\n",
    "        mini_batch_data = shuffled_data[start_index:]\n",
    "        mini_batch_labels = shuffled_labels[start_index:]\n",
    "        mini_batch = (mini_batch_data, mini_batch_labels)\n",
    "        mini_batches.append(mini_batch)\n",
    "    \n",
    "    return mini_batches\n",
    "\n",
    "# 分割数据\n",
    "mini_batches = split_into_mini_batches(x, y, batch_size)\n",
    "for mini_batch_data, mini_batch_labels in mini_batches:\n",
    "    # 在每个 mini-batch 上更新模型参数\n",
    "    # 迭代计算\n",
    "    for i in range(num_iter):\n",
    "        \n",
    "        gradient = compute_gradient(mini_batch_data, mini_batch_labels, w)\n",
    "        # 当迭代的差异量小于一个值，停止迭代\n",
    "        if(np.abs(learning_rate * gradient).max() < min_step):\n",
    "            print('break')\n",
    "            break\n",
    "        # step forward\n",
    "        w = w - learning_rate * gradient\n",
    "    \n",
    "# 打印结果\n",
    "print(w)"
   ]
  },
  {
   "cell_type": "markdown",
   "id": "95f698bc",
   "metadata": {},
   "source": [
    "<span style=\"color:purple\">3) 使用训练后的逻辑回归模型对测试数据集'test_titanic.csv'进行预测，并计算其loss值：</span>"
   ]
  },
  {
   "cell_type": "code",
   "execution_count": 73,
   "id": "4dd020b7",
   "metadata": {},
   "outputs": [
    {
     "name": "stdout",
     "output_type": "stream",
     "text": [
      "[0.85694902]\n",
      "     Passengerid   Age     Fare  Sex  sibsp  Parch  Pclass  Survived  predict\n",
      "0            471  28.0   7.2500    0      0      0       3         0        0\n",
      "1            472  38.0   8.6625    0      0      0       3         0        0\n",
      "2            473  33.0  27.7500    1      1      2       2         1        0\n",
      "3            474  23.0  13.7917    1      0      0       2         1        0\n",
      "4            475  22.0   9.8375    1      0      0       3         0        0\n",
      "..           ...   ...      ...  ...    ...    ...     ...       ...      ...\n",
      "295          766  51.0  77.9583    1      1      0       1         1        1\n",
      "296          767  28.0  39.6000    0      0      0       1         0        0\n",
      "297          768  30.5   7.7500    1      0      0       3         0        0\n",
      "298          769  28.0  24.1500    0      1      0       3         0        0\n",
      "299          770  32.0   8.3625    0      0      0       3         0        0\n",
      "\n",
      "[300 rows x 9 columns]\n"
     ]
    }
   ],
   "source": [
    "\n",
    "# 计算LOSS值\n",
    "x_test = titanic_test_df[['Age','Sex','Parch','Pclass']].to_numpy()\n",
    "x_test = np.hstack((np.ones((x_test.shape[0],1)),x_test))\n",
    "y_test = titanic_test_df[['Survived']].to_numpy()\n",
    "y_predict = 1/(1+np.exp(-x_test@w))\n",
    "\n",
    "# 计算概率函数\n",
    "loss = loss_function(x_test,y_test,w)\n",
    "print(loss)\n",
    "\n",
    "# 预测分布\n",
    "titanic_test_df['predict'] = y_predict.reshape(-1,1)\n",
    "# print(titanic_test_df)\n",
    "titanic_test_df['predict'] = np.where(titanic_test_df['predict'] >= 0.5, 1, 0)\n",
    "print(titanic_test_df)\n",
    "\n"
   ]
  },
  {
   "cell_type": "code",
   "execution_count": null,
   "metadata": {},
   "outputs": [],
   "source": []
  },
  {
   "cell_type": "markdown",
   "id": "354bddd7",
   "metadata": {},
   "source": [
    "**<font color = blue size=4>第四部分:作业提交链接</font>**"
   ]
  },
  {
   "cell_type": "markdown",
   "id": "35a454a5",
   "metadata": {},
   "source": [
    "1.实验报告提交链接(有效期直至9.22 14:20): https://send2me.cn/uohF8xm-/SvKmbAQRlFSKqQ\n",
    "\n",
    "实验报告需包含：内容，代码，解释，结果，总结"
   ]
  },
  {
   "cell_type": "markdown",
   "id": "be05c034",
   "metadata": {},
   "source": [
    "2.实验课件获取链接: https://www.jianguoyun.com/p/DZzHw20Qp5WhChjwoZwFIAA"
   ]
  }
 ],
 "metadata": {
  "kernelspec": {
   "display_name": "Python 3",
   "language": "python",
   "name": "python3"
  },
  "language_info": {
   "codemirror_mode": {
    "name": "ipython",
    "version": 3
   },
   "file_extension": ".py",
   "mimetype": "text/x-python",
   "name": "python",
   "nbconvert_exporter": "python",
   "pygments_lexer": "ipython3",
   "version": "3.10.9"
  }
 },
 "nbformat": 4,
 "nbformat_minor": 5
}
