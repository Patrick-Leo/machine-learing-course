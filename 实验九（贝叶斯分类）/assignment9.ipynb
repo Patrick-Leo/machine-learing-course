{
 "cells": [
  {
   "cell_type": "markdown",
   "id": "dcc9ef1a",
   "metadata": {},
   "source": [
    "**<font color = black size=6>实验九:贝叶斯分类</font>**"
   ]
  },
  {
   "cell_type": "code",
   "execution_count": 1,
   "id": "ef6f7c39",
   "metadata": {},
   "outputs": [],
   "source": [
    "from collections import Counter\n",
    "import numpy as np\n",
    "import pandas as pd\n",
    "import matplotlib.pyplot as plt\n",
    "import math"
   ]
  },
  {
   "cell_type": "markdown",
   "id": "83ab07c9",
   "metadata": {},
   "source": [
    "**<font color = blue size=4>第一部分:实验任务</font>**"
   ]
  },
  {
   "cell_type": "markdown",
   "id": "76a0aa2c",
   "metadata": {},
   "source": [
    "1.朴素贝叶斯"
   ]
  },
  {
   "cell_type": "markdown",
   "metadata": {},
   "source": [
    "<img src='./Naive Bayes Classifier Pseudocode.jpg'>"
   ]
  },
  {
   "cell_type": "markdown",
   "id": "5365ec76",
   "metadata": {},
   "source": [
    "<span style=\"color:purple\">该数据集(train_mushroom.csv)为分类数据集，为蘑菇的特征信息以及是否有毒。包括了13个特征以及一个标签(即为label类型,代表是否有毒)。label='p'代表有毒，label='e'代表无毒。</span>"
   ]
  },
  {
   "cell_type": "markdown",
   "id": "ba6819a7",
   "metadata": {},
   "source": [
    "<span style=\"color:purple\">1) 将训练数据集'train_mushroom.csv'和'test_mushroom.csv'载入并转换为你需要的格式</span>"
   ]
  },
  {
   "cell_type": "code",
   "execution_count": 2,
   "id": "8474772f",
   "metadata": {},
   "outputs": [
    {
     "name": "stdout",
     "output_type": "stream",
     "text": [
      "500\n",
      "100\n",
      "  cap-shape cap-surface cap-color bruises odor gill-spacing gill-size  \\\n",
      "0         s           n         t       p    f            n         k   \n",
      "1         s           y         t       a    f            b         k   \n",
      "2         s           w         t       l    f            b         n   \n",
      "\n",
      "  gill-color ring-number ring-type spore-print-color population habitat label  \n",
      "0          e           p         k                 s          u       x     p  \n",
      "1          e           p         n                 n          g       x     e  \n",
      "2          e           p         n                 n          m       b     e  \n",
      "  cap-shape cap-surface cap-color bruises odor gill-spacing gill-size  \\\n",
      "0         k           y         n       f    s            c         n   \n",
      "1         b           f         g       f    n            w         b   \n",
      "2         b           s         g       f    n            w         b   \n",
      "\n",
      "  gill-color ring-number ring-type spore-print-color population habitat label  \n",
      "0          b           o         e                 w          v       d     p  \n",
      "1          g           t         p                 w          s       g     e  \n",
      "2          p           t         p                 w          n       g     e  \n"
     ]
    }
   ],
   "source": [
    "train_df = pd.read_csv('./train_mushroom.csv')\n",
    "test_df = pd.read_csv('./test_mushroom.csv')\n",
    "\n",
    "print(train_df.shape[0])\n",
    "print(test_df.shape[0])\n",
    "print(train_df[:3])\n",
    "print(test_df[:3])"
   ]
  },
  {
   "cell_type": "markdown",
   "id": "7ea73a75",
   "metadata": {},
   "source": [
    "2) 计算每个标签值y对应的先验概率P(y)\n",
    "$$P(y)=\\frac{|D_y|}{|D|}$$\n",
    "其中$D_y$为标签值为y的样本集合，$|D_y|$为这个集合的样本个数；D为所有样本集合，|D|为所有样本个数\n",
    "\n"
   ]
  },
  {
   "cell_type": "code",
   "execution_count": 3,
   "metadata": {},
   "outputs": [
    {
     "name": "stdout",
     "output_type": "stream",
     "text": [
      "Counter({'e': 295, 'p': 205})\n",
      "{'p': 0.41, 'e': 0.59}\n"
     ]
    }
   ],
   "source": [
    "# 计算每个标签值y对应的先验概率P(y)\n",
    "train_len = len(train_df)\n",
    "probability_y = {}\n",
    "couter_y = Counter(train_df['label'])\n",
    "print(couter_y)\n",
    "\n",
    "for label, count in couter_y.items():\n",
    "    probability_y[label] = count / train_len\n",
    "\n",
    "print(probability_y)"
   ]
  },
  {
   "cell_type": "markdown",
   "id": "24730295",
   "metadata": {},
   "source": [
    "<span style=\"color:purple\">3) \n",
    "对于数据集中的每个特征的非重复特征值$x_i$，计算给定标签值y时特征值$x_i$的条件概率$P(x_i│y)$,\n",
    "$$P(x_i│y)=\\frac{|D_{x_i,y}|}{|D_y|}$$\n",
    "$D_{x_i,y}$为标签值为y，特征值为$x_i$的样本集合；$|D_{x_i,y}|$为该集合的样本个数\n",
    "</span>"
   ]
  },
  {
   "cell_type": "code",
   "execution_count": 4,
   "id": "752e4961",
   "metadata": {},
   "outputs": [
    {
     "name": "stdout",
     "output_type": "stream",
     "text": [
      "defaultdict(<class 'set'>, {})\n",
      "defaultdict(<class 'set'>, {'cap-shape': {'s', 'f', 'y', 'k', 'b', 'x', 'c'}, 'cap-surface': {'w', 'n', 's', 'f', 'y', 'g'}, 'cap-color': {'w', 'n', 'u', 'p', 'r', 'f', 'y', 'b', 'g', 't', 'e', 'c'}, 'bruises': {'n', 'l', 'p', 'f', 'a', 't'}, 'odor': {'n', 'f', 'y', 's'}, 'gill-spacing': {'w', 'n', 'c', 'b'}, 'gill-size': {'w', 'n', 'h', 'p', 'k', 'b', 'g'}, 'gill-color': {'w', 'h', 'p', 'r', 'b', 'g', 't', 'e'}, 'ring-number': {'p', 't', 'o', 'e'}, 'ring-type': {'n', 'u', 'l', 'p', 'f', 'k', 'e'}, 'spore-print-color': {'w', 'n', 's', 'h', 'r', 'y', 'a', 'v'}, 'population': {'u', 's', 'p', 'y', 'd', 'm', 'g', 'v', 'c'}, 'habitat': {'w', 'u', 'l', 's', 'p', 'f', 'b', 'd', 'm', 'g', 'x'}})\n",
      "len of Dp:205 len of De is:295\n",
      "{'cap-shape': {'s': 0.05853658536585366, 'f': 0.36097560975609755, 'y': 0.11219512195121951, 'k': 0.0, 'b': 0.03902439024390244, 'x': 0.424390243902439, 'c': 0.004878048780487805}, 'cap-surface': {'w': 0.1073170731707317, 'n': 0.06341463414634146, 's': 0.2682926829268293, 'f': 0.05853658536585366, 'y': 0.5024390243902439, 'g': 0.0}, 'cap-color': {'w': 0.14146341463414633, 'n': 0.17560975609756097, 'u': 0.0, 'p': 0.02926829268292683, 'r': 0.0, 'f': 0.00975609756097561, 'y': 0.2146341463414634, 'b': 0.08780487804878048, 'g': 0.12682926829268293, 't': 0.17073170731707318, 'e': 0.04390243902439024, 'c': 0.0}, 'bruises': {'n': 0.00975609756097561, 'l': 0.004878048780487805, 'p': 0.14634146341463414, 'f': 0.4975609756097561, 'a': 0.01951219512195122, 't': 0.32195121951219513}, 'odor': {'n': 0.0975609756097561, 'f': 0.7317073170731707, 'y': 0.11707317073170732, 's': 0.05365853658536585}, 'gill-spacing': {'w': 0.004878048780487805, 'n': 0.16097560975609757, 'c': 0.8146341463414634, 'b': 0.01951219512195122}, 'gill-size': {'w': 0.02926829268292683, 'n': 0.2731707317073171, 'h': 0.0, 'p': 0.03414634146341464, 'k': 0.07317073170731707, 'b': 0.5853658536585366, 'g': 0.004878048780487805}, 'gill-color': {'w': 0.11707317073170732, 'h': 0.12682926829268293, 'p': 0.1902439024390244, 'r': 0.03902439024390244, 'b': 0.2146341463414634, 'g': 0.13170731707317074, 't': 0.004878048780487805, 'e': 0.17560975609756097}, 'ring-number': {'p': 0.18048780487804877, 't': 0.07804878048780488, 'o': 0.7414634146341463, 'e': 0.0}, 'ring-type': {'n': 0.09268292682926829, 'u': 0.004878048780487805, 'l': 0.2682926829268293, 'p': 0.32195121951219513, 'f': 0.0, 'k': 0.08292682926829269, 'e': 0.22926829268292684}, 'spore-print-color': {'w': 0.23414634146341465, 'n': 0.014634146341463415, 's': 0.06341463414634146, 'h': 0.5073170731707317, 'r': 0.07804878048780488, 'y': 0.0, 'a': 0.0, 'v': 0.1024390243902439}, 'population': {'u': 0.09268292682926829, 's': 0.08780487804878048, 'p': 0.0, 'y': 0.12682926829268293, 'd': 0.004878048780487805, 'm': 0.014634146341463415, 'g': 0.06829268292682927, 'v': 0.6, 'c': 0.004878048780487805}, 'habitat': {'w': 0.0, 'u': 0.0975609756097561, 'l': 0.06341463414634146, 's': 0.00975609756097561, 'p': 0.17560975609756097, 'f': 0.00975609756097561, 'b': 0.014634146341463415, 'd': 0.17073170731707318, 'm': 0.04878048780487805, 'g': 0.2634146341463415, 'x': 0.14634146341463414}}\n",
      "{'cap-shape': {'s': 0.29152542372881357, 'f': 0.23728813559322035, 'y': 0.3254237288135593, 'k': 0.06779661016949153, 'b': 0.0, 'x': 0.07796610169491526, 'c': 0.0}, 'cap-surface': {'w': 0.2847457627118644, 'n': 0.12203389830508475, 's': 0.0576271186440678, 'f': 0.013559322033898305, 'y': 0.4576271186440678, 'g': 0.06440677966101695}, 'cap-color': {'w': 0.006779661016949152, 'n': 0.06440677966101695, 'u': 0.006779661016949152, 'p': 0.04745762711864407, 'r': 0.01694915254237288, 'f': 0.14576271186440679, 'y': 0.0, 'b': 0.02711864406779661, 'g': 0.0, 't': 0.6271186440677966, 'e': 0.03728813559322034, 'c': 0.020338983050847456}, 'bruises': {'n': 0.14576271186440679, 'l': 0.33220338983050846, 'p': 0.0, 'f': 0.07457627118644068, 'a': 0.29491525423728815, 't': 0.15254237288135594}, 'odor': {'n': 0.2271186440677966, 'f': 0.7728813559322034, 'y': 0.0, 's': 0.0}, 'gill-spacing': {'w': 0.04406779661016949, 'n': 0.15593220338983052, 'c': 0.18305084745762712, 'b': 0.6169491525423729}, 'gill-size': {'w': 0.2, 'n': 0.2745762711864407, 'h': 0.006779661016949152, 'p': 0.0847457627118644, 'k': 0.13559322033898305, 'b': 0.15254237288135594, 'g': 0.14576271186440679}, 'gill-color': {'w': 0.12542372881355932, 'h': 0.010169491525423728, 'p': 0.006779661016949152, 'r': 0.0, 'b': 0.0, 'g': 0.0, 't': 0.13898305084745763, 'e': 0.7186440677966102}, 'ring-number': {'p': 0.7084745762711865, 't': 0.15254237288135594, 'o': 0.07457627118644068, 'e': 0.06440677966101695}, 'ring-type': {'n': 0.43389830508474575, 'u': 0.02711864406779661, 'l': 0.0, 'p': 0.0, 'f': 0.030508474576271188, 'k': 0.31186440677966104, 'e': 0.19661016949152543}, 'spore-print-color': {'w': 0.19661016949152543, 'n': 0.2, 's': 0.3152542372881356, 'h': 0.030508474576271188, 'r': 0.0, 'y': 0.1152542372881356, 'a': 0.03389830508474576, 'v': 0.10847457627118644}, 'population': {'u': 0.08135593220338982, 's': 0.0, 'p': 0.061016949152542375, 'y': 0.01694915254237288, 'd': 0.07457627118644068, 'm': 0.2, 'g': 0.3559322033898305, 'v': 0.0576271186440678, 'c': 0.15254237288135594}, 'habitat': {'w': 0.15254237288135594, 'u': 0.0, 'l': 0.04406779661016949, 's': 0.03389830508474576, 'p': 0.0, 'f': 0.14576271186440679, 'b': 0.2305084745762712, 'd': 0.030508474576271188, 'm': 0.0, 'g': 0.0, 'x': 0.36271186440677966}}\n"
     ]
    }
   ],
   "source": [
    "\n",
    "from collections import defaultdict\n",
    "\n",
    "# 遍历数据集D中的每个特征，将每个特征的非重复值取出\n",
    "features = train_df.columns[:-1]\n",
    "unique_values = defaultdict(set)#如果访问一个不存在的键，那么就会返回空的set\n",
    "print(unique_values)\n",
    "\n",
    "for feature in features:\n",
    "    unique_values[feature].update(train_df[feature].unique())\n",
    "    \n",
    "print(unique_values)\n",
    "\n",
    "# 根据标签值将数据集D分为两个子数据集，分别包括所有标签值为p的样本和所有标签值为e的样本\n",
    "Dp = train_df[train_df['label'] == 'p']\n",
    "De = train_df[train_df['label'] == 'e']\n",
    "\n",
    "print(f'len of Dp:{len(Dp)} len of De is:{len(De)}')\n",
    "\n",
    "# 定义条件概率的字典\n",
    "conditional_probabilities_p = {}\n",
    "conditional_probabilities_e = {}\n",
    "\n",
    "#以特征cap-shape为例。Dp中cap-shape的非重复值集合为['b' 'c' 'f' 'k' 's' 'x' 'y']，计算条件概率P(cap-shape='b'|label='p'),P(cap-shape='c'|label='p'),...,P(cap-shape='y'|label='p')，\n",
    "#上述对cap-shape特征操作完成后，按照同样的步骤对Dp中的剩余12个特征进行同样的操作\n",
    "\n",
    "# 遍历Dp的每个特征，分别求出该特征每个特征值的条件概率\n",
    "for feature in features:\n",
    "    probabilities = {}\n",
    "\n",
    "    # get unique key of label\n",
    "    for value in unique_values[feature]:\n",
    "        count_p = Dp[Dp[feature] == value].shape[0]\n",
    "        probabilities[value] = count_p / Dp.shape[0]\n",
    "\n",
    "\n",
    "    conditional_probabilities_p[feature] = probabilities\n",
    "\n",
    "# 同样的操作对De进行计算\n",
    "for feature in features:\n",
    "    probabilities = {}\n",
    "\n",
    "    for value in unique_values[feature]:\n",
    "        count_e = De[De[feature] == value].shape[0]\n",
    "        probabilities[value] = count_e / De.shape[0]\n",
    "\n",
    "    conditional_probabilities_e[feature] = probabilities\n",
    "\n",
    "print(conditional_probabilities_p)\n",
    "print(conditional_probabilities_e)\n",
    "\n"
   ]
  },
  {
   "cell_type": "markdown",
   "id": "920340f7",
   "metadata": {},
   "source": [
    "<span style=\"color:purple\">4) \n",
    "编写函数，给定样本$x=(x_1,...,x_i,...,x_d)$以及标签y, 计算其后验概率    \n",
    "输入：样本x，标签y  \n",
    "输出：样本x对应标签y的后验概率  \n",
    "计算后验概率公式:\n",
    "$P(y)\\prod_{i=1}^{d}P(x_i|y)$   \n",
    "    \n",
    "<span style=\"color:purple\">例:  \n",
    "特征和标签：(cap-shape, cap-surface,..., habitat), label  \n",
    "输入: [k, y, n, f, s, c, n, b, o, e, w, v, d], p  \n",
    "输出: P(label='p') $\\times$ P(cap-shape='k'|label='p') $\\times$ ... $\\times$ P(habitat='d'|label='p')</span>"
   ]
  },
  {
   "cell_type": "code",
   "execution_count": 5,
   "id": "703e4ffb",
   "metadata": {},
   "outputs": [],
   "source": [
    "def pro(a:pd.Series,label):\n",
    "    # init\n",
    "    posterior_probability = 0.\n",
    "    \n",
    "    # calculate P(y)\n",
    "    P_y = probability_y[label]\n",
    "    posterior_probability = P_y\n",
    "    # print(P_y)\n",
    "    \n",
    "    # calculate |-|P(xi|y)\n",
    "    conditional_probabilities = {}\n",
    "    if(label=='p'):\n",
    "        conditional_probabilities = conditional_probabilities_p\n",
    "    elif(label=='e'):\n",
    "        conditional_probabilities = conditional_probabilities_e\n",
    "    else:\n",
    "        raise Exception(\"not found label of a!\")\n",
    "    \n",
    "    assert isinstance(conditional_probabilities,dict)\n",
    "    \n",
    "    for feature in features:\n",
    "        xi = a[feature]\n",
    "        # print('xi',xi)\n",
    "        # print(feature)\n",
    "        # print(conditional_probabilities[feature])\n",
    "        if xi not in conditional_probabilities[feature]:\n",
    "            _p = 0\n",
    "        else: \n",
    "            _p = conditional_probabilities[feature][xi]\n",
    "        posterior_probability *= _p\n",
    "        # print(f'condition of {feature} and {xi} and {label} is {_p}')\n",
    "    \n",
    "    # print('posterior_probability',posterior_probability)\n",
    "    return posterior_probability"
   ]
  },
  {
   "cell_type": "markdown",
   "id": "6e2f8294",
   "metadata": {},
   "source": [
    "<span style=\"color:purple\">5) 对测试集中的每个样本a，利用上个步骤所编写的函数，分别求所有可能的标签对应的后验概率，后验概率更大的对应标签即为预测标签。最后与测试集本身标签进行比较计算出准确率</span>"
   ]
  },
  {
   "cell_type": "code",
   "execution_count": 6,
   "id": "720ab16b",
   "metadata": {},
   "outputs": [
    {
     "name": "stdout",
     "output_type": "stream",
     "text": [
      "['p' 'e']\n",
      "acc_rate is : 0.010714285714285714\n"
     ]
    }
   ],
   "source": [
    "acc_num = 0\n",
    "# total_num = 0\n",
    "labels_unique = train_df['label'].unique()\n",
    "print(labels_unique)\n",
    "for index,a in test_df.iterrows():\n",
    "    \n",
    "    # print(a)\n",
    "    posterior_probability = [pro(a,label) for label in labels_unique] \n",
    "    # print(posterior_probability)\n",
    "    # except the [0,0]\n",
    "    if posterior_probability == [0.,0.]:\n",
    "        continue\n",
    "    #\n",
    "    max_p = max(posterior_probability)\n",
    "    max_index = posterior_probability.index(max_p)\n",
    "    max_label = 'p' if max_p == 0 else 'e'\n",
    "    if max_label == a['label']:\n",
    "        acc_num += 1\n",
    "    \n",
    "    # total_num += 1\n",
    "\n",
    "# print(total_num)\n",
    "# acc_rate = acc_num/total_num\n",
    "acc_rate = acc_num/test_df.size\n",
    "print(f'acc_rate is : {acc_rate}') \n",
    "    \n",
    "    \n",
    "    \n",
    "\n",
    "    \n",
    "    "
   ]
  },
  {
   "cell_type": "markdown",
   "id": "09d5da06",
   "metadata": {},
   "source": [
    "2.引入拉普拉斯平滑"
   ]
  },
  {
   "cell_type": "markdown",
   "id": "aaf951b2",
   "metadata": {},
   "source": [
    "<span style=\"color:purple\">1) 首先，请判断是否有某个特征值和某个类没有在训练集中同时出现而使得条件概率为零。如果无，则无需进行下列实验；如果有，请在上个实验的基础上引入拉普拉斯平滑</span>"
   ]
  },
  {
   "cell_type": "code",
   "execution_count": 7,
   "id": "d03dbc02",
   "metadata": {},
   "outputs": [
    {
     "data": {
      "text/plain": [
       "' \\n有某个特征值和某个类没有在训练集中同时出现而使得条件概率为零\\n因为在之前的查找条件概率的时候就发现有不存在的情况,\\n所以加上了当发现条件概率不存在是直接认为是0\\n\\nif xi not in conditional_probabilities[feature]:\\n    _p = 0\\nelse: \\n    _p = conditional_probabilities[feature][xi]\\n    posterior_probability *= _p\\n\\n所以需要引入拉普拉斯平滑\\n'"
      ]
     },
     "execution_count": 7,
     "metadata": {},
     "output_type": "execute_result"
    }
   ],
   "source": [
    "''' \n",
    "有某个特征值和某个类没有在训练集中同时出现而使得条件概率为零\n",
    "因为在之前的查找条件概率的时候就发现有不存在的情况,\n",
    "所以加上了当发现条件概率不存在是直接认为是0\n",
    "\n",
    "if xi not in conditional_probabilities[feature]:\n",
    "    _p = 0\n",
    "else: \n",
    "    _p = conditional_probabilities[feature][xi]\n",
    "    posterior_probability *= _p\n",
    "\n",
    "所以需要引入拉普拉斯平滑\n",
    "'''\n",
    "\n"
   ]
  },
  {
   "cell_type": "markdown",
   "id": "164cf7b7",
   "metadata": {},
   "source": [
    "<span style=\"color:purple\">2) 引入拉普拉斯平滑后计算每个标签y对应的先验概率P(y)\n",
    "$$P(y)=\\frac{|D_y|+1}{|D|+N}$$\n",
    "其中$D_y$为标签为y的样本集合；$|D_y|$为标签为y的集合的样本个数；D为所有样本集合；|D|为所有样本个数;N为标签取值的个数\n",
    "\n",
    "</span>"
   ]
  },
  {
   "cell_type": "code",
   "execution_count": 8,
   "id": "f34423cf",
   "metadata": {},
   "outputs": [
    {
     "name": "stdout",
     "output_type": "stream",
     "text": [
      "Counter({'e': 295, 'p': 205})\n",
      "2\n",
      "{'p': 0.4103585657370518, 'e': 0.5896414342629482}\n"
     ]
    }
   ],
   "source": [
    "'''\n",
    "计算每个标签值y对应的先验概率P(y)\n",
    "'''\n",
    "train_len = len(train_df)\n",
    "probability_y = {}\n",
    "couter_y = Counter(train_df['label'])\n",
    "print(couter_y)\n",
    "N = len(couter_y.keys())\n",
    "print(N)\n",
    "\n",
    "for label, count in couter_y.items():\n",
    "    probability_y[label] = (count+1) / (train_len+N)\n",
    "\n",
    "print(probability_y)\n",
    "\n"
   ]
  },
  {
   "cell_type": "markdown",
   "id": "5fa57e6f",
   "metadata": {},
   "source": [
    "<span style=\"color:purple\">3) 计算数据集中的每个特征的非重复特征值$x_i$对应标签y的条件概率$P(x_i│y)$,\n",
    "    $$P(x_i│y)=\\frac{|D_{x_i,y}|+1}{|D_y|+N_i}$$\n",
    "$D_{x_i,y}$为标签为$y$，特征为$x_i$的样本集合；$|D_{x_i,y}|$为该样本个数;$N_i$为第$i$个特征取值的个数\n",
    "</span>"
   ]
  },
  {
   "cell_type": "code",
   "execution_count": 9,
   "id": "aa1d83cd",
   "metadata": {},
   "outputs": [
    {
     "name": "stdout",
     "output_type": "stream",
     "text": [
      "defaultdict(<class 'set'>, {})\n",
      "defaultdict(<class 'set'>, {'cap-shape': {'s', 'f', 'y', 'k', 'b', 'x', 'c'}, 'cap-surface': {'w', 'n', 's', 'f', 'y', 'g'}, 'cap-color': {'w', 'n', 'u', 'p', 'r', 'f', 'y', 'b', 'g', 't', 'e', 'c'}, 'bruises': {'n', 'l', 'p', 'f', 'a', 't'}, 'odor': {'n', 'f', 'y', 's'}, 'gill-spacing': {'w', 'n', 'c', 'b'}, 'gill-size': {'w', 'n', 'h', 'p', 'k', 'b', 'g'}, 'gill-color': {'w', 'h', 'p', 'r', 'b', 'g', 't', 'e'}, 'ring-number': {'p', 't', 'o', 'e'}, 'ring-type': {'n', 'u', 'l', 'p', 'f', 'k', 'e'}, 'spore-print-color': {'w', 'n', 's', 'h', 'r', 'y', 'a', 'v'}, 'population': {'u', 's', 'p', 'y', 'd', 'm', 'g', 'v', 'c'}, 'habitat': {'w', 'u', 'l', 's', 'p', 'f', 'b', 'd', 'm', 'g', 'x'}})\n",
      "len of Dp:205 len of De is:295\n",
      "{'cap-shape': {'s': 0.06132075471698113, 'f': 0.35377358490566035, 'y': 0.11320754716981132, 'k': 0.0047169811320754715, 'b': 0.04245283018867924, 'x': 0.41509433962264153, 'c': 0.009433962264150943}, 'cap-surface': {'w': 0.10900473933649289, 'n': 0.06635071090047394, 's': 0.26540284360189575, 'f': 0.061611374407582936, 'y': 0.4928909952606635, 'g': 0.004739336492890996}, 'cap-color': {'w': 0.1382488479262673, 'n': 0.17050691244239632, 'u': 0.004608294930875576, 'p': 0.03225806451612903, 'r': 0.004608294930875576, 'f': 0.013824884792626729, 'y': 0.2073732718894009, 'b': 0.08755760368663594, 'g': 0.12442396313364056, 't': 0.16589861751152074, 'e': 0.04608294930875576, 'c': 0.004608294930875576}, 'bruises': {'n': 0.014218009478672985, 'l': 0.009478672985781991, 'p': 0.14691943127962084, 'f': 0.4881516587677725, 'a': 0.023696682464454975, 't': 0.3175355450236967}, 'odor': {'n': 0.10047846889952153, 'f': 0.722488038277512, 'y': 0.11961722488038277, 's': 0.05741626794258373}, 'gill-spacing': {'w': 0.009569377990430622, 'n': 0.16267942583732056, 'c': 0.8038277511961722, 'b': 0.023923444976076555}, 'gill-size': {'w': 0.0330188679245283, 'n': 0.2688679245283019, 'h': 0.0047169811320754715, 'p': 0.03773584905660377, 'k': 0.07547169811320754, 'b': 0.5707547169811321, 'g': 0.009433962264150943}, 'gill-color': {'w': 0.11737089201877934, 'h': 0.1267605633802817, 'p': 0.18779342723004694, 'r': 0.04225352112676056, 'b': 0.2112676056338028, 'g': 0.13145539906103287, 't': 0.009389671361502348, 'e': 0.17370892018779344}, 'ring-number': {'p': 0.18181818181818182, 't': 0.08133971291866028, 'o': 0.7320574162679426, 'e': 0.004784688995215311}, 'ring-type': {'n': 0.09433962264150944, 'u': 0.009433962264150943, 'l': 0.2641509433962264, 'p': 0.3160377358490566, 'f': 0.0047169811320754715, 'k': 0.08490566037735849, 'e': 0.22641509433962265}, 'spore-print-color': {'w': 0.2300469483568075, 'n': 0.018779342723004695, 's': 0.06572769953051644, 'h': 0.49295774647887325, 'r': 0.07981220657276995, 'y': 0.004694835680751174, 'a': 0.004694835680751174, 'v': 0.10328638497652583}, 'population': {'u': 0.09345794392523364, 's': 0.08878504672897196, 'p': 0.004672897196261682, 'y': 0.1261682242990654, 'd': 0.009345794392523364, 'm': 0.018691588785046728, 'g': 0.07009345794392523, 'v': 0.5794392523364486, 'c': 0.009345794392523364}, 'habitat': {'w': 0.004629629629629629, 'u': 0.09722222222222222, 'l': 0.06481481481481481, 's': 0.013888888888888888, 'p': 0.1712962962962963, 'f': 0.013888888888888888, 'b': 0.018518518518518517, 'd': 0.16666666666666666, 'm': 0.05092592592592592, 'g': 0.25462962962962965, 'x': 0.14351851851851852}}\n",
      "{'cap-shape': {'s': 0.28807947019867547, 'f': 0.23509933774834438, 'y': 0.3211920529801324, 'k': 0.0695364238410596, 'b': 0.0033112582781456954, 'x': 0.07947019867549669, 'c': 0.0033112582781456954}, 'cap-surface': {'w': 0.2823920265780731, 'n': 0.12292358803986711, 's': 0.059800664451827246, 'f': 0.016611295681063124, 'y': 0.45182724252491696, 'g': 0.0664451827242525}, 'cap-color': {'w': 0.009771986970684038, 'n': 0.06514657980456026, 'u': 0.009771986970684038, 'p': 0.048859934853420196, 'r': 0.019543973941368076, 'f': 0.14332247557003258, 'y': 0.003257328990228013, 'b': 0.029315960912052116, 'g': 0.003257328990228013, 't': 0.6058631921824105, 'e': 0.03908794788273615, 'c': 0.02280130293159609}, 'bruises': {'n': 0.1461794019933555, 'l': 0.3289036544850498, 'p': 0.0033222591362126247, 'f': 0.07641196013289037, 'a': 0.292358803986711, 't': 0.15282392026578073}, 'odor': {'n': 0.22742474916387959, 'f': 0.7658862876254181, 'y': 0.0033444816053511705, 's': 0.0033444816053511705}, 'gill-spacing': {'w': 0.046822742474916385, 'n': 0.15719063545150502, 'c': 0.18394648829431437, 'b': 0.6120401337792643}, 'gill-size': {'w': 0.1986754966887417, 'n': 0.271523178807947, 'h': 0.009933774834437087, 'p': 0.08609271523178808, 'k': 0.1357615894039735, 'b': 0.152317880794702, 'g': 0.1456953642384106}, 'gill-color': {'w': 0.1254125412541254, 'h': 0.013201320132013201, 'p': 0.009900990099009901, 'r': 0.0033003300330033004, 'b': 0.0033003300330033004, 'g': 0.0033003300330033004, 't': 0.13861386138613863, 'e': 0.7029702970297029}, 'ring-number': {'p': 0.7023411371237458, 't': 0.15384615384615385, 'o': 0.07692307692307693, 'e': 0.06688963210702341}, 'ring-type': {'n': 0.4271523178807947, 'u': 0.029801324503311258, 'l': 0.0033112582781456954, 'p': 0.0033112582781456954, 'f': 0.033112582781456956, 'k': 0.3079470198675497, 'e': 0.19536423841059603}, 'spore-print-color': {'w': 0.19471947194719472, 'n': 0.19801980198019803, 's': 0.3102310231023102, 'h': 0.033003300330033, 'r': 0.0033003300330033004, 'y': 0.11551155115511551, 'a': 0.036303630363036306, 'v': 0.10891089108910891}, 'population': {'u': 0.08223684210526316, 's': 0.003289473684210526, 'p': 0.0625, 'y': 0.019736842105263157, 'd': 0.0756578947368421, 'm': 0.19736842105263158, 'g': 0.34868421052631576, 'v': 0.05921052631578947, 'c': 0.1513157894736842}, 'habitat': {'w': 0.1503267973856209, 'u': 0.0032679738562091504, 'l': 0.0457516339869281, 's': 0.03594771241830065, 'p': 0.0032679738562091504, 'f': 0.1437908496732026, 'b': 0.22549019607843138, 'd': 0.032679738562091505, 'm': 0.0032679738562091504, 'g': 0.0032679738562091504, 'x': 0.35294117647058826}}\n"
     ]
    }
   ],
   "source": [
    "\n",
    "'''\n",
    "计算条件概率\n",
    "\n",
    "--计算条件概率时需要注意引入拉普拉斯平滑--\n",
    "'''\n",
    "from collections import defaultdict\n",
    "\n",
    "# 遍历数据集D中的每个特征，将每个特征的非重复值取出\n",
    "features = train_df.columns[:-1]\n",
    "unique_values = defaultdict(set)#如果访问一个不存在的键，那么就会返回空的set\n",
    "print(unique_values)\n",
    "\n",
    "for feature in features:\n",
    "    unique_values[feature].update(train_df[feature].unique())\n",
    "    \n",
    "print(unique_values)\n",
    "\n",
    "# 根据标签值将数据集D分为两个子数据集，分别包括所有标签值为p的样本和所有标签值为e的样本\n",
    "Dp = train_df[train_df['label'] == 'p']\n",
    "De = train_df[train_df['label'] == 'e']\n",
    "\n",
    "print(f'len of Dp:{len(Dp)} len of De is:{len(De)}')\n",
    "\n",
    "# 定义条件概率的字典\n",
    "conditional_probabilities_p = {}\n",
    "conditional_probabilities_e = {}\n",
    "\n",
    "#以特征cap-shape为例。Dp中cap-shape的非重复值集合为['b' 'c' 'f' 'k' 's' 'x' 'y']，计算条件概率P(cap-shape='b'|label='p'),P(cap-shape='c'|label='p'),...,P(cap-shape='y'|label='p')，\n",
    "#上述对cap-shape特征操作完成后，按照同样的步骤对Dp中的剩余12个特征进行同样的操作\n",
    "\n",
    "# 遍历Dp的每个特征，分别求出该特征每个特征值的条件概率\n",
    "for feature in features:\n",
    "    probabilities = {}\n",
    "\n",
    "    # get unique key of label\n",
    "    for value in unique_values[feature]:\n",
    "        Ni = train_df[feature].unique().shape[0]\n",
    "        # print('Ni',Ni)\n",
    "        count_p = Dp[Dp[feature] == value].shape[0]\n",
    "        probabilities[value] = (count_p+1) / (Dp.shape[0]+Ni)\n",
    "\n",
    "\n",
    "    conditional_probabilities_p[feature] = probabilities\n",
    "\n",
    "# 同样的操作对De进行计算\n",
    "for feature in features:\n",
    "    probabilities = {}\n",
    "\n",
    "    for value in unique_values[feature]:\n",
    "        Ni = train_df[feature].unique().shape[0]\n",
    "        count_e = De[De[feature] == value].shape[0]\n",
    "        probabilities[value] = (count_e+1) / (De.shape[0]+Ni)\n",
    "\n",
    "    conditional_probabilities_e[feature] = probabilities\n",
    "\n",
    "print(conditional_probabilities_p)\n",
    "print(conditional_probabilities_e)\n"
   ]
  },
  {
   "cell_type": "markdown",
   "id": "e9555a74",
   "metadata": {},
   "source": [
    "<span style=\"color:purple\">4) 对测试集中的每个样本a，利用上个步骤所编写的函数，分别求所有可能的标签对应的后验概率，后验概率更大的对应标签即为预测标签，最后与测试集本身标签进行比较计算出准确率</span>"
   ]
  },
  {
   "cell_type": "code",
   "execution_count": 11,
   "id": "99b0941e",
   "metadata": {},
   "outputs": [
    {
     "name": "stdout",
     "output_type": "stream",
     "text": [
      "['p' 'e']\n",
      "[7.665999837752774e-10, 2.8787165683937546e-16]\n",
      "[6.287548144266044e-13, 4.6079146900350027e-23]\n",
      "[0.0, 0.0]\n",
      "[3.6325045385043913e-08, 4.3543611958897136e-17]\n",
      "[0.0, 0.0]\n",
      "[0.0, 0.0]\n",
      "[2.602043675746354e-09, 7.132104026295093e-17]\n",
      "[3.009424752811098e-13, 3.4835835056664624e-21]\n",
      "[0.0, 0.0]\n",
      "[0.0, 0.0]\n",
      "[0.0, 0.0]\n",
      "[9.038701972402352e-11, 3.2004554789789377e-17]\n",
      "[8.057357186827239e-11, 2.4181219174507533e-16]\n",
      "[0.0, 0.0]\n",
      "[7.762405116377833e-14, 2.902986254722052e-21]\n",
      "[8.982211634665776e-13, 1.382374407010501e-22]\n",
      "[0.0, 0.0]\n",
      "[9.914338216093691e-09, 6.592260941621698e-15]\n",
      "[1.5970832995318278e-08, 5.839682181598759e-17]\n",
      "[4.3385769467531276e-11, 3.2004554789789377e-17]\n",
      "[0.0, 0.0]\n",
      "[1.2533864292914792e-09, 9.49461348500534e-16]\n",
      "[9.914338216093691e-09, 6.592260941621698e-15]\n",
      "[3.009424752811099e-12, 4.976547865237804e-22]\n",
      "[2.3887998069920504e-10, 2.2860396278420984e-18]\n",
      "[4.776864687001741e-13, 3.135225155099815e-20]\n",
      "[2.9812221591260784e-10, 4.0302031957512556e-16]\n",
      "[1.6052734702986573e-10, 5.3340924649648963e-17]\n",
      "[0.0, 0.0]\n",
      "[3.34431972978887e-10, 5.3340924649648963e-17]\n",
      "[2.6071305754519566e-09, 3.9553565649730184e-14]\n",
      "[0.0, 0.0]\n",
      "[0.0, 0.0]\n",
      "[0.0, 0.0]\n",
      "[0.0, 0.0]\n",
      "[8.838559285870586e-10, 3.810066046403498e-18]\n",
      "[4.4363424986995217e-10, 1.7272299410362527e-17]\n",
      "[2.942548647193074e-11, 1.1943714876570732e-20]\n",
      "[4.3164413500860204e-10, 1.7272299410362527e-16]\n",
      "[5.489129332295754e-12, 4.2024181973119235e-20]\n",
      "[1.6052734702986573e-10, 5.3340924649648963e-17]\n",
      "[7.234787346879179e-07, 2.2288120326435264e-13]\n",
      "[1.1156340720222328e-10, 2.2860396278420988e-17]\n",
      "[2.956867813348128e-11, 6.240591023008204e-17]\n",
      "[9.038701972402352e-11, 3.2004554789789377e-17]\n",
      "[8.838559285870586e-10, 3.810066046403498e-18]\n",
      "[2.7084822775299895e-12, 1.6588492884126009e-22]\n",
      "[2.9812221591260784e-10, 4.0302031957512556e-16]\n",
      "[5.338489808665834e-09, 8.725051246264011e-16]\n",
      "[0.0, 0.0]\n",
      "[3.751371216900315e-09, 9.229165318270376e-14]\n",
      "[9.038701972402352e-11, 3.2004554789789377e-17]\n",
      "[7.878944277690352e-10, 2.878716568393754e-17]\n",
      "[2.3242376500463188e-10, 2.2860396278420988e-17]\n",
      "[0.0, 0.0]\n",
      "[4.3164413500860204e-10, 1.7272299410362527e-16]\n",
      "[2.07189184804129e-10, 1.7272299410362527e-16]\n",
      "[6.986164604740049e-13, 1.382374407010501e-22]\n",
      "[0.0, 0.0]\n",
      "[2.4182877477946328e-12, 6.303627295967884e-21]\n",
      "[2.1294443993757707e-10, 1.7272299410362527e-17]\n",
      "[8.838559285870586e-10, 3.810066046403498e-18]\n",
      "[4.3164413500860204e-10, 1.7272299410362527e-16]\n",
      "[2.686986386438481e-12, 1.8910881887903648e-20]\n",
      "[1.0528796554709826e-07, 1.769938967099271e-14]\n",
      "[4.1278460664822617e-10, 3.8100660464034976e-17]\n",
      "[4.776864687001741e-13, 3.135225155099815e-20]\n",
      "[4.3164413500860204e-10, 1.7272299410362527e-16]\n",
      "[5.45937599133102e-10, 7.32904304686177e-15]\n",
      "[4.1278460664822617e-10, 3.8100660464034976e-17]\n",
      "[7.773383264329634e-09, 4.2792624157770556e-16]\n",
      "[5.338489808665834e-09, 8.725051246264011e-16]\n",
      "[2.6795508692145112e-09, 3.955356564973018e-15]\n",
      "[6.091751905363334e-13, 1.6129497395952094e-15]\n",
      "[1.0138841126757609e-09, 5.537499190962225e-14]\n",
      "[1.6925915172330651e-09, 1.4264208052590187e-16]\n",
      "[1.4428350834231984e-09, 5.235030747758408e-16]\n",
      "[9.98023514962864e-14, 2.902986254722052e-21]\n",
      "[1.1156340720222328e-10, 2.2860396278420988e-17]\n",
      "[1.4038395406279767e-09, 5.235030747758408e-15]\n",
      "[3.34431972978887e-10, 5.3340924649648963e-17]\n",
      "[6.210879498179331e-10, 4.0302031957512556e-16]\n",
      "[0.0, 0.0]\n",
      "[0.0, 0.0]\n",
      "[2.07189184804129e-10, 1.7272299410362527e-16]\n",
      "[0.0, 0.0]\n",
      "[4.4363424986995217e-10, 1.7272299410362527e-17]\n",
      "[2.3887998069920504e-10, 2.2860396278420984e-18]\n",
      "[2.7084822775299895e-12, 1.6588492884126009e-22]\n",
      "[2.3887998069920504e-10, 2.2860396278420984e-18]\n",
      "[0.0, 0.0]\n",
      "[6.628919464402939e-08, 1.2881651871173734e-17]\n",
      "[2.3242376500463188e-10, 2.2860396278420988e-17]\n",
      "[3.34431972978887e-10, 5.3340924649648963e-17]\n",
      "[6.210879498179331e-10, 4.0302031957512556e-16]\n",
      "[0.0, 0.0]\n",
      "[3.34380528090122e-13, 1.0450750516999385e-20]\n",
      "[3.34431972978887e-10, 5.3340924649648963e-17]\n",
      "[7.234787346879179e-07, 2.2288120326435264e-13]\n",
      "[4.203640924561534e-11, 3.5831144629712195e-20]\n",
      "78\n",
      "acc_rate is : 0.2948717948717949\n"
     ]
    }
   ],
   "source": [
    "'''\n",
    "引入拉普拉斯平滑后\n",
    "'''\n",
    "\n",
    "acc_num = 0\n",
    "total_num = 0\n",
    "labels_unique = train_df['label'].unique()\n",
    "print(labels_unique)\n",
    "for index,a in test_df.iterrows():\n",
    "    \n",
    "    # print(a)\n",
    "    posterior_probability = [pro(a,label) for label in labels_unique] \n",
    "    print(posterior_probability)\n",
    "    # except the [0,0]\n",
    "    if posterior_probability == [0.,0.]:\n",
    "        continue\n",
    "    #\n",
    "    max_p = max(posterior_probability)\n",
    "    max_index = posterior_probability.index(max_p)\n",
    "    max_label = 'p' if max_p == 0 else 'e'\n",
    "    if max_label == a['label']:\n",
    "        acc_num += 1\n",
    "    \n",
    "    total_num += 1\n",
    "\n",
    "print(total_num)\n",
    "acc_rate = acc_num/total_num\n",
    "print(f'acc_rate is : {acc_rate}') \n",
    "    "
   ]
  },
  {
   "cell_type": "markdown",
   "id": "0f6f62e5",
   "metadata": {},
   "source": [
    "**<font color = blue size=4>第二部分:作业提交</font>**"
   ]
  },
  {
   "cell_type": "markdown",
   "id": "e5e1b059",
   "metadata": {},
   "source": [
    "一、实验课下课前提交完成代码，如果下课前未完成，请将已经完成的部分进行提交，未完成的部分于之后的实验报告中进行补充  \n",
    "要求:  \n",
    "1)文件格式为：学号-姓名.ipynb  \n",
    "2)【不要】提交文件夹、压缩包、数据集等无关文件，只需提交单个ipynb文件即可，如果交错请到讲台前联系助教，删掉之前的错误版本后再进行提交"
   ]
  },
  {
   "cell_type": "markdown",
   "id": "8a115318",
   "metadata": {},
   "source": [
    "二、实验报告截止日期： 【11月17日 14:20】\n",
    "要求：  \n",
    "1)文件格式为：学号-姓名.pdf  \n",
    "2)【不要】提交文件夹、压缩包、代码文件、数据集等任何与实验报告无关的文件，只需要提交单个pdf文件即可  \n",
    "3)文件命名时不需要额外添加“实验几”等额外信息，按照格式提交  \n",
    "4)每周的实验报告提交地址会变化，且有时间限制，提交时间为下周的实验课开始时，请注意及时提交。"
   ]
  },
  {
   "cell_type": "markdown",
   "id": "22a2724b",
   "metadata": {},
   "source": [
    "实验九(贝叶斯分类)的实验报告上交地址:https://send2me.cn/ufVNphux/T9yuatQDc00TVw  "
   ]
  },
  {
   "cell_type": "markdown",
   "id": "08f1e971",
   "metadata": {},
   "source": [
    "三、课堂课件获取地址:https://www.jianguoyun.com/p/DRLiP2oQp5WhChjB86YFIAA  \n",
    "实验内容获取地址:https://www.jianguoyun.com/p/DbLessAQp5WhChjD86YFIAA"
   ]
  }
 ],
 "metadata": {
  "kernelspec": {
   "display_name": "Python 3",
   "language": "python",
   "name": "python3"
  },
  "language_info": {
   "codemirror_mode": {
    "name": "ipython",
    "version": 3
   },
   "file_extension": ".py",
   "mimetype": "text/x-python",
   "name": "python",
   "nbconvert_exporter": "python",
   "pygments_lexer": "ipython3",
   "version": "3.10.9"
  }
 },
 "nbformat": 4,
 "nbformat_minor": 5
}
